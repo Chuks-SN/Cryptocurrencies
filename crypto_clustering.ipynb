{
 "cells": [
  {
   "cell_type": "code",
   "execution_count": 10,
   "id": "cdfe00c6",
   "metadata": {},
   "outputs": [],
   "source": [
    "# Initial imports\n",
    "import pandas as pd\n",
    "#import hvplot.pandas\n",
    "from path import Path\n",
    "import plotly.express as px\n",
    "from sklearn.preprocessing import StandardScaler, MinMaxScaler\n",
    "from sklearn.decomposition import PCA\n",
    "from sklearn.cluster import KMeans\n",
    "import hvplot.pandas"
   ]
  },
  {
   "cell_type": "markdown",
   "id": "8bfee3ed",
   "metadata": {},
   "source": [
    "# Deliverable 1: Preprocessing the Data for PCA"
   ]
  },
  {
   "cell_type": "code",
   "execution_count": 11,
   "id": "9a869e95",
   "metadata": {},
   "outputs": [
    {
     "data": {
      "text/html": [
       "<div>\n",
       "<style scoped>\n",
       "    .dataframe tbody tr th:only-of-type {\n",
       "        vertical-align: middle;\n",
       "    }\n",
       "\n",
       "    .dataframe tbody tr th {\n",
       "        vertical-align: top;\n",
       "    }\n",
       "\n",
       "    .dataframe thead th {\n",
       "        text-align: right;\n",
       "    }\n",
       "</style>\n",
       "<table border=\"1\" class=\"dataframe\">\n",
       "  <thead>\n",
       "    <tr style=\"text-align: right;\">\n",
       "      <th></th>\n",
       "      <th>CoinName</th>\n",
       "      <th>Algorithm</th>\n",
       "      <th>IsTrading</th>\n",
       "      <th>ProofType</th>\n",
       "      <th>TotalCoinsMined</th>\n",
       "      <th>TotalCoinSupply</th>\n",
       "    </tr>\n",
       "  </thead>\n",
       "  <tbody>\n",
       "    <tr>\n",
       "      <th>42</th>\n",
       "      <td>42 Coin</td>\n",
       "      <td>Scrypt</td>\n",
       "      <td>True</td>\n",
       "      <td>PoW/PoS</td>\n",
       "      <td>4.199995e+01</td>\n",
       "      <td>42</td>\n",
       "    </tr>\n",
       "    <tr>\n",
       "      <th>365</th>\n",
       "      <td>365Coin</td>\n",
       "      <td>X11</td>\n",
       "      <td>True</td>\n",
       "      <td>PoW/PoS</td>\n",
       "      <td>NaN</td>\n",
       "      <td>2300000000</td>\n",
       "    </tr>\n",
       "    <tr>\n",
       "      <th>404</th>\n",
       "      <td>404Coin</td>\n",
       "      <td>Scrypt</td>\n",
       "      <td>True</td>\n",
       "      <td>PoW/PoS</td>\n",
       "      <td>1.055185e+09</td>\n",
       "      <td>532000000</td>\n",
       "    </tr>\n",
       "    <tr>\n",
       "      <th>611</th>\n",
       "      <td>SixEleven</td>\n",
       "      <td>SHA-256</td>\n",
       "      <td>True</td>\n",
       "      <td>PoW</td>\n",
       "      <td>NaN</td>\n",
       "      <td>611000</td>\n",
       "    </tr>\n",
       "    <tr>\n",
       "      <th>808</th>\n",
       "      <td>808</td>\n",
       "      <td>SHA-256</td>\n",
       "      <td>True</td>\n",
       "      <td>PoW/PoS</td>\n",
       "      <td>0.000000e+00</td>\n",
       "      <td>0</td>\n",
       "    </tr>\n",
       "    <tr>\n",
       "      <th>...</th>\n",
       "      <td>...</td>\n",
       "      <td>...</td>\n",
       "      <td>...</td>\n",
       "      <td>...</td>\n",
       "      <td>...</td>\n",
       "      <td>...</td>\n",
       "    </tr>\n",
       "    <tr>\n",
       "      <th>XBC</th>\n",
       "      <td>BitcoinPlus</td>\n",
       "      <td>Scrypt</td>\n",
       "      <td>True</td>\n",
       "      <td>PoS</td>\n",
       "      <td>1.283270e+05</td>\n",
       "      <td>1000000</td>\n",
       "    </tr>\n",
       "    <tr>\n",
       "      <th>DVTC</th>\n",
       "      <td>DivotyCoin</td>\n",
       "      <td>Scrypt</td>\n",
       "      <td>False</td>\n",
       "      <td>PoW/PoS</td>\n",
       "      <td>2.149121e+07</td>\n",
       "      <td>100000000</td>\n",
       "    </tr>\n",
       "    <tr>\n",
       "      <th>GIOT</th>\n",
       "      <td>Giotto Coin</td>\n",
       "      <td>Scrypt</td>\n",
       "      <td>False</td>\n",
       "      <td>PoW/PoS</td>\n",
       "      <td>NaN</td>\n",
       "      <td>233100000</td>\n",
       "    </tr>\n",
       "    <tr>\n",
       "      <th>OPSC</th>\n",
       "      <td>OpenSourceCoin</td>\n",
       "      <td>SHA-256</td>\n",
       "      <td>False</td>\n",
       "      <td>PoW/PoS</td>\n",
       "      <td>NaN</td>\n",
       "      <td>21000000</td>\n",
       "    </tr>\n",
       "    <tr>\n",
       "      <th>PUNK</th>\n",
       "      <td>SteamPunk</td>\n",
       "      <td>PoS</td>\n",
       "      <td>False</td>\n",
       "      <td>PoS</td>\n",
       "      <td>NaN</td>\n",
       "      <td>40000000</td>\n",
       "    </tr>\n",
       "  </tbody>\n",
       "</table>\n",
       "<p>1252 rows × 6 columns</p>\n",
       "</div>"
      ],
      "text/plain": [
       "            CoinName Algorithm  IsTrading ProofType  TotalCoinsMined  \\\n",
       "42           42 Coin    Scrypt       True   PoW/PoS     4.199995e+01   \n",
       "365          365Coin       X11       True   PoW/PoS              NaN   \n",
       "404          404Coin    Scrypt       True   PoW/PoS     1.055185e+09   \n",
       "611        SixEleven   SHA-256       True       PoW              NaN   \n",
       "808              808   SHA-256       True   PoW/PoS     0.000000e+00   \n",
       "...              ...       ...        ...       ...              ...   \n",
       "XBC      BitcoinPlus    Scrypt       True       PoS     1.283270e+05   \n",
       "DVTC      DivotyCoin    Scrypt      False   PoW/PoS     2.149121e+07   \n",
       "GIOT     Giotto Coin    Scrypt      False   PoW/PoS              NaN   \n",
       "OPSC  OpenSourceCoin   SHA-256      False   PoW/PoS              NaN   \n",
       "PUNK       SteamPunk       PoS      False       PoS              NaN   \n",
       "\n",
       "     TotalCoinSupply  \n",
       "42                42  \n",
       "365       2300000000  \n",
       "404        532000000  \n",
       "611           611000  \n",
       "808                0  \n",
       "...              ...  \n",
       "XBC          1000000  \n",
       "DVTC       100000000  \n",
       "GIOT       233100000  \n",
       "OPSC        21000000  \n",
       "PUNK        40000000  \n",
       "\n",
       "[1252 rows x 6 columns]"
      ]
     },
     "execution_count": 11,
     "metadata": {},
     "output_type": "execute_result"
    }
   ],
   "source": [
    "# Load the crypto_data.csv dataset.\n",
    "file_path = \"Resources/crypto_data.csv\"\n",
    "crypto_df = pd.read_csv(file_path, index_col=0)\n",
    "crypto_df"
   ]
  },
  {
   "cell_type": "code",
   "execution_count": 12,
   "id": "14281465",
   "metadata": {},
   "outputs": [
    {
     "data": {
      "text/html": [
       "<div>\n",
       "<style scoped>\n",
       "    .dataframe tbody tr th:only-of-type {\n",
       "        vertical-align: middle;\n",
       "    }\n",
       "\n",
       "    .dataframe tbody tr th {\n",
       "        vertical-align: top;\n",
       "    }\n",
       "\n",
       "    .dataframe thead th {\n",
       "        text-align: right;\n",
       "    }\n",
       "</style>\n",
       "<table border=\"1\" class=\"dataframe\">\n",
       "  <thead>\n",
       "    <tr style=\"text-align: right;\">\n",
       "      <th></th>\n",
       "      <th>CoinName</th>\n",
       "      <th>Algorithm</th>\n",
       "      <th>IsTrading</th>\n",
       "      <th>ProofType</th>\n",
       "      <th>TotalCoinsMined</th>\n",
       "      <th>TotalCoinSupply</th>\n",
       "    </tr>\n",
       "  </thead>\n",
       "  <tbody>\n",
       "    <tr>\n",
       "      <th>42</th>\n",
       "      <td>42 Coin</td>\n",
       "      <td>Scrypt</td>\n",
       "      <td>True</td>\n",
       "      <td>PoW/PoS</td>\n",
       "      <td>4.199995e+01</td>\n",
       "      <td>42</td>\n",
       "    </tr>\n",
       "    <tr>\n",
       "      <th>365</th>\n",
       "      <td>365Coin</td>\n",
       "      <td>X11</td>\n",
       "      <td>True</td>\n",
       "      <td>PoW/PoS</td>\n",
       "      <td>NaN</td>\n",
       "      <td>2300000000</td>\n",
       "    </tr>\n",
       "    <tr>\n",
       "      <th>404</th>\n",
       "      <td>404Coin</td>\n",
       "      <td>Scrypt</td>\n",
       "      <td>True</td>\n",
       "      <td>PoW/PoS</td>\n",
       "      <td>1.055185e+09</td>\n",
       "      <td>532000000</td>\n",
       "    </tr>\n",
       "    <tr>\n",
       "      <th>611</th>\n",
       "      <td>SixEleven</td>\n",
       "      <td>SHA-256</td>\n",
       "      <td>True</td>\n",
       "      <td>PoW</td>\n",
       "      <td>NaN</td>\n",
       "      <td>611000</td>\n",
       "    </tr>\n",
       "    <tr>\n",
       "      <th>808</th>\n",
       "      <td>808</td>\n",
       "      <td>SHA-256</td>\n",
       "      <td>True</td>\n",
       "      <td>PoW/PoS</td>\n",
       "      <td>0.000000e+00</td>\n",
       "      <td>0</td>\n",
       "    </tr>\n",
       "    <tr>\n",
       "      <th>...</th>\n",
       "      <td>...</td>\n",
       "      <td>...</td>\n",
       "      <td>...</td>\n",
       "      <td>...</td>\n",
       "      <td>...</td>\n",
       "      <td>...</td>\n",
       "    </tr>\n",
       "    <tr>\n",
       "      <th>SERO</th>\n",
       "      <td>Super Zero</td>\n",
       "      <td>Ethash</td>\n",
       "      <td>True</td>\n",
       "      <td>PoW</td>\n",
       "      <td>NaN</td>\n",
       "      <td>1000000000</td>\n",
       "    </tr>\n",
       "    <tr>\n",
       "      <th>UOS</th>\n",
       "      <td>UOS</td>\n",
       "      <td>SHA-256</td>\n",
       "      <td>True</td>\n",
       "      <td>DPoI</td>\n",
       "      <td>NaN</td>\n",
       "      <td>1000000000</td>\n",
       "    </tr>\n",
       "    <tr>\n",
       "      <th>BDX</th>\n",
       "      <td>Beldex</td>\n",
       "      <td>CryptoNight</td>\n",
       "      <td>True</td>\n",
       "      <td>PoW</td>\n",
       "      <td>9.802226e+08</td>\n",
       "      <td>1400222610</td>\n",
       "    </tr>\n",
       "    <tr>\n",
       "      <th>ZEN</th>\n",
       "      <td>Horizen</td>\n",
       "      <td>Equihash</td>\n",
       "      <td>True</td>\n",
       "      <td>PoW</td>\n",
       "      <td>7.296538e+06</td>\n",
       "      <td>21000000</td>\n",
       "    </tr>\n",
       "    <tr>\n",
       "      <th>XBC</th>\n",
       "      <td>BitcoinPlus</td>\n",
       "      <td>Scrypt</td>\n",
       "      <td>True</td>\n",
       "      <td>PoS</td>\n",
       "      <td>1.283270e+05</td>\n",
       "      <td>1000000</td>\n",
       "    </tr>\n",
       "  </tbody>\n",
       "</table>\n",
       "<p>1144 rows × 6 columns</p>\n",
       "</div>"
      ],
      "text/plain": [
       "         CoinName    Algorithm  IsTrading ProofType  TotalCoinsMined  \\\n",
       "42        42 Coin       Scrypt       True   PoW/PoS     4.199995e+01   \n",
       "365       365Coin          X11       True   PoW/PoS              NaN   \n",
       "404       404Coin       Scrypt       True   PoW/PoS     1.055185e+09   \n",
       "611     SixEleven      SHA-256       True       PoW              NaN   \n",
       "808           808      SHA-256       True   PoW/PoS     0.000000e+00   \n",
       "...           ...          ...        ...       ...              ...   \n",
       "SERO   Super Zero       Ethash       True       PoW              NaN   \n",
       "UOS           UOS      SHA-256       True      DPoI              NaN   \n",
       "BDX        Beldex  CryptoNight       True       PoW     9.802226e+08   \n",
       "ZEN       Horizen     Equihash       True       PoW     7.296538e+06   \n",
       "XBC   BitcoinPlus       Scrypt       True       PoS     1.283270e+05   \n",
       "\n",
       "     TotalCoinSupply  \n",
       "42                42  \n",
       "365       2300000000  \n",
       "404        532000000  \n",
       "611           611000  \n",
       "808                0  \n",
       "...              ...  \n",
       "SERO      1000000000  \n",
       "UOS       1000000000  \n",
       "BDX       1400222610  \n",
       "ZEN         21000000  \n",
       "XBC          1000000  \n",
       "\n",
       "[1144 rows x 6 columns]"
      ]
     },
     "execution_count": 12,
     "metadata": {},
     "output_type": "execute_result"
    }
   ],
   "source": [
    "# Keep all the cryptocurrencies that are being traded.\n",
    "crypto_df = crypto_df[crypto_df[\"IsTrading\"]==True]\n",
    "crypto_df"
   ]
  },
  {
   "cell_type": "code",
   "execution_count": 13,
   "id": "55289dc2",
   "metadata": {},
   "outputs": [
    {
     "data": {
      "text/html": [
       "<div>\n",
       "<style scoped>\n",
       "    .dataframe tbody tr th:only-of-type {\n",
       "        vertical-align: middle;\n",
       "    }\n",
       "\n",
       "    .dataframe tbody tr th {\n",
       "        vertical-align: top;\n",
       "    }\n",
       "\n",
       "    .dataframe thead th {\n",
       "        text-align: right;\n",
       "    }\n",
       "</style>\n",
       "<table border=\"1\" class=\"dataframe\">\n",
       "  <thead>\n",
       "    <tr style=\"text-align: right;\">\n",
       "      <th></th>\n",
       "      <th>CoinName</th>\n",
       "      <th>Algorithm</th>\n",
       "      <th>IsTrading</th>\n",
       "      <th>ProofType</th>\n",
       "      <th>TotalCoinsMined</th>\n",
       "      <th>TotalCoinSupply</th>\n",
       "    </tr>\n",
       "  </thead>\n",
       "  <tbody>\n",
       "    <tr>\n",
       "      <th>42</th>\n",
       "      <td>42 Coin</td>\n",
       "      <td>Scrypt</td>\n",
       "      <td>True</td>\n",
       "      <td>PoW/PoS</td>\n",
       "      <td>4.199995e+01</td>\n",
       "      <td>42</td>\n",
       "    </tr>\n",
       "    <tr>\n",
       "      <th>365</th>\n",
       "      <td>365Coin</td>\n",
       "      <td>X11</td>\n",
       "      <td>True</td>\n",
       "      <td>PoW/PoS</td>\n",
       "      <td>NaN</td>\n",
       "      <td>2300000000</td>\n",
       "    </tr>\n",
       "    <tr>\n",
       "      <th>404</th>\n",
       "      <td>404Coin</td>\n",
       "      <td>Scrypt</td>\n",
       "      <td>True</td>\n",
       "      <td>PoW/PoS</td>\n",
       "      <td>1.055185e+09</td>\n",
       "      <td>532000000</td>\n",
       "    </tr>\n",
       "    <tr>\n",
       "      <th>611</th>\n",
       "      <td>SixEleven</td>\n",
       "      <td>SHA-256</td>\n",
       "      <td>True</td>\n",
       "      <td>PoW</td>\n",
       "      <td>NaN</td>\n",
       "      <td>611000</td>\n",
       "    </tr>\n",
       "    <tr>\n",
       "      <th>808</th>\n",
       "      <td>808</td>\n",
       "      <td>SHA-256</td>\n",
       "      <td>True</td>\n",
       "      <td>PoW/PoS</td>\n",
       "      <td>0.000000e+00</td>\n",
       "      <td>0</td>\n",
       "    </tr>\n",
       "    <tr>\n",
       "      <th>...</th>\n",
       "      <td>...</td>\n",
       "      <td>...</td>\n",
       "      <td>...</td>\n",
       "      <td>...</td>\n",
       "      <td>...</td>\n",
       "      <td>...</td>\n",
       "    </tr>\n",
       "    <tr>\n",
       "      <th>SERO</th>\n",
       "      <td>Super Zero</td>\n",
       "      <td>Ethash</td>\n",
       "      <td>True</td>\n",
       "      <td>PoW</td>\n",
       "      <td>NaN</td>\n",
       "      <td>1000000000</td>\n",
       "    </tr>\n",
       "    <tr>\n",
       "      <th>UOS</th>\n",
       "      <td>UOS</td>\n",
       "      <td>SHA-256</td>\n",
       "      <td>True</td>\n",
       "      <td>DPoI</td>\n",
       "      <td>NaN</td>\n",
       "      <td>1000000000</td>\n",
       "    </tr>\n",
       "    <tr>\n",
       "      <th>BDX</th>\n",
       "      <td>Beldex</td>\n",
       "      <td>CryptoNight</td>\n",
       "      <td>True</td>\n",
       "      <td>PoW</td>\n",
       "      <td>9.802226e+08</td>\n",
       "      <td>1400222610</td>\n",
       "    </tr>\n",
       "    <tr>\n",
       "      <th>ZEN</th>\n",
       "      <td>Horizen</td>\n",
       "      <td>Equihash</td>\n",
       "      <td>True</td>\n",
       "      <td>PoW</td>\n",
       "      <td>7.296538e+06</td>\n",
       "      <td>21000000</td>\n",
       "    </tr>\n",
       "    <tr>\n",
       "      <th>XBC</th>\n",
       "      <td>BitcoinPlus</td>\n",
       "      <td>Scrypt</td>\n",
       "      <td>True</td>\n",
       "      <td>PoS</td>\n",
       "      <td>1.283270e+05</td>\n",
       "      <td>1000000</td>\n",
       "    </tr>\n",
       "  </tbody>\n",
       "</table>\n",
       "<p>1144 rows × 6 columns</p>\n",
       "</div>"
      ],
      "text/plain": [
       "         CoinName    Algorithm  IsTrading ProofType  TotalCoinsMined  \\\n",
       "42        42 Coin       Scrypt       True   PoW/PoS     4.199995e+01   \n",
       "365       365Coin          X11       True   PoW/PoS              NaN   \n",
       "404       404Coin       Scrypt       True   PoW/PoS     1.055185e+09   \n",
       "611     SixEleven      SHA-256       True       PoW              NaN   \n",
       "808           808      SHA-256       True   PoW/PoS     0.000000e+00   \n",
       "...           ...          ...        ...       ...              ...   \n",
       "SERO   Super Zero       Ethash       True       PoW              NaN   \n",
       "UOS           UOS      SHA-256       True      DPoI              NaN   \n",
       "BDX        Beldex  CryptoNight       True       PoW     9.802226e+08   \n",
       "ZEN       Horizen     Equihash       True       PoW     7.296538e+06   \n",
       "XBC   BitcoinPlus       Scrypt       True       PoS     1.283270e+05   \n",
       "\n",
       "     TotalCoinSupply  \n",
       "42                42  \n",
       "365       2300000000  \n",
       "404        532000000  \n",
       "611           611000  \n",
       "808                0  \n",
       "...              ...  \n",
       "SERO      1000000000  \n",
       "UOS       1000000000  \n",
       "BDX       1400222610  \n",
       "ZEN         21000000  \n",
       "XBC          1000000  \n",
       "\n",
       "[1144 rows x 6 columns]"
      ]
     },
     "execution_count": 13,
     "metadata": {},
     "output_type": "execute_result"
    }
   ],
   "source": [
    "# Keep all the cryptocurrencies that have a working algorithm.\n",
    "crypto_df = crypto_df[crypto_df.Algorithm.isna()== False]\n",
    "crypto_df"
   ]
  },
  {
   "cell_type": "code",
   "execution_count": 14,
   "id": "b39de832",
   "metadata": {},
   "outputs": [
    {
     "data": {
      "text/html": [
       "<div>\n",
       "<style scoped>\n",
       "    .dataframe tbody tr th:only-of-type {\n",
       "        vertical-align: middle;\n",
       "    }\n",
       "\n",
       "    .dataframe tbody tr th {\n",
       "        vertical-align: top;\n",
       "    }\n",
       "\n",
       "    .dataframe thead th {\n",
       "        text-align: right;\n",
       "    }\n",
       "</style>\n",
       "<table border=\"1\" class=\"dataframe\">\n",
       "  <thead>\n",
       "    <tr style=\"text-align: right;\">\n",
       "      <th></th>\n",
       "      <th>CoinName</th>\n",
       "      <th>Algorithm</th>\n",
       "      <th>ProofType</th>\n",
       "      <th>TotalCoinsMined</th>\n",
       "      <th>TotalCoinSupply</th>\n",
       "    </tr>\n",
       "  </thead>\n",
       "  <tbody>\n",
       "    <tr>\n",
       "      <th>42</th>\n",
       "      <td>42 Coin</td>\n",
       "      <td>Scrypt</td>\n",
       "      <td>PoW/PoS</td>\n",
       "      <td>4.199995e+01</td>\n",
       "      <td>42</td>\n",
       "    </tr>\n",
       "    <tr>\n",
       "      <th>365</th>\n",
       "      <td>365Coin</td>\n",
       "      <td>X11</td>\n",
       "      <td>PoW/PoS</td>\n",
       "      <td>NaN</td>\n",
       "      <td>2300000000</td>\n",
       "    </tr>\n",
       "    <tr>\n",
       "      <th>404</th>\n",
       "      <td>404Coin</td>\n",
       "      <td>Scrypt</td>\n",
       "      <td>PoW/PoS</td>\n",
       "      <td>1.055185e+09</td>\n",
       "      <td>532000000</td>\n",
       "    </tr>\n",
       "    <tr>\n",
       "      <th>611</th>\n",
       "      <td>SixEleven</td>\n",
       "      <td>SHA-256</td>\n",
       "      <td>PoW</td>\n",
       "      <td>NaN</td>\n",
       "      <td>611000</td>\n",
       "    </tr>\n",
       "    <tr>\n",
       "      <th>808</th>\n",
       "      <td>808</td>\n",
       "      <td>SHA-256</td>\n",
       "      <td>PoW/PoS</td>\n",
       "      <td>0.000000e+00</td>\n",
       "      <td>0</td>\n",
       "    </tr>\n",
       "  </tbody>\n",
       "</table>\n",
       "</div>"
      ],
      "text/plain": [
       "      CoinName Algorithm ProofType  TotalCoinsMined TotalCoinSupply\n",
       "42     42 Coin    Scrypt   PoW/PoS     4.199995e+01              42\n",
       "365    365Coin       X11   PoW/PoS              NaN      2300000000\n",
       "404    404Coin    Scrypt   PoW/PoS     1.055185e+09       532000000\n",
       "611  SixEleven   SHA-256       PoW              NaN          611000\n",
       "808        808   SHA-256   PoW/PoS     0.000000e+00               0"
      ]
     },
     "execution_count": 14,
     "metadata": {},
     "output_type": "execute_result"
    }
   ],
   "source": [
    "# Remove the \"IsTrading\" column. \n",
    "crypto_df = crypto_df.drop([\"IsTrading\"], axis=1)\n",
    "crypto_df.head()"
   ]
  },
  {
   "cell_type": "code",
   "execution_count": 16,
   "id": "e52697c6",
   "metadata": {},
   "outputs": [
    {
     "name": "stdout",
     "output_type": "stream",
     "text": [
      "Column CoinName has 0 null values\n",
      "Column Algorithm has 0 null values\n",
      "Column ProofType has 0 null values\n",
      "Column TotalCoinsMined has 0 null values\n",
      "Column TotalCoinSupply has 0 null values\n"
     ]
    },
    {
     "data": {
      "text/html": [
       "<div>\n",
       "<style scoped>\n",
       "    .dataframe tbody tr th:only-of-type {\n",
       "        vertical-align: middle;\n",
       "    }\n",
       "\n",
       "    .dataframe tbody tr th {\n",
       "        vertical-align: top;\n",
       "    }\n",
       "\n",
       "    .dataframe thead th {\n",
       "        text-align: right;\n",
       "    }\n",
       "</style>\n",
       "<table border=\"1\" class=\"dataframe\">\n",
       "  <thead>\n",
       "    <tr style=\"text-align: right;\">\n",
       "      <th></th>\n",
       "      <th>CoinName</th>\n",
       "      <th>Algorithm</th>\n",
       "      <th>ProofType</th>\n",
       "      <th>TotalCoinsMined</th>\n",
       "      <th>TotalCoinSupply</th>\n",
       "    </tr>\n",
       "  </thead>\n",
       "  <tbody>\n",
       "    <tr>\n",
       "      <th>42</th>\n",
       "      <td>42 Coin</td>\n",
       "      <td>Scrypt</td>\n",
       "      <td>PoW/PoS</td>\n",
       "      <td>4.199995e+01</td>\n",
       "      <td>42</td>\n",
       "    </tr>\n",
       "    <tr>\n",
       "      <th>404</th>\n",
       "      <td>404Coin</td>\n",
       "      <td>Scrypt</td>\n",
       "      <td>PoW/PoS</td>\n",
       "      <td>1.055185e+09</td>\n",
       "      <td>532000000</td>\n",
       "    </tr>\n",
       "    <tr>\n",
       "      <th>808</th>\n",
       "      <td>808</td>\n",
       "      <td>SHA-256</td>\n",
       "      <td>PoW/PoS</td>\n",
       "      <td>0.000000e+00</td>\n",
       "      <td>0</td>\n",
       "    </tr>\n",
       "    <tr>\n",
       "      <th>1337</th>\n",
       "      <td>EliteCoin</td>\n",
       "      <td>X13</td>\n",
       "      <td>PoW/PoS</td>\n",
       "      <td>2.927942e+10</td>\n",
       "      <td>314159265359</td>\n",
       "    </tr>\n",
       "    <tr>\n",
       "      <th>BTC</th>\n",
       "      <td>Bitcoin</td>\n",
       "      <td>SHA-256</td>\n",
       "      <td>PoW</td>\n",
       "      <td>1.792718e+07</td>\n",
       "      <td>21000000</td>\n",
       "    </tr>\n",
       "  </tbody>\n",
       "</table>\n",
       "</div>"
      ],
      "text/plain": [
       "       CoinName Algorithm ProofType  TotalCoinsMined TotalCoinSupply\n",
       "42      42 Coin    Scrypt   PoW/PoS     4.199995e+01              42\n",
       "404     404Coin    Scrypt   PoW/PoS     1.055185e+09       532000000\n",
       "808         808   SHA-256   PoW/PoS     0.000000e+00               0\n",
       "1337  EliteCoin       X13   PoW/PoS     2.927942e+10    314159265359\n",
       "BTC     Bitcoin   SHA-256       PoW     1.792718e+07        21000000"
      ]
     },
     "execution_count": 16,
     "metadata": {},
     "output_type": "execute_result"
    }
   ],
   "source": [
    "# Remove rows that have at least 1 null value.\n",
    "for column in crypto_df.columns:\n",
    "    print(f\"Column {column} has {crypto_df[column].isnull().sum()} null values\")\n",
    "crypto_df = crypto_df.dropna()\n",
    "crypto_df.head()"
   ]
  },
  {
   "cell_type": "code",
   "execution_count": 22,
   "id": "63c5065e",
   "metadata": {},
   "outputs": [
    {
     "data": {
      "text/html": [
       "<div>\n",
       "<style scoped>\n",
       "    .dataframe tbody tr th:only-of-type {\n",
       "        vertical-align: middle;\n",
       "    }\n",
       "\n",
       "    .dataframe tbody tr th {\n",
       "        vertical-align: top;\n",
       "    }\n",
       "\n",
       "    .dataframe thead th {\n",
       "        text-align: right;\n",
       "    }\n",
       "</style>\n",
       "<table border=\"1\" class=\"dataframe\">\n",
       "  <thead>\n",
       "    <tr style=\"text-align: right;\">\n",
       "      <th></th>\n",
       "      <th>CoinName</th>\n",
       "      <th>Algorithm</th>\n",
       "      <th>ProofType</th>\n",
       "      <th>TotalCoinsMined</th>\n",
       "      <th>TotalCoinSupply</th>\n",
       "    </tr>\n",
       "  </thead>\n",
       "  <tbody>\n",
       "    <tr>\n",
       "      <th>42</th>\n",
       "      <td>42 Coin</td>\n",
       "      <td>Scrypt</td>\n",
       "      <td>PoW/PoS</td>\n",
       "      <td>4.199995e+01</td>\n",
       "      <td>42</td>\n",
       "    </tr>\n",
       "    <tr>\n",
       "      <th>404</th>\n",
       "      <td>404Coin</td>\n",
       "      <td>Scrypt</td>\n",
       "      <td>PoW/PoS</td>\n",
       "      <td>1.055185e+09</td>\n",
       "      <td>532000000</td>\n",
       "    </tr>\n",
       "    <tr>\n",
       "      <th>1337</th>\n",
       "      <td>EliteCoin</td>\n",
       "      <td>X13</td>\n",
       "      <td>PoW/PoS</td>\n",
       "      <td>2.927942e+10</td>\n",
       "      <td>314159265359</td>\n",
       "    </tr>\n",
       "    <tr>\n",
       "      <th>BTC</th>\n",
       "      <td>Bitcoin</td>\n",
       "      <td>SHA-256</td>\n",
       "      <td>PoW</td>\n",
       "      <td>1.792718e+07</td>\n",
       "      <td>21000000</td>\n",
       "    </tr>\n",
       "    <tr>\n",
       "      <th>ETH</th>\n",
       "      <td>Ethereum</td>\n",
       "      <td>Ethash</td>\n",
       "      <td>PoW</td>\n",
       "      <td>1.076842e+08</td>\n",
       "      <td>0</td>\n",
       "    </tr>\n",
       "  </tbody>\n",
       "</table>\n",
       "</div>"
      ],
      "text/plain": [
       "       CoinName Algorithm ProofType  TotalCoinsMined TotalCoinSupply\n",
       "42      42 Coin    Scrypt   PoW/PoS     4.199995e+01              42\n",
       "404     404Coin    Scrypt   PoW/PoS     1.055185e+09       532000000\n",
       "1337  EliteCoin       X13   PoW/PoS     2.927942e+10    314159265359\n",
       "BTC     Bitcoin   SHA-256       PoW     1.792718e+07        21000000\n",
       "ETH    Ethereum    Ethash       PoW     1.076842e+08               0"
      ]
     },
     "execution_count": 22,
     "metadata": {},
     "output_type": "execute_result"
    }
   ],
   "source": [
    "# Keep the rows where coins are mined.\n",
    "crypto_df = crypto_df[crypto_df.TotalCoinsMined > 0]\n",
    "crypto_df.head(5)"
   ]
  },
  {
   "cell_type": "code",
   "execution_count": 24,
   "id": "e052536a",
   "metadata": {},
   "outputs": [
    {
     "data": {
      "text/html": [
       "<div>\n",
       "<style scoped>\n",
       "    .dataframe tbody tr th:only-of-type {\n",
       "        vertical-align: middle;\n",
       "    }\n",
       "\n",
       "    .dataframe tbody tr th {\n",
       "        vertical-align: top;\n",
       "    }\n",
       "\n",
       "    .dataframe thead th {\n",
       "        text-align: right;\n",
       "    }\n",
       "</style>\n",
       "<table border=\"1\" class=\"dataframe\">\n",
       "  <thead>\n",
       "    <tr style=\"text-align: right;\">\n",
       "      <th></th>\n",
       "      <th>CoinName</th>\n",
       "    </tr>\n",
       "  </thead>\n",
       "  <tbody>\n",
       "    <tr>\n",
       "      <th>42</th>\n",
       "      <td>42 Coin</td>\n",
       "    </tr>\n",
       "    <tr>\n",
       "      <th>404</th>\n",
       "      <td>404Coin</td>\n",
       "    </tr>\n",
       "    <tr>\n",
       "      <th>1337</th>\n",
       "      <td>EliteCoin</td>\n",
       "    </tr>\n",
       "    <tr>\n",
       "      <th>BTC</th>\n",
       "      <td>Bitcoin</td>\n",
       "    </tr>\n",
       "    <tr>\n",
       "      <th>ETH</th>\n",
       "      <td>Ethereum</td>\n",
       "    </tr>\n",
       "    <tr>\n",
       "      <th>...</th>\n",
       "      <td>...</td>\n",
       "    </tr>\n",
       "    <tr>\n",
       "      <th>ZEPH</th>\n",
       "      <td>ZEPHYR</td>\n",
       "    </tr>\n",
       "    <tr>\n",
       "      <th>GAP</th>\n",
       "      <td>Gapcoin</td>\n",
       "    </tr>\n",
       "    <tr>\n",
       "      <th>BDX</th>\n",
       "      <td>Beldex</td>\n",
       "    </tr>\n",
       "    <tr>\n",
       "      <th>ZEN</th>\n",
       "      <td>Horizen</td>\n",
       "    </tr>\n",
       "    <tr>\n",
       "      <th>XBC</th>\n",
       "      <td>BitcoinPlus</td>\n",
       "    </tr>\n",
       "  </tbody>\n",
       "</table>\n",
       "<p>532 rows × 1 columns</p>\n",
       "</div>"
      ],
      "text/plain": [
       "         CoinName\n",
       "42        42 Coin\n",
       "404       404Coin\n",
       "1337    EliteCoin\n",
       "BTC       Bitcoin\n",
       "ETH      Ethereum\n",
       "...           ...\n",
       "ZEPH       ZEPHYR\n",
       "GAP       Gapcoin\n",
       "BDX        Beldex\n",
       "ZEN       Horizen\n",
       "XBC   BitcoinPlus\n",
       "\n",
       "[532 rows x 1 columns]"
      ]
     },
     "execution_count": 24,
     "metadata": {},
     "output_type": "execute_result"
    }
   ],
   "source": [
    "# Create a new DataFrame that holds only the cryptocurrencies names.\n",
    "cryptoname_df = pd.DataFrame(crypto_df.CoinName)\n",
    "cryptoname_df"
   ]
  },
  {
   "cell_type": "code",
   "execution_count": 25,
   "id": "c9936c85",
   "metadata": {},
   "outputs": [
    {
     "data": {
      "text/html": [
       "<div>\n",
       "<style scoped>\n",
       "    .dataframe tbody tr th:only-of-type {\n",
       "        vertical-align: middle;\n",
       "    }\n",
       "\n",
       "    .dataframe tbody tr th {\n",
       "        vertical-align: top;\n",
       "    }\n",
       "\n",
       "    .dataframe thead th {\n",
       "        text-align: right;\n",
       "    }\n",
       "</style>\n",
       "<table border=\"1\" class=\"dataframe\">\n",
       "  <thead>\n",
       "    <tr style=\"text-align: right;\">\n",
       "      <th></th>\n",
       "      <th>Algorithm</th>\n",
       "      <th>ProofType</th>\n",
       "      <th>TotalCoinsMined</th>\n",
       "      <th>TotalCoinSupply</th>\n",
       "    </tr>\n",
       "  </thead>\n",
       "  <tbody>\n",
       "    <tr>\n",
       "      <th>42</th>\n",
       "      <td>Scrypt</td>\n",
       "      <td>PoW/PoS</td>\n",
       "      <td>4.199995e+01</td>\n",
       "      <td>42</td>\n",
       "    </tr>\n",
       "    <tr>\n",
       "      <th>404</th>\n",
       "      <td>Scrypt</td>\n",
       "      <td>PoW/PoS</td>\n",
       "      <td>1.055185e+09</td>\n",
       "      <td>532000000</td>\n",
       "    </tr>\n",
       "    <tr>\n",
       "      <th>1337</th>\n",
       "      <td>X13</td>\n",
       "      <td>PoW/PoS</td>\n",
       "      <td>2.927942e+10</td>\n",
       "      <td>314159265359</td>\n",
       "    </tr>\n",
       "    <tr>\n",
       "      <th>BTC</th>\n",
       "      <td>SHA-256</td>\n",
       "      <td>PoW</td>\n",
       "      <td>1.792718e+07</td>\n",
       "      <td>21000000</td>\n",
       "    </tr>\n",
       "    <tr>\n",
       "      <th>ETH</th>\n",
       "      <td>Ethash</td>\n",
       "      <td>PoW</td>\n",
       "      <td>1.076842e+08</td>\n",
       "      <td>0</td>\n",
       "    </tr>\n",
       "  </tbody>\n",
       "</table>\n",
       "</div>"
      ],
      "text/plain": [
       "     Algorithm ProofType  TotalCoinsMined TotalCoinSupply\n",
       "42      Scrypt   PoW/PoS     4.199995e+01              42\n",
       "404     Scrypt   PoW/PoS     1.055185e+09       532000000\n",
       "1337       X13   PoW/PoS     2.927942e+10    314159265359\n",
       "BTC    SHA-256       PoW     1.792718e+07        21000000\n",
       "ETH     Ethash       PoW     1.076842e+08               0"
      ]
     },
     "execution_count": 25,
     "metadata": {},
     "output_type": "execute_result"
    }
   ],
   "source": [
    "# Drop the 'CoinName' column since it's not going to be used on the clustering algorithm.\n",
    "crypto_df = crypto_df.drop([\"CoinName\"], axis=1)\n",
    "crypto_df.head(5)"
   ]
  },
  {
   "cell_type": "code",
   "execution_count": 26,
   "id": "d56835b9",
   "metadata": {},
   "outputs": [
    {
     "data": {
      "text/html": [
       "<div>\n",
       "<style scoped>\n",
       "    .dataframe tbody tr th:only-of-type {\n",
       "        vertical-align: middle;\n",
       "    }\n",
       "\n",
       "    .dataframe tbody tr th {\n",
       "        vertical-align: top;\n",
       "    }\n",
       "\n",
       "    .dataframe thead th {\n",
       "        text-align: right;\n",
       "    }\n",
       "</style>\n",
       "<table border=\"1\" class=\"dataframe\">\n",
       "  <thead>\n",
       "    <tr style=\"text-align: right;\">\n",
       "      <th></th>\n",
       "      <th>TotalCoinsMined</th>\n",
       "      <th>TotalCoinSupply</th>\n",
       "      <th>Algorithm_1GB AES Pattern Search</th>\n",
       "      <th>Algorithm_536</th>\n",
       "      <th>Algorithm_Argon2d</th>\n",
       "      <th>Algorithm_BLAKE256</th>\n",
       "      <th>Algorithm_Blake</th>\n",
       "      <th>Algorithm_Blake2S</th>\n",
       "      <th>Algorithm_Blake2b</th>\n",
       "      <th>Algorithm_C11</th>\n",
       "      <th>...</th>\n",
       "      <th>ProofType_PoW/PoS</th>\n",
       "      <th>ProofType_PoW/PoS</th>\n",
       "      <th>ProofType_PoW/PoW</th>\n",
       "      <th>ProofType_PoW/nPoS</th>\n",
       "      <th>ProofType_Pos</th>\n",
       "      <th>ProofType_Proof of Authority</th>\n",
       "      <th>ProofType_Proof of Trust</th>\n",
       "      <th>ProofType_TPoS</th>\n",
       "      <th>ProofType_Zero-Knowledge Proof</th>\n",
       "      <th>ProofType_dPoW/PoW</th>\n",
       "    </tr>\n",
       "  </thead>\n",
       "  <tbody>\n",
       "    <tr>\n",
       "      <th>42</th>\n",
       "      <td>4.199995e+01</td>\n",
       "      <td>42</td>\n",
       "      <td>0</td>\n",
       "      <td>0</td>\n",
       "      <td>0</td>\n",
       "      <td>0</td>\n",
       "      <td>0</td>\n",
       "      <td>0</td>\n",
       "      <td>0</td>\n",
       "      <td>0</td>\n",
       "      <td>...</td>\n",
       "      <td>1</td>\n",
       "      <td>0</td>\n",
       "      <td>0</td>\n",
       "      <td>0</td>\n",
       "      <td>0</td>\n",
       "      <td>0</td>\n",
       "      <td>0</td>\n",
       "      <td>0</td>\n",
       "      <td>0</td>\n",
       "      <td>0</td>\n",
       "    </tr>\n",
       "    <tr>\n",
       "      <th>404</th>\n",
       "      <td>1.055185e+09</td>\n",
       "      <td>532000000</td>\n",
       "      <td>0</td>\n",
       "      <td>0</td>\n",
       "      <td>0</td>\n",
       "      <td>0</td>\n",
       "      <td>0</td>\n",
       "      <td>0</td>\n",
       "      <td>0</td>\n",
       "      <td>0</td>\n",
       "      <td>...</td>\n",
       "      <td>1</td>\n",
       "      <td>0</td>\n",
       "      <td>0</td>\n",
       "      <td>0</td>\n",
       "      <td>0</td>\n",
       "      <td>0</td>\n",
       "      <td>0</td>\n",
       "      <td>0</td>\n",
       "      <td>0</td>\n",
       "      <td>0</td>\n",
       "    </tr>\n",
       "    <tr>\n",
       "      <th>1337</th>\n",
       "      <td>2.927942e+10</td>\n",
       "      <td>314159265359</td>\n",
       "      <td>0</td>\n",
       "      <td>0</td>\n",
       "      <td>0</td>\n",
       "      <td>0</td>\n",
       "      <td>0</td>\n",
       "      <td>0</td>\n",
       "      <td>0</td>\n",
       "      <td>0</td>\n",
       "      <td>...</td>\n",
       "      <td>1</td>\n",
       "      <td>0</td>\n",
       "      <td>0</td>\n",
       "      <td>0</td>\n",
       "      <td>0</td>\n",
       "      <td>0</td>\n",
       "      <td>0</td>\n",
       "      <td>0</td>\n",
       "      <td>0</td>\n",
       "      <td>0</td>\n",
       "    </tr>\n",
       "    <tr>\n",
       "      <th>BTC</th>\n",
       "      <td>1.792718e+07</td>\n",
       "      <td>21000000</td>\n",
       "      <td>0</td>\n",
       "      <td>0</td>\n",
       "      <td>0</td>\n",
       "      <td>0</td>\n",
       "      <td>0</td>\n",
       "      <td>0</td>\n",
       "      <td>0</td>\n",
       "      <td>0</td>\n",
       "      <td>...</td>\n",
       "      <td>0</td>\n",
       "      <td>0</td>\n",
       "      <td>0</td>\n",
       "      <td>0</td>\n",
       "      <td>0</td>\n",
       "      <td>0</td>\n",
       "      <td>0</td>\n",
       "      <td>0</td>\n",
       "      <td>0</td>\n",
       "      <td>0</td>\n",
       "    </tr>\n",
       "    <tr>\n",
       "      <th>ETH</th>\n",
       "      <td>1.076842e+08</td>\n",
       "      <td>0</td>\n",
       "      <td>0</td>\n",
       "      <td>0</td>\n",
       "      <td>0</td>\n",
       "      <td>0</td>\n",
       "      <td>0</td>\n",
       "      <td>0</td>\n",
       "      <td>0</td>\n",
       "      <td>0</td>\n",
       "      <td>...</td>\n",
       "      <td>0</td>\n",
       "      <td>0</td>\n",
       "      <td>0</td>\n",
       "      <td>0</td>\n",
       "      <td>0</td>\n",
       "      <td>0</td>\n",
       "      <td>0</td>\n",
       "      <td>0</td>\n",
       "      <td>0</td>\n",
       "      <td>0</td>\n",
       "    </tr>\n",
       "  </tbody>\n",
       "</table>\n",
       "<p>5 rows × 98 columns</p>\n",
       "</div>"
      ],
      "text/plain": [
       "      TotalCoinsMined TotalCoinSupply  Algorithm_1GB AES Pattern Search  \\\n",
       "42       4.199995e+01              42                                 0   \n",
       "404      1.055185e+09       532000000                                 0   \n",
       "1337     2.927942e+10    314159265359                                 0   \n",
       "BTC      1.792718e+07        21000000                                 0   \n",
       "ETH      1.076842e+08               0                                 0   \n",
       "\n",
       "      Algorithm_536  Algorithm_Argon2d  Algorithm_BLAKE256  Algorithm_Blake  \\\n",
       "42                0                  0                   0                0   \n",
       "404               0                  0                   0                0   \n",
       "1337              0                  0                   0                0   \n",
       "BTC               0                  0                   0                0   \n",
       "ETH               0                  0                   0                0   \n",
       "\n",
       "      Algorithm_Blake2S  Algorithm_Blake2b  Algorithm_C11  ...  \\\n",
       "42                    0                  0              0  ...   \n",
       "404                   0                  0              0  ...   \n",
       "1337                  0                  0              0  ...   \n",
       "BTC                   0                  0              0  ...   \n",
       "ETH                   0                  0              0  ...   \n",
       "\n",
       "      ProofType_PoW/PoS  ProofType_PoW/PoS   ProofType_PoW/PoW  \\\n",
       "42                    1                   0                  0   \n",
       "404                   1                   0                  0   \n",
       "1337                  1                   0                  0   \n",
       "BTC                   0                   0                  0   \n",
       "ETH                   0                   0                  0   \n",
       "\n",
       "      ProofType_PoW/nPoS  ProofType_Pos  ProofType_Proof of Authority  \\\n",
       "42                     0              0                             0   \n",
       "404                    0              0                             0   \n",
       "1337                   0              0                             0   \n",
       "BTC                    0              0                             0   \n",
       "ETH                    0              0                             0   \n",
       "\n",
       "      ProofType_Proof of Trust  ProofType_TPoS  \\\n",
       "42                           0               0   \n",
       "404                          0               0   \n",
       "1337                         0               0   \n",
       "BTC                          0               0   \n",
       "ETH                          0               0   \n",
       "\n",
       "      ProofType_Zero-Knowledge Proof  ProofType_dPoW/PoW  \n",
       "42                                 0                   0  \n",
       "404                                0                   0  \n",
       "1337                               0                   0  \n",
       "BTC                                0                   0  \n",
       "ETH                                0                   0  \n",
       "\n",
       "[5 rows x 98 columns]"
      ]
     },
     "execution_count": 26,
     "metadata": {},
     "output_type": "execute_result"
    }
   ],
   "source": [
    "# Use get_dummies() to create variables for text features.\n",
    "X = pd.get_dummies(crypto_df, columns=[\"Algorithm\", \"ProofType\"])\n",
    "X.head()"
   ]
  },
  {
   "cell_type": "code",
   "execution_count": 27,
   "id": "8946fa6c",
   "metadata": {},
   "outputs": [
    {
     "name": "stdout",
     "output_type": "stream",
     "text": [
      "[[-0.11710817 -0.1528703  -0.0433963  -0.0433963  -0.0433963  -0.06142951\n",
      "  -0.07530656 -0.0433963  -0.06142951 -0.06142951 -0.0433963  -0.0433963\n",
      "  -0.19245009 -0.06142951 -0.09740465 -0.0433963  -0.11547005 -0.07530656\n",
      "  -0.0433963  -0.0433963  -0.15191091 -0.0433963  -0.13118084 -0.0433963\n",
      "  -0.0433963  -0.08703883 -0.0433963  -0.0433963  -0.0433963  -0.0433963\n",
      "  -0.06142951 -0.0433963  -0.08703883 -0.08703883 -0.08703883 -0.0433963\n",
      "  -0.13118084 -0.13840913 -0.13840913 -0.0433963  -0.06142951 -0.0433963\n",
      "  -0.07530656 -0.18168574 -0.0433963  -0.0433963  -0.0433963  -0.07530656\n",
      "  -0.15826614 -0.31491833 -0.0433963  -0.08703883 -0.07530656 -0.06142951\n",
      "   1.38675049 -0.0433963  -0.0433963  -0.06142951 -0.0433963  -0.0433963\n",
      "  -0.0433963  -0.0433963  -0.0433963  -0.0433963  -0.0433963  -0.0433963\n",
      "  -0.39879994 -0.0433963  -0.18168574 -0.0433963  -0.08703883 -0.08703883\n",
      "  -0.10680283 -0.0433963  -0.13118084 -0.0433963  -0.0433963  -0.0433963\n",
      "  -0.0433963  -0.07530656 -0.43911856 -0.0433963  -0.06142951 -0.0433963\n",
      "  -0.0433963  -0.89632016 -0.0433963  -0.0433963   1.42222617 -0.0433963\n",
      "  -0.0433963  -0.0433963  -0.0433963  -0.0433963  -0.0433963  -0.0433963\n",
      "  -0.0433963  -0.0433963 ]\n",
      " [-0.09396955 -0.145009   -0.0433963  -0.0433963  -0.0433963  -0.06142951\n",
      "  -0.07530656 -0.0433963  -0.06142951 -0.06142951 -0.0433963  -0.0433963\n",
      "  -0.19245009 -0.06142951 -0.09740465 -0.0433963  -0.11547005 -0.07530656\n",
      "  -0.0433963  -0.0433963  -0.15191091 -0.0433963  -0.13118084 -0.0433963\n",
      "  -0.0433963  -0.08703883 -0.0433963  -0.0433963  -0.0433963  -0.0433963\n",
      "  -0.06142951 -0.0433963  -0.08703883 -0.08703883 -0.08703883 -0.0433963\n",
      "  -0.13118084 -0.13840913 -0.13840913 -0.0433963  -0.06142951 -0.0433963\n",
      "  -0.07530656 -0.18168574 -0.0433963  -0.0433963  -0.0433963  -0.07530656\n",
      "  -0.15826614 -0.31491833 -0.0433963  -0.08703883 -0.07530656 -0.06142951\n",
      "   1.38675049 -0.0433963  -0.0433963  -0.06142951 -0.0433963  -0.0433963\n",
      "  -0.0433963  -0.0433963  -0.0433963  -0.0433963  -0.0433963  -0.0433963\n",
      "  -0.39879994 -0.0433963  -0.18168574 -0.0433963  -0.08703883 -0.08703883\n",
      "  -0.10680283 -0.0433963  -0.13118084 -0.0433963  -0.0433963  -0.0433963\n",
      "  -0.0433963  -0.07530656 -0.43911856 -0.0433963  -0.06142951 -0.0433963\n",
      "  -0.0433963  -0.89632016 -0.0433963  -0.0433963   1.42222617 -0.0433963\n",
      "  -0.0433963  -0.0433963  -0.0433963  -0.0433963  -0.0433963  -0.0433963\n",
      "  -0.0433963  -0.0433963 ]\n",
      " [ 0.52494561  4.48942416 -0.0433963  -0.0433963  -0.0433963  -0.06142951\n",
      "  -0.07530656 -0.0433963  -0.06142951 -0.06142951 -0.0433963  -0.0433963\n",
      "  -0.19245009 -0.06142951 -0.09740465 -0.0433963  -0.11547005 -0.07530656\n",
      "  -0.0433963  -0.0433963  -0.15191091 -0.0433963  -0.13118084 -0.0433963\n",
      "  -0.0433963  -0.08703883 -0.0433963  -0.0433963  -0.0433963  -0.0433963\n",
      "  -0.06142951 -0.0433963  -0.08703883 -0.08703883 -0.08703883 -0.0433963\n",
      "  -0.13118084 -0.13840913 -0.13840913 -0.0433963  -0.06142951 -0.0433963\n",
      "  -0.07530656 -0.18168574 -0.0433963  -0.0433963  -0.0433963  -0.07530656\n",
      "  -0.15826614 -0.31491833 -0.0433963  -0.08703883 -0.07530656 -0.06142951\n",
      "  -0.72111026 -0.0433963  -0.0433963  -0.06142951 -0.0433963  -0.0433963\n",
      "  -0.0433963  -0.0433963  -0.0433963  -0.0433963  -0.0433963  -0.0433963\n",
      "  -0.39879994 -0.0433963   5.50400923 -0.0433963  -0.08703883 -0.08703883\n",
      "  -0.10680283 -0.0433963  -0.13118084 -0.0433963  -0.0433963  -0.0433963\n",
      "  -0.0433963  -0.07530656 -0.43911856 -0.0433963  -0.06142951 -0.0433963\n",
      "  -0.0433963  -0.89632016 -0.0433963  -0.0433963   1.42222617 -0.0433963\n",
      "  -0.0433963  -0.0433963  -0.0433963  -0.0433963  -0.0433963  -0.0433963\n",
      "  -0.0433963  -0.0433963 ]\n",
      " [-0.11671506 -0.15255998 -0.0433963  -0.0433963  -0.0433963  -0.06142951\n",
      "  -0.07530656 -0.0433963  -0.06142951 -0.06142951 -0.0433963  -0.0433963\n",
      "  -0.19245009 -0.06142951 -0.09740465 -0.0433963  -0.11547005 -0.07530656\n",
      "  -0.0433963  -0.0433963  -0.15191091 -0.0433963  -0.13118084 -0.0433963\n",
      "  -0.0433963  -0.08703883 -0.0433963  -0.0433963  -0.0433963  -0.0433963\n",
      "  -0.06142951 -0.0433963  -0.08703883 -0.08703883 -0.08703883 -0.0433963\n",
      "  -0.13118084 -0.13840913 -0.13840913 -0.0433963  -0.06142951 -0.0433963\n",
      "  -0.07530656 -0.18168574 -0.0433963  -0.0433963  -0.0433963  -0.07530656\n",
      "  -0.15826614  3.17542648 -0.0433963  -0.08703883 -0.07530656 -0.06142951\n",
      "  -0.72111026 -0.0433963  -0.0433963  -0.06142951 -0.0433963  -0.0433963\n",
      "  -0.0433963  -0.0433963  -0.0433963  -0.0433963  -0.0433963  -0.0433963\n",
      "  -0.39879994 -0.0433963  -0.18168574 -0.0433963  -0.08703883 -0.08703883\n",
      "  -0.10680283 -0.0433963  -0.13118084 -0.0433963  -0.0433963  -0.0433963\n",
      "  -0.0433963  -0.07530656 -0.43911856 -0.0433963  -0.06142951 -0.0433963\n",
      "  -0.0433963   1.11567277 -0.0433963  -0.0433963  -0.70312305 -0.0433963\n",
      "  -0.0433963  -0.0433963  -0.0433963  -0.0433963  -0.0433963  -0.0433963\n",
      "  -0.0433963  -0.0433963 ]\n",
      " [-0.11474682 -0.1528703  -0.0433963  -0.0433963  -0.0433963  -0.06142951\n",
      "  -0.07530656 -0.0433963  -0.06142951 -0.06142951 -0.0433963  -0.0433963\n",
      "  -0.19245009 -0.06142951 -0.09740465 -0.0433963  -0.11547005 -0.07530656\n",
      "  -0.0433963  -0.0433963  -0.15191091 -0.0433963   7.62306442 -0.0433963\n",
      "  -0.0433963  -0.08703883 -0.0433963  -0.0433963  -0.0433963  -0.0433963\n",
      "  -0.06142951 -0.0433963  -0.08703883 -0.08703883 -0.08703883 -0.0433963\n",
      "  -0.13118084 -0.13840913 -0.13840913 -0.0433963  -0.06142951 -0.0433963\n",
      "  -0.07530656 -0.18168574 -0.0433963  -0.0433963  -0.0433963  -0.07530656\n",
      "  -0.15826614 -0.31491833 -0.0433963  -0.08703883 -0.07530656 -0.06142951\n",
      "  -0.72111026 -0.0433963  -0.0433963  -0.06142951 -0.0433963  -0.0433963\n",
      "  -0.0433963  -0.0433963  -0.0433963  -0.0433963  -0.0433963  -0.0433963\n",
      "  -0.39879994 -0.0433963  -0.18168574 -0.0433963  -0.08703883 -0.08703883\n",
      "  -0.10680283 -0.0433963  -0.13118084 -0.0433963  -0.0433963  -0.0433963\n",
      "  -0.0433963  -0.07530656 -0.43911856 -0.0433963  -0.06142951 -0.0433963\n",
      "  -0.0433963   1.11567277 -0.0433963  -0.0433963  -0.70312305 -0.0433963\n",
      "  -0.0433963  -0.0433963  -0.0433963  -0.0433963  -0.0433963  -0.0433963\n",
      "  -0.0433963  -0.0433963 ]]\n"
     ]
    }
   ],
   "source": [
    "# Standardize the data with StandardScaler().\n",
    "crypto_scaled = StandardScaler().fit_transform(X)\n",
    "print(crypto_scaled[0:5])"
   ]
  },
  {
   "cell_type": "markdown",
   "id": "29abf259",
   "metadata": {},
   "source": [
    "# Deliverable 2: Reducing Data Dimensions Using PCA"
   ]
  },
  {
   "cell_type": "code",
   "execution_count": 28,
   "id": "5b454a4b",
   "metadata": {},
   "outputs": [],
   "source": [
    "# Using PCA to reduce dimension to three principal components.\n",
    "pca = PCA(n_components=3)\n",
    "crypto_pca = pca.fit_transform(crypto_scaled)"
   ]
  },
  {
   "cell_type": "code",
   "execution_count": 29,
   "id": "7e73d974",
   "metadata": {},
   "outputs": [
    {
     "data": {
      "text/html": [
       "<div>\n",
       "<style scoped>\n",
       "    .dataframe tbody tr th:only-of-type {\n",
       "        vertical-align: middle;\n",
       "    }\n",
       "\n",
       "    .dataframe tbody tr th {\n",
       "        vertical-align: top;\n",
       "    }\n",
       "\n",
       "    .dataframe thead th {\n",
       "        text-align: right;\n",
       "    }\n",
       "</style>\n",
       "<table border=\"1\" class=\"dataframe\">\n",
       "  <thead>\n",
       "    <tr style=\"text-align: right;\">\n",
       "      <th></th>\n",
       "      <th>PC 1</th>\n",
       "      <th>PC 2</th>\n",
       "      <th>PC 3</th>\n",
       "    </tr>\n",
       "  </thead>\n",
       "  <tbody>\n",
       "    <tr>\n",
       "      <th>42</th>\n",
       "      <td>-0.369053</td>\n",
       "      <td>1.108111</td>\n",
       "      <td>-0.386043</td>\n",
       "    </tr>\n",
       "    <tr>\n",
       "      <th>404</th>\n",
       "      <td>-0.352455</td>\n",
       "      <td>1.108299</td>\n",
       "      <td>-0.386404</td>\n",
       "    </tr>\n",
       "    <tr>\n",
       "      <th>1337</th>\n",
       "      <td>2.278782</td>\n",
       "      <td>1.709272</td>\n",
       "      <td>-0.469173</td>\n",
       "    </tr>\n",
       "    <tr>\n",
       "      <th>BTC</th>\n",
       "      <td>-0.141245</td>\n",
       "      <td>-1.331397</td>\n",
       "      <td>0.118833</td>\n",
       "    </tr>\n",
       "    <tr>\n",
       "      <th>ETH</th>\n",
       "      <td>-0.134430</td>\n",
       "      <td>-2.084970</td>\n",
       "      <td>0.220158</td>\n",
       "    </tr>\n",
       "  </tbody>\n",
       "</table>\n",
       "</div>"
      ],
      "text/plain": [
       "          PC 1      PC 2      PC 3\n",
       "42   -0.369053  1.108111 -0.386043\n",
       "404  -0.352455  1.108299 -0.386404\n",
       "1337  2.278782  1.709272 -0.469173\n",
       "BTC  -0.141245 -1.331397  0.118833\n",
       "ETH  -0.134430 -2.084970  0.220158"
      ]
     },
     "execution_count": 29,
     "metadata": {},
     "output_type": "execute_result"
    }
   ],
   "source": [
    "# Create a DataFrame with the three principal components.\n",
    "pcs_df = pd.DataFrame(\n",
    "    data=crypto_pca, columns=[\"PC 1\", \"PC 2\", \"PC 3\"], index=crypto_df.index)\n",
    "pcs_df.head()"
   ]
  },
  {
   "cell_type": "markdown",
   "id": "111d9001",
   "metadata": {},
   "source": [
    "# Deliverable 3: Clustering Crytocurrencies Using K-Means\n",
    "    \n",
    "    \n",
    "Finding the Best Value for k Using the Elbow Curve"
   ]
  },
  {
   "cell_type": "code",
   "execution_count": 30,
   "id": "720fe2f2",
   "metadata": {},
   "outputs": [
    {
     "name": "stderr",
     "output_type": "stream",
     "text": [
      "C:\\Users\\PC\\anaconda3\\envs\\mlenv\\lib\\site-packages\\sklearn\\cluster\\_kmeans.py:882: UserWarning: KMeans is known to have a memory leak on Windows with MKL, when there are less chunks than available threads. You can avoid it by setting the environment variable OMP_NUM_THREADS=3.\n",
      "  f\"KMeans is known to have a memory leak on Windows \"\n"
     ]
    },
    {
     "data": {},
     "metadata": {},
     "output_type": "display_data"
    },
    {
     "data": {
      "application/vnd.holoviews_exec.v0+json": "",
      "text/html": [
       "<div id='1002'>\n",
       "\n",
       "\n",
       "\n",
       "\n",
       "\n",
       "  <div class=\"bk-root\" id=\"346fd396-b3f1-4ddf-a8ab-7f78ee9c2c43\" data-root-id=\"1002\"></div>\n",
       "</div>\n",
       "<script type=\"application/javascript\">(function(root) {\n",
       "  function embed_document(root) {\n",
       "    var docs_json = {\"6f1bc660-9101-4ac6-b36d-5166562eef47\":{\"defs\":[{\"extends\":null,\"module\":null,\"name\":\"ReactiveHTML1\",\"overrides\":[],\"properties\":[]},{\"extends\":null,\"module\":null,\"name\":\"FlexBox1\",\"overrides\":[],\"properties\":[{\"default\":\"flex-start\",\"kind\":null,\"name\":\"align_content\"},{\"default\":\"flex-start\",\"kind\":null,\"name\":\"align_items\"},{\"default\":\"row\",\"kind\":null,\"name\":\"flex_direction\"},{\"default\":\"wrap\",\"kind\":null,\"name\":\"flex_wrap\"},{\"default\":\"flex-start\",\"kind\":null,\"name\":\"justify_content\"}]},{\"extends\":null,\"module\":null,\"name\":\"TemplateActions1\",\"overrides\":[],\"properties\":[{\"default\":0,\"kind\":null,\"name\":\"open_modal\"},{\"default\":0,\"kind\":null,\"name\":\"close_modal\"}]},{\"extends\":null,\"module\":null,\"name\":\"MaterialTemplateActions1\",\"overrides\":[],\"properties\":[{\"default\":0,\"kind\":null,\"name\":\"open_modal\"},{\"default\":0,\"kind\":null,\"name\":\"close_modal\"}]}],\"roots\":{\"references\":[{\"attributes\":{\"line_color\":\"#30a2da\",\"line_width\":2,\"x\":{\"field\":\"k\"},\"y\":{\"field\":\"inertia\"}},\"id\":\"1040\",\"type\":\"Line\"},{\"attributes\":{\"axis\":{\"id\":\"1016\"},\"coordinates\":null,\"grid_line_color\":null,\"group\":null,\"ticker\":null},\"id\":\"1019\",\"type\":\"Grid\"},{\"attributes\":{\"bottom_units\":\"screen\",\"coordinates\":null,\"fill_alpha\":0.5,\"fill_color\":\"lightgrey\",\"group\":null,\"left_units\":\"screen\",\"level\":\"overlay\",\"line_alpha\":1.0,\"line_color\":\"black\",\"line_dash\":[4,4],\"line_width\":2,\"right_units\":\"screen\",\"syncable\":false,\"top_units\":\"screen\"},\"id\":\"1029\",\"type\":\"BoxAnnotation\"},{\"attributes\":{},\"id\":\"1021\",\"type\":\"BasicTicker\"},{\"attributes\":{\"margin\":[5,5,5,5],\"name\":\"HSpacer01632\",\"sizing_mode\":\"stretch_width\"},\"id\":\"1073\",\"type\":\"Spacer\"},{\"attributes\":{\"axis_label\":\"inertia\",\"coordinates\":null,\"formatter\":{\"id\":\"1053\"},\"group\":null,\"major_label_policy\":{\"id\":\"1054\"},\"ticker\":{\"id\":\"1021\"}},\"id\":\"1020\",\"type\":\"LinearAxis\"},{\"attributes\":{\"line_color\":\"#30a2da\",\"line_width\":2,\"x\":{\"field\":\"k\"},\"y\":{\"field\":\"inertia\"}},\"id\":\"1045\",\"type\":\"Line\"},{\"attributes\":{},\"id\":\"1054\",\"type\":\"AllLabels\"},{\"attributes\":{\"axis\":{\"id\":\"1020\"},\"coordinates\":null,\"dimension\":1,\"grid_line_color\":null,\"group\":null,\"ticker\":null},\"id\":\"1023\",\"type\":\"Grid\"},{\"attributes\":{\"ticks\":[1,2,3,4,5,6,7,8,9,10]},\"id\":\"1046\",\"type\":\"FixedTicker\"},{\"attributes\":{\"coordinates\":null,\"group\":null,\"text\":\"Elbow Curve\",\"text_color\":\"black\",\"text_font_size\":\"12pt\"},\"id\":\"1008\",\"type\":\"Title\"},{\"attributes\":{},\"id\":\"1049\",\"type\":\"AllLabels\"},{\"attributes\":{\"line_alpha\":0.1,\"line_color\":\"#30a2da\",\"line_width\":2,\"x\":{\"field\":\"k\"},\"y\":{\"field\":\"inertia\"}},\"id\":\"1041\",\"type\":\"Line\"},{\"attributes\":{\"below\":[{\"id\":\"1016\"}],\"center\":[{\"id\":\"1019\"},{\"id\":\"1023\"}],\"height\":300,\"left\":[{\"id\":\"1020\"}],\"margin\":[5,5,5,5],\"min_border_bottom\":10,\"min_border_left\":10,\"min_border_right\":10,\"min_border_top\":10,\"renderers\":[{\"id\":\"1043\"}],\"sizing_mode\":\"fixed\",\"title\":{\"id\":\"1008\"},\"toolbar\":{\"id\":\"1030\"},\"width\":700,\"x_range\":{\"id\":\"1004\"},\"x_scale\":{\"id\":\"1012\"},\"y_range\":{\"id\":\"1005\"},\"y_scale\":{\"id\":\"1014\"}},\"id\":\"1007\",\"subtype\":\"Figure\",\"type\":\"Plot\"},{\"attributes\":{\"end\":10.0,\"reset_end\":10.0,\"reset_start\":1.0,\"start\":1.0,\"tags\":[[[\"k\",\"k\",null]]]},\"id\":\"1004\",\"type\":\"Range1d\"},{\"attributes\":{},\"id\":\"1053\",\"type\":\"BasicTickFormatter\"},{\"attributes\":{},\"id\":\"1048\",\"type\":\"BasicTickFormatter\"},{\"attributes\":{\"tools\":[{\"id\":\"1006\"},{\"id\":\"1024\"},{\"id\":\"1025\"},{\"id\":\"1026\"},{\"id\":\"1027\"},{\"id\":\"1028\"}]},\"id\":\"1030\",\"type\":\"Toolbar\"},{\"attributes\":{\"margin\":[5,5,5,5],\"name\":\"HSpacer01631\",\"sizing_mode\":\"stretch_width\"},\"id\":\"1003\",\"type\":\"Spacer\"},{\"attributes\":{\"children\":[{\"id\":\"1003\"},{\"id\":\"1007\"},{\"id\":\"1073\"}],\"margin\":[0,0,0,0],\"name\":\"Row01627\",\"tags\":[\"embedded\"]},\"id\":\"1002\",\"type\":\"Row\"},{\"attributes\":{},\"id\":\"1024\",\"type\":\"SaveTool\"},{\"attributes\":{\"end\":3993.709120391063,\"reset_end\":3993.709120391063,\"reset_start\":-265.52712741405924,\"start\":-265.52712741405924,\"tags\":[[[\"inertia\",\"inertia\",null]]]},\"id\":\"1005\",\"type\":\"Range1d\"},{\"attributes\":{},\"id\":\"1025\",\"type\":\"PanTool\"},{\"attributes\":{},\"id\":\"1028\",\"type\":\"ResetTool\"},{\"attributes\":{\"line_alpha\":0.2,\"line_color\":\"#30a2da\",\"line_width\":2,\"x\":{\"field\":\"k\"},\"y\":{\"field\":\"inertia\"}},\"id\":\"1042\",\"type\":\"Line\"},{\"attributes\":{\"callback\":null,\"renderers\":[{\"id\":\"1043\"}],\"tags\":[\"hv_created\"],\"tooltips\":[[\"k\",\"@{k}\"],[\"inertia\",\"@{inertia}\"]]},\"id\":\"1006\",\"type\":\"HoverTool\"},{\"attributes\":{},\"id\":\"1026\",\"type\":\"WheelZoomTool\"},{\"attributes\":{\"overlay\":{\"id\":\"1029\"}},\"id\":\"1027\",\"type\":\"BoxZoomTool\"},{\"attributes\":{\"coordinates\":null,\"data_source\":{\"id\":\"1037\"},\"glyph\":{\"id\":\"1040\"},\"group\":null,\"hover_glyph\":null,\"muted_glyph\":{\"id\":\"1042\"},\"nonselection_glyph\":{\"id\":\"1041\"},\"selection_glyph\":{\"id\":\"1045\"},\"view\":{\"id\":\"1044\"}},\"id\":\"1043\",\"type\":\"GlyphRenderer\"},{\"attributes\":{},\"id\":\"1014\",\"type\":\"LinearScale\"},{\"attributes\":{},\"id\":\"1061\",\"type\":\"UnionRenderers\"},{\"attributes\":{},\"id\":\"1038\",\"type\":\"Selection\"},{\"attributes\":{\"axis_label\":\"k\",\"coordinates\":null,\"formatter\":{\"id\":\"1048\"},\"group\":null,\"major_label_policy\":{\"id\":\"1049\"},\"ticker\":{\"id\":\"1046\"}},\"id\":\"1016\",\"type\":\"LinearAxis\"},{\"attributes\":{\"source\":{\"id\":\"1037\"}},\"id\":\"1044\",\"type\":\"CDSView\"},{\"attributes\":{\"data\":{\"inertia\":{\"__ndarray__\":\"oN0JqIttrECVMJHjXFmjQNdaKXTYMJdAw/44STpigUCLVn1nTY92QBcFYmxgFm9AJMs19tTrZkA1jk68dmRhQHq6GqrxTFxAR2GjxDBaVkA=\",\"dtype\":\"float64\",\"order\":\"little\",\"shape\":[10]},\"k\":[1,2,3,4,5,6,7,8,9,10]},\"selected\":{\"id\":\"1038\"},\"selection_policy\":{\"id\":\"1061\"}},\"id\":\"1037\",\"type\":\"ColumnDataSource\"},{\"attributes\":{},\"id\":\"1012\",\"type\":\"LinearScale\"}],\"root_ids\":[\"1002\"]},\"title\":\"Bokeh Application\",\"version\":\"2.4.1\"}};\n",
       "    var render_items = [{\"docid\":\"6f1bc660-9101-4ac6-b36d-5166562eef47\",\"root_ids\":[\"1002\"],\"roots\":{\"1002\":\"346fd396-b3f1-4ddf-a8ab-7f78ee9c2c43\"}}];\n",
       "    root.Bokeh.embed.embed_items_notebook(docs_json, render_items);\n",
       "  }\n",
       "  if (root.Bokeh !== undefined && root.Bokeh.Panel !== undefined) {\n",
       "    embed_document(root);\n",
       "  } else {\n",
       "    var attempts = 0;\n",
       "    var timer = setInterval(function(root) {\n",
       "      if (root.Bokeh !== undefined && root.Bokeh.Panel !== undefined) {\n",
       "        clearInterval(timer);\n",
       "        embed_document(root);\n",
       "      } else if (document.readyState == \"complete\") {\n",
       "        attempts++;\n",
       "        if (attempts > 200) {\n",
       "          clearInterval(timer);\n",
       "          console.log(\"Bokeh: ERROR: Unable to run BokehJS code because BokehJS library is missing\");\n",
       "        }\n",
       "      }\n",
       "    }, 25, root)\n",
       "  }\n",
       "})(window);</script>"
      ],
      "text/plain": [
       ":Curve   [k]   (inertia)"
      ]
     },
     "execution_count": 30,
     "metadata": {
      "application/vnd.holoviews_exec.v0+json": {
       "id": "1002"
      }
     },
     "output_type": "execute_result"
    }
   ],
   "source": [
    "# Create an elbow curve to find the best value for K.\n",
    "inertia = []\n",
    "k = list(range(1, 11))\n",
    "\n",
    "# Calculate the inertia for the range of K values\n",
    "for i in k:\n",
    "    km = KMeans(n_clusters=i, random_state=0)\n",
    "    km.fit(pcs_df)\n",
    "    inertia.append(km.inertia_)\n",
    "\n",
    "# Define a DataFrame to plot the Elbow Curve using hvPlot\n",
    "elbow_data = {\"k\": k, \"inertia\": inertia}\n",
    "df_elbow = pd.DataFrame(elbow_data)\n",
    "df_elbow.hvplot.line(x=\"k\", y=\"inertia\", title=\"Elbow Curve\", xticks=k)"
   ]
  },
  {
   "cell_type": "code",
   "execution_count": 35,
   "id": "14bdee12",
   "metadata": {},
   "outputs": [
    {
     "data": {
      "text/html": [
       "<div>\n",
       "<style scoped>\n",
       "    .dataframe tbody tr th:only-of-type {\n",
       "        vertical-align: middle;\n",
       "    }\n",
       "\n",
       "    .dataframe tbody tr th {\n",
       "        vertical-align: top;\n",
       "    }\n",
       "\n",
       "    .dataframe thead th {\n",
       "        text-align: right;\n",
       "    }\n",
       "</style>\n",
       "<table border=\"1\" class=\"dataframe\">\n",
       "  <thead>\n",
       "    <tr style=\"text-align: right;\">\n",
       "      <th></th>\n",
       "      <th>Algorithm</th>\n",
       "      <th>ProofType</th>\n",
       "      <th>TotalCoinsMined</th>\n",
       "      <th>TotalCoinSupply</th>\n",
       "    </tr>\n",
       "  </thead>\n",
       "  <tbody>\n",
       "    <tr>\n",
       "      <th>42</th>\n",
       "      <td>Scrypt</td>\n",
       "      <td>PoW/PoS</td>\n",
       "      <td>4.199995e+01</td>\n",
       "      <td>42</td>\n",
       "    </tr>\n",
       "    <tr>\n",
       "      <th>404</th>\n",
       "      <td>Scrypt</td>\n",
       "      <td>PoW/PoS</td>\n",
       "      <td>1.055185e+09</td>\n",
       "      <td>532000000</td>\n",
       "    </tr>\n",
       "    <tr>\n",
       "      <th>1337</th>\n",
       "      <td>X13</td>\n",
       "      <td>PoW/PoS</td>\n",
       "      <td>2.927942e+10</td>\n",
       "      <td>314159265359</td>\n",
       "    </tr>\n",
       "    <tr>\n",
       "      <th>BTC</th>\n",
       "      <td>SHA-256</td>\n",
       "      <td>PoW</td>\n",
       "      <td>1.792718e+07</td>\n",
       "      <td>21000000</td>\n",
       "    </tr>\n",
       "    <tr>\n",
       "      <th>ETH</th>\n",
       "      <td>Ethash</td>\n",
       "      <td>PoW</td>\n",
       "      <td>1.076842e+08</td>\n",
       "      <td>0</td>\n",
       "    </tr>\n",
       "  </tbody>\n",
       "</table>\n",
       "</div>"
      ],
      "text/plain": [
       "     Algorithm ProofType  TotalCoinsMined TotalCoinSupply\n",
       "42      Scrypt   PoW/PoS     4.199995e+01              42\n",
       "404     Scrypt   PoW/PoS     1.055185e+09       532000000\n",
       "1337       X13   PoW/PoS     2.927942e+10    314159265359\n",
       "BTC    SHA-256       PoW     1.792718e+07        21000000\n",
       "ETH     Ethash       PoW     1.076842e+08               0"
      ]
     },
     "execution_count": 35,
     "metadata": {},
     "output_type": "execute_result"
    }
   ],
   "source": [
    "# Initialize the K-Means model.\n",
    "model = KMeans(n_clusters=4, random_state=0)\n",
    "\n",
    "# Fit the model\n",
    "model.fit(pcs_df)\n",
    "\n",
    "# Predict clusters\n",
    "predictions = model.predict(pcs_df)\n",
    "\n",
    "crypto_df.head(5)"
   ]
  },
  {
   "cell_type": "code",
   "execution_count": 37,
   "id": "c28f660a",
   "metadata": {},
   "outputs": [
    {
     "name": "stdout",
     "output_type": "stream",
     "text": [
      "(532, 9)\n"
     ]
    },
    {
     "data": {
      "text/html": [
       "<div>\n",
       "<style scoped>\n",
       "    .dataframe tbody tr th:only-of-type {\n",
       "        vertical-align: middle;\n",
       "    }\n",
       "\n",
       "    .dataframe tbody tr th {\n",
       "        vertical-align: top;\n",
       "    }\n",
       "\n",
       "    .dataframe thead th {\n",
       "        text-align: right;\n",
       "    }\n",
       "</style>\n",
       "<table border=\"1\" class=\"dataframe\">\n",
       "  <thead>\n",
       "    <tr style=\"text-align: right;\">\n",
       "      <th></th>\n",
       "      <th>Algorithm</th>\n",
       "      <th>ProofType</th>\n",
       "      <th>TotalCoinsMined</th>\n",
       "      <th>TotalCoinSupply</th>\n",
       "      <th>PC 1</th>\n",
       "      <th>PC 2</th>\n",
       "      <th>PC 3</th>\n",
       "      <th>CoinName</th>\n",
       "      <th>Class</th>\n",
       "    </tr>\n",
       "  </thead>\n",
       "  <tbody>\n",
       "    <tr>\n",
       "      <th>42</th>\n",
       "      <td>Scrypt</td>\n",
       "      <td>PoW/PoS</td>\n",
       "      <td>4.199995e+01</td>\n",
       "      <td>42</td>\n",
       "      <td>-0.369053</td>\n",
       "      <td>1.108111</td>\n",
       "      <td>-0.386043</td>\n",
       "      <td>42 Coin</td>\n",
       "      <td>0</td>\n",
       "    </tr>\n",
       "    <tr>\n",
       "      <th>404</th>\n",
       "      <td>Scrypt</td>\n",
       "      <td>PoW/PoS</td>\n",
       "      <td>1.055185e+09</td>\n",
       "      <td>532000000</td>\n",
       "      <td>-0.352455</td>\n",
       "      <td>1.108299</td>\n",
       "      <td>-0.386404</td>\n",
       "      <td>404Coin</td>\n",
       "      <td>0</td>\n",
       "    </tr>\n",
       "    <tr>\n",
       "      <th>1337</th>\n",
       "      <td>X13</td>\n",
       "      <td>PoW/PoS</td>\n",
       "      <td>2.927942e+10</td>\n",
       "      <td>314159265359</td>\n",
       "      <td>2.278782</td>\n",
       "      <td>1.709272</td>\n",
       "      <td>-0.469173</td>\n",
       "      <td>EliteCoin</td>\n",
       "      <td>0</td>\n",
       "    </tr>\n",
       "    <tr>\n",
       "      <th>BTC</th>\n",
       "      <td>SHA-256</td>\n",
       "      <td>PoW</td>\n",
       "      <td>1.792718e+07</td>\n",
       "      <td>21000000</td>\n",
       "      <td>-0.141245</td>\n",
       "      <td>-1.331397</td>\n",
       "      <td>0.118833</td>\n",
       "      <td>Bitcoin</td>\n",
       "      <td>3</td>\n",
       "    </tr>\n",
       "    <tr>\n",
       "      <th>ETH</th>\n",
       "      <td>Ethash</td>\n",
       "      <td>PoW</td>\n",
       "      <td>1.076842e+08</td>\n",
       "      <td>0</td>\n",
       "      <td>-0.134430</td>\n",
       "      <td>-2.084970</td>\n",
       "      <td>0.220158</td>\n",
       "      <td>Ethereum</td>\n",
       "      <td>3</td>\n",
       "    </tr>\n",
       "  </tbody>\n",
       "</table>\n",
       "</div>"
      ],
      "text/plain": [
       "     Algorithm ProofType  TotalCoinsMined TotalCoinSupply      PC 1      PC 2  \\\n",
       "42      Scrypt   PoW/PoS     4.199995e+01              42 -0.369053  1.108111   \n",
       "404     Scrypt   PoW/PoS     1.055185e+09       532000000 -0.352455  1.108299   \n",
       "1337       X13   PoW/PoS     2.927942e+10    314159265359  2.278782  1.709272   \n",
       "BTC    SHA-256       PoW     1.792718e+07        21000000 -0.141245 -1.331397   \n",
       "ETH     Ethash       PoW     1.076842e+08               0 -0.134430 -2.084970   \n",
       "\n",
       "          PC 3   CoinName  Class  \n",
       "42   -0.386043    42 Coin      0  \n",
       "404  -0.386404    404Coin      0  \n",
       "1337 -0.469173  EliteCoin      0  \n",
       "BTC   0.118833    Bitcoin      3  \n",
       "ETH   0.220158   Ethereum      3  "
      ]
     },
     "execution_count": 37,
     "metadata": {},
     "output_type": "execute_result"
    }
   ],
   "source": [
    "# Create a new DataFrame including predicted clusters and cryptocurrencies features.\n",
    "# Concatentate the crypto_df and pcs_df DataFtrames on the same columns.\n",
    "clustered_df = pd.concat([crypto_df, pcs_df], axis=1, sort=False)\n",
    "\n",
    "#  Add a new column, \"CoinName\" to the clustered_df DataFrame that holds the names of the cryptocurrencies. \n",
    "clustered_df[\"CoinName\"] = cryptoname_df[\"CoinName\"]\n",
    "\n",
    "\n",
    "#  Add a new column, \"Class\" to the clustered_df DataFrame that holds the predictions.\n",
    "clustered_df[\"Class\"] = model.labels_ \n",
    "\n",
    "# Print the shape of the clustered_df\n",
    "print(clustered_df.shape)\n",
    "clustered_df.head(5)"
   ]
  },
  {
   "cell_type": "markdown",
   "id": "aa4d69d4",
   "metadata": {},
   "source": [
    "# Deliverable 4: Visualizing Cryptocurrencies Results\n",
    "3D-Scatter with Clusters"
   ]
  },
  {
   "cell_type": "code",
   "execution_count": 39,
   "id": "b86ca3ea",
   "metadata": {},
   "outputs": [
    {
     "data": {
      "application/vnd.plotly.v1+json": {
       "config": {
        "plotlyServerURL": "https://plot.ly"
       },
       "data": [
        {
         "customdata": [
          [
           "Scrypt"
          ],
          [
           "Scrypt"
          ],
          [
           "X13"
          ],
          [
           "X11"
          ],
          [
           "SHA-512"
          ],
          [
           "SHA-256"
          ],
          [
           "SHA-256"
          ],
          [
           "X15"
          ],
          [
           "Scrypt"
          ],
          [
           "Scrypt"
          ],
          [
           "Scrypt"
          ],
          [
           "Scrypt"
          ],
          [
           "Scrypt"
          ],
          [
           "Scrypt"
          ],
          [
           "Groestl"
          ],
          [
           "PoS"
          ],
          [
           "Scrypt"
          ],
          [
           "Scrypt"
          ],
          [
           "X11"
          ],
          [
           "X11"
          ],
          [
           "SHA3"
          ],
          [
           "Scrypt"
          ],
          [
           "SHA-256"
          ],
          [
           "Scrypt"
          ],
          [
           "X13"
          ],
          [
           "X13"
          ],
          [
           "NeoScrypt"
          ],
          [
           "Scrypt"
          ],
          [
           "Scrypt"
          ],
          [
           "Scrypt"
          ],
          [
           "X11"
          ],
          [
           "X11"
          ],
          [
           "Multiple"
          ],
          [
           "PHI1612"
          ],
          [
           "X11"
          ],
          [
           "Scrypt"
          ],
          [
           "Scrypt"
          ],
          [
           "Scrypt"
          ],
          [
           "X11"
          ],
          [
           "Multiple"
          ],
          [
           "X13"
          ],
          [
           "Scrypt"
          ],
          [
           "Shabal256"
          ],
          [
           "Counterparty"
          ],
          [
           "SHA-256"
          ],
          [
           "Groestl"
          ],
          [
           "Scrypt"
          ],
          [
           "X13"
          ],
          [
           "Scrypt"
          ],
          [
           "Scrypt"
          ],
          [
           "X13"
          ],
          [
           "X11"
          ],
          [
           "Scrypt"
          ],
          [
           "X11"
          ],
          [
           "SHA3"
          ],
          [
           "QUAIT"
          ],
          [
           "X11"
          ],
          [
           "Scrypt"
          ],
          [
           "X13"
          ],
          [
           "SHA-256"
          ],
          [
           "X15"
          ],
          [
           "BLAKE256"
          ],
          [
           "SHA-256"
          ],
          [
           "X11"
          ],
          [
           "SHA-256"
          ],
          [
           "NIST5"
          ],
          [
           "Scrypt"
          ],
          [
           "Scrypt"
          ],
          [
           "X11"
          ],
          [
           "Scrypt"
          ],
          [
           "SHA-256"
          ],
          [
           "Scrypt"
          ],
          [
           "PoS"
          ],
          [
           "X11"
          ],
          [
           "SHA-256"
          ],
          [
           "SHA-256"
          ],
          [
           "NIST5"
          ],
          [
           "X11"
          ],
          [
           "POS 3.0"
          ],
          [
           "Scrypt"
          ],
          [
           "Scrypt"
          ],
          [
           "Scrypt"
          ],
          [
           "X13"
          ],
          [
           "X11"
          ],
          [
           "X11"
          ],
          [
           "Scrypt"
          ],
          [
           "SHA-256"
          ],
          [
           "X11"
          ],
          [
           "Scrypt"
          ],
          [
           "Scrypt"
          ],
          [
           "Scrypt"
          ],
          [
           "Scrypt"
          ],
          [
           "SHA-256D"
          ],
          [
           "PoS"
          ],
          [
           "Scrypt"
          ],
          [
           "X11"
          ],
          [
           "PoS"
          ],
          [
           "X13"
          ],
          [
           "X14"
          ],
          [
           "PoS"
          ],
          [
           "SHA-256D"
          ],
          [
           "DPoS"
          ],
          [
           "X11"
          ],
          [
           "X13"
          ],
          [
           "X11"
          ],
          [
           "PoS"
          ],
          [
           "Scrypt"
          ],
          [
           "Scrypt"
          ],
          [
           "PoS"
          ],
          [
           "X11"
          ],
          [
           "SHA-256"
          ],
          [
           "Scrypt"
          ],
          [
           "X11"
          ],
          [
           "Scrypt"
          ],
          [
           "Scrypt"
          ],
          [
           "X11"
          ],
          [
           "Scrypt"
          ],
          [
           "Scrypt"
          ],
          [
           "Scrypt"
          ],
          [
           "Scrypt"
          ],
          [
           "Quark"
          ],
          [
           "QuBit"
          ],
          [
           "Scrypt"
          ],
          [
           "SHA-256"
          ],
          [
           "X11"
          ],
          [
           "Scrypt"
          ],
          [
           "Scrypt"
          ],
          [
           "Scrypt"
          ],
          [
           "Scrypt"
          ],
          [
           "X13"
          ],
          [
           "Scrypt"
          ],
          [
           "Scrypt"
          ],
          [
           "X11"
          ],
          [
           "Blake2S"
          ],
          [
           "X11"
          ],
          [
           "PoS"
          ],
          [
           "X11"
          ],
          [
           "PoS"
          ],
          [
           "X11"
          ],
          [
           "Scrypt"
          ],
          [
           "Scrypt"
          ],
          [
           "Scrypt"
          ],
          [
           "SHA-256"
          ],
          [
           "X11"
          ],
          [
           "Scrypt"
          ],
          [
           "PoS"
          ],
          [
           "Scrypt"
          ],
          [
           "X15"
          ],
          [
           "SHA-256"
          ],
          [
           "POS 3.0"
          ],
          [
           "536"
          ],
          [
           "NIST5"
          ],
          [
           "NIST5"
          ],
          [
           "Skein"
          ],
          [
           "X13"
          ],
          [
           "Scrypt"
          ],
          [
           "X13"
          ],
          [
           "SkunkHash v2 Raptor"
          ],
          [
           "Skein"
          ],
          [
           "X11"
          ],
          [
           "Scrypt"
          ],
          [
           "VeChainThor Authority"
          ],
          [
           "PoS"
          ],
          [
           "Scrypt"
          ],
          [
           "Scrypt"
          ],
          [
           "SHA-512"
          ],
          [
           "Ouroboros"
          ],
          [
           "X11"
          ],
          [
           "NeoScrypt"
          ],
          [
           "Scrypt"
          ],
          [
           "Lyra2REv2"
          ],
          [
           "Scrypt"
          ],
          [
           "SHA-256"
          ],
          [
           "NIST5"
          ],
          [
           "PHI1612"
          ],
          [
           "Scrypt"
          ],
          [
           "Quark"
          ],
          [
           "POS 2.0"
          ],
          [
           "Scrypt"
          ],
          [
           "SHA-256"
          ],
          [
           "X11"
          ],
          [
           "DPoS"
          ],
          [
           "NIST5"
          ],
          [
           "X13"
          ],
          [
           "Scrypt"
          ],
          [
           "NIST5"
          ],
          [
           "Quark"
          ],
          [
           "Scrypt"
          ],
          [
           "Scrypt"
          ],
          [
           "X11"
          ],
          [
           "Quark"
          ],
          [
           "Scrypt"
          ],
          [
           "Scrypt"
          ],
          [
           "X11"
          ],
          [
           "POS 3.0"
          ],
          [
           "Scrypt"
          ],
          [
           "Scrypt"
          ],
          [
           "X13"
          ],
          [
           "SHA-256 + Hive"
          ],
          [
           "C11"
          ],
          [
           "Proof-of-Authority"
          ],
          [
           "X11"
          ],
          [
           "XEVAN"
          ],
          [
           "Scrypt"
          ],
          [
           "VBFT"
          ],
          [
           "NIST5"
          ],
          [
           "Scrypt"
          ],
          [
           "Scrypt"
          ],
          [
           "Scrypt"
          ],
          [
           "Green Protocol"
          ],
          [
           "PoS"
          ],
          [
           "Scrypt"
          ],
          [
           "Semux BFT consensus"
          ],
          [
           "Quark"
          ],
          [
           "PoS"
          ],
          [
           "X16R"
          ],
          [
           "Scrypt"
          ],
          [
           "XEVAN"
          ],
          [
           "Scrypt"
          ],
          [
           "Scrypt"
          ],
          [
           "Scrypt"
          ],
          [
           "SHA-256D"
          ],
          [
           "Scrypt"
          ],
          [
           "X15"
          ],
          [
           "Scrypt"
          ],
          [
           "Quark"
          ],
          [
           "SHA-256"
          ],
          [
           "DPoS"
          ],
          [
           "X16R"
          ],
          [
           "Quark"
          ],
          [
           "Quark"
          ],
          [
           "Scrypt"
          ],
          [
           "Lyra2REv2"
          ],
          [
           "Quark"
          ],
          [
           "Scrypt"
          ],
          [
           "X11"
          ],
          [
           "X11"
          ],
          [
           "Scrypt"
          ],
          [
           "PoS"
          ],
          [
           "Keccak"
          ],
          [
           "X11"
          ],
          [
           "Scrypt"
          ],
          [
           "SHA-512"
          ],
          [
           "XEVAN"
          ],
          [
           "XEVAN"
          ],
          [
           "X11"
          ],
          [
           "Quark"
          ],
          [
           "Scrypt"
          ],
          [
           "Quark"
          ],
          [
           "Quark"
          ],
          [
           "Scrypt"
          ],
          [
           "X11"
          ],
          [
           "Scrypt"
          ],
          [
           "XEVAN"
          ],
          [
           "SHA-256D"
          ],
          [
           "X11"
          ],
          [
           "X11"
          ],
          [
           "DPoS"
          ],
          [
           "Scrypt"
          ],
          [
           "X11"
          ],
          [
           "Scrypt"
          ],
          [
           "Scrypt"
          ],
          [
           "SHA-256"
          ],
          [
           "Scrypt"
          ],
          [
           "X11"
          ],
          [
           "Scrypt"
          ],
          [
           "SHA-256"
          ],
          [
           "X11"
          ],
          [
           "Scrypt"
          ],
          [
           "Scrypt"
          ],
          [
           "X11"
          ],
          [
           "Scrypt"
          ],
          [
           "PoS"
          ],
          [
           "X11"
          ],
          [
           "SHA-256"
          ],
          [
           "DPoS"
          ],
          [
           "Scrypt"
          ],
          [
           "Scrypt"
          ],
          [
           "NeoScrypt"
          ],
          [
           "X13"
          ],
          [
           "DPoS"
          ],
          [
           "DPoS"
          ],
          [
           "SHA-256"
          ],
          [
           "Leased POS"
          ],
          [
           "PoS"
          ],
          [
           "PoS"
          ],
          [
           "SHA-256"
          ],
          [
           "Scrypt"
          ],
          [
           "Scrypt"
          ]
         ],
         "hovertemplate": "<b>%{hovertext}</b><br><br>Class=%{marker.color}<br>PC 1=%{x}<br>PC 2=%{y}<br>PC 3=%{z}<br>Algorithm=%{customdata[0]}<extra></extra>",
         "hovertext": [
          "42 Coin",
          "404Coin",
          "EliteCoin",
          "Dash",
          "Bitshares",
          "BitcoinDark",
          "PayCoin",
          "KoboCoin",
          "Aurora Coin",
          "BlueCoin",
          "EnergyCoin",
          "BitBar",
          "CryptoBullion",
          "CasinoCoin",
          "Diamond",
          "Exclusive Coin",
          "FlutterCoin",
          "HoboNickels",
          "HyperStake",
          "IOCoin",
          "MaxCoin",
          "MintCoin",
          "MazaCoin",
          "Nautilus Coin",
          "NavCoin",
          "OpalCoin",
          "Orbitcoin",
          "PotCoin",
          "PhoenixCoin",
          "Reddcoin",
          "SuperCoin",
          "SyncCoin",
          "TeslaCoin",
          "TittieCoin",
          "TorCoin",
          "UnitaryStatus Dollar",
          "UltraCoin",
          "VeriCoin",
          "X11 Coin",
          "Crypti",
          "StealthCoin",
          "ZCC Coin",
          "BurstCoin",
          "StorjCoin",
          "Neutron",
          "FairCoin",
          "RubyCoin",
          "Kore",
          "Dnotes",
          "8BIT Coin",
          "Sativa Coin",
          "Ucoin",
          "Vtorrent",
          "IslaCoin",
          "Nexus",
          "Droidz",
          "Squall Coin",
          "Diggits",
          "Paycon",
          "Emercoin",
          "EverGreenCoin",
          "Decred",
          "EDRCoin",
          "Hitcoin",
          "DubaiCoin",
          "PWR Coin",
          "BillaryCoin",
          "GPU Coin",
          "EuropeCoin",
          "ZeitCoin",
          "SwingCoin",
          "SafeExchangeCoin",
          "Nebuchadnezzar",
          "Ratecoin",
          "Revenu",
          "Clockcoin",
          "VIP Tokens",
          "BitSend",
          "Let it Ride",
          "PutinCoin",
          "iBankCoin",
          "Frankywillcoin",
          "MudraCoin",
          "Lutetium Coin",
          "GoldBlocks",
          "CarterCoin",
          "BitTokens",
          "MustangCoin",
          "ZoneCoin",
          "RootCoin",
          "BitCurrency",
          "Swiscoin",
          "BuzzCoin",
          "Opair",
          "PesoBit",
          "Halloween Coin",
          "CoffeeCoin",
          "RoyalCoin",
          "GanjaCoin V2",
          "TeamUP",
          "LanaCoin",
          "ARK",
          "InsaneCoin",
          "EmberCoin",
          "XenixCoin",
          "FreeCoin",
          "PLNCoin",
          "AquariusCoin",
          "Creatio",
          "Eternity",
          "Eurocoin",
          "BitcoinFast",
          "Stakenet",
          "BitConnect Coin",
          "MoneyCoin",
          "Enigma",
          "Russiacoin",
          "PandaCoin",
          "GameUnits",
          "GAKHcoin",
          "Allsafe",
          "LiteCreed",
          "Klingon Empire Darsek",
          "Internet of People",
          "KushCoin",
          "Printerium",
          "Impeach",
          "Zilbercoin",
          "FirstCoin",
          "FindCoin",
          "OpenChat",
          "RenosCoin",
          "VirtacoinPlus",
          "TajCoin",
          "Impact",
          "Atmos",
          "HappyCoin",
          "MacronCoin",
          "Condensate",
          "Independent Money System",
          "ArgusCoin",
          "LomoCoin",
          "ProCurrency",
          "GoldReserve",
          "GrowthCoin",
          "Phreak",
          "Degas Coin",
          "HTML5 Coin",
          "Ultimate Secure Cash",
          "QTUM",
          "Espers",
          "Denarius",
          "Virta Unique Coin",
          "Bitcoin Planet",
          "BritCoin",
          "Linda",
          "DeepOnion",
          "Signatum",
          "Cream",
          "Monoeci",
          "Draftcoin",
          "Vechain",
          "Stakecoin",
          "CoinonatX",
          "Ethereum Dark",
          "Obsidian",
          "Cardano",
          "Regalcoin",
          "TrezarCoin",
          "TerraNovaCoin",
          "Rupee",
          "WomenCoin",
          "Theresa May Coin",
          "NamoCoin",
          "LUXCoin",
          "Xios",
          "Bitcloud 2.0",
          "KekCoin",
          "BlackholeCoin",
          "Infinity Economics",
          "Magnet",
          "Lamden Tau",
          "Electra",
          "Bitcoin Diamond",
          "Cash & Back Coin",
          "Bulwark",
          "Kalkulus",
          "GermanCoin",
          "LiteCoin Ultra",
          "PhantomX",
          "Digiwage",
          "Trollcoin",
          "Litecoin Plus",
          "Monkey Project",
          "TokenPay",
          "My Big Coin",
          "Unified Society USDEX",
          "Tokyo Coin",
          "LitecoinCash",
          "Stipend",
          "Poa Network",
          "Pushi",
          "Ellerium",
          "Velox",
          "Ontology",
          "Bitspace",
          "Briacoin",
          "Ignition",
          "MedicCoin",
          "Bitcoin Green",
          "Deviant Coin",
          "Abjcoin",
          "Semux",
          "Carebit",
          "Zealium",
          "Proton",
          "iDealCash",
          "Bitcoin Incognito",
          "HollyWoodCoin",
          "Swisscoin",
          "Xt3ch",
          "TheVig",
          "EmaratCoin",
          "Dekado",
          "Lynx",
          "Poseidon Quark",
          "BitcoinWSpectrum",
          "Muse",
          "Trivechain",
          "Dystem",
          "Giant",
          "Peony Coin",
          "Absolute Coin",
          "Vitae",
          "TPCash",
          "ARENON",
          "EUNO",
          "MMOCoin",
          "Ketan",
          "XDNA",
          "PAXEX",
          "ThunderStake",
          "Kcash",
          "Bettex coin",
          "BitMoney",
          "Junson Ming Chan Coin",
          "HerbCoin",
          "Oduwa",
          "Galilel",
          "Crypto Sports",
          "Credit",
          "Dash Platinum",
          "Nasdacoin",
          "Beetle Coin",
          "Titan Coin",
          "Award",
          "Insane Coin",
          "ALAX",
          "LiteDoge",
          "TruckCoin",
          "OrangeCoin",
          "BitstarCoin",
          "NeosCoin",
          "HyperCoin",
          "PinkCoin",
          "AudioCoin",
          "IncaKoin",
          "Piggy Coin",
          "Genstake",
          "XiaoMiCoin",
          "CapriCoin",
          " ClubCoin",
          "Radium",
          "Creditbit ",
          "OKCash",
          "Lisk",
          "HiCoin",
          "WhiteCoin",
          "FriendshipCoin",
          "Triangles Coin",
          "EOS",
          "Oxycoin",
          "TigerCash",
          "Waves",
          "Particl",
          "Nxt",
          "ZEPHYR",
          "Gapcoin",
          "BitcoinPlus"
         ],
         "legendgroup": "0",
         "marker": {
          "color": [
           0,
           0,
           0,
           0,
           0,
           0,
           0,
           0,
           0,
           0,
           0,
           0,
           0,
           0,
           0,
           0,
           0,
           0,
           0,
           0,
           0,
           0,
           0,
           0,
           0,
           0,
           0,
           0,
           0,
           0,
           0,
           0,
           0,
           0,
           0,
           0,
           0,
           0,
           0,
           0,
           0,
           0,
           0,
           0,
           0,
           0,
           0,
           0,
           0,
           0,
           0,
           0,
           0,
           0,
           0,
           0,
           0,
           0,
           0,
           0,
           0,
           0,
           0,
           0,
           0,
           0,
           0,
           0,
           0,
           0,
           0,
           0,
           0,
           0,
           0,
           0,
           0,
           0,
           0,
           0,
           0,
           0,
           0,
           0,
           0,
           0,
           0,
           0,
           0,
           0,
           0,
           0,
           0,
           0,
           0,
           0,
           0,
           0,
           0,
           0,
           0,
           0,
           0,
           0,
           0,
           0,
           0,
           0,
           0,
           0,
           0,
           0,
           0,
           0,
           0,
           0,
           0,
           0,
           0,
           0,
           0,
           0,
           0,
           0,
           0,
           0,
           0,
           0,
           0,
           0,
           0,
           0,
           0,
           0,
           0,
           0,
           0,
           0,
           0,
           0,
           0,
           0,
           0,
           0,
           0,
           0,
           0,
           0,
           0,
           0,
           0,
           0,
           0,
           0,
           0,
           0,
           0,
           0,
           0,
           0,
           0,
           0,
           0,
           0,
           0,
           0,
           0,
           0,
           0,
           0,
           0,
           0,
           0,
           0,
           0,
           0,
           0,
           0,
           0,
           0,
           0,
           0,
           0,
           0,
           0,
           0,
           0,
           0,
           0,
           0,
           0,
           0,
           0,
           0,
           0,
           0,
           0,
           0,
           0,
           0,
           0,
           0,
           0,
           0,
           0,
           0,
           0,
           0,
           0,
           0,
           0,
           0,
           0,
           0,
           0,
           0,
           0,
           0,
           0,
           0,
           0,
           0,
           0,
           0,
           0,
           0,
           0,
           0,
           0,
           0,
           0,
           0,
           0,
           0,
           0,
           0,
           0,
           0,
           0,
           0,
           0,
           0,
           0,
           0,
           0,
           0,
           0,
           0,
           0,
           0,
           0,
           0,
           0,
           0,
           0,
           0,
           0,
           0,
           0,
           0,
           0,
           0,
           0,
           0,
           0,
           0,
           0,
           0,
           0,
           0,
           0,
           0,
           0,
           0,
           0,
           0,
           0,
           0,
           0,
           0,
           0,
           0,
           0,
           0,
           0,
           0,
           0,
           0,
           0
          ],
          "coloraxis": "coloraxis",
          "symbol": "circle"
         },
         "mode": "markers",
         "name": "0",
         "scene": "scene",
         "showlegend": true,
         "type": "scatter3d",
         "x": [
          -0.3690528898986639,
          -0.3524547695923381,
          2.278781702769367,
          -0.41058207210117,
          -0.24500271480697688,
          -0.32161373886874695,
          -0.2370872579403929,
          -0.2512630208750103,
          -0.3687137630683333,
          -0.36132055192087825,
          -0.36755536555789603,
          -0.36904884079920786,
          -0.36903318238292293,
          0.41388895324738256,
          -0.3907690596581923,
          -0.3086843097752974,
          -0.33039499996823685,
          -0.3671189963266026,
          -0.3059585147574923,
          -0.41047718177686837,
          -0.4149894950099265,
          -0.025468324691470468,
          -0.28505829152967666,
          -0.284278412054682,
          -0.29578360271547927,
          -0.2964033679988892,
          -0.3583009419132678,
          -0.3633764947991746,
          -0.3674606697155898,
          -0.01231796612799029,
          -0.325767019254287,
          -0.4108473483521526,
          -0.21183890463144361,
          -0.27709372841856234,
          -0.41075931051524806,
          -0.34437831641441086,
          -0.36773523575037464,
          -0.2962808744451919,
          -0.4107239371152504,
          -0.21230505171472086,
          -0.296185092053017,
          -0.36018849569051786,
          -0.5993905888067753,
          -0.24184075530311716,
          -0.3208284366274913,
          -0.39019290508755855,
          -0.2842587887097835,
          -0.2964784292399478,
          -0.2789325928763049,
          -0.3690350288603477,
          -0.2964308073838695,
          -0.326210067628943,
          -0.36877040464016375,
          -0.41082894979514456,
          -0.3757693838172427,
          -0.41168030807536626,
          -0.1961824009415535,
          -0.2826663588867203,
          -0.29595422536099886,
          -0.3141973017981746,
          -0.2536956719184987,
          -0.09870534453209398,
          -0.3215847670548886,
          -0.08949869935276214,
          -0.3216482395042943,
          -0.2501293527149914,
          -0.36864671851368636,
          -0.2825356218674901,
          -0.4080083291401428,
          0.8645953297209705,
          -0.32144901538167336,
          -0.31410276887221755,
          -0.3083687784766604,
          -0.40868023418539645,
          -0.3201970469712189,
          -0.31787369924686754,
          -0.37101113589829304,
          -0.40956876957619603,
          -0.2678025650621804,
          -0.34503147600028744,
          -0.36868466086063206,
          -0.3671296585804859,
          -0.21065095231626213,
          -0.31374843497716787,
          -0.41030479960743627,
          -0.36789190089881624,
          -0.3216292406411481,
          -0.4108181765015094,
          -0.36887313706405733,
          -0.369029284608268,
          -0.2825257813944312,
          -0.2921929976165692,
          0.019559881418235895,
          -0.3073298217409291,
          -0.36864495694658733,
          -0.39703125391166677,
          -0.3066611808763787,
          -0.21207641970290156,
          -0.41914983837066083,
          -0.30641046965015867,
          -0.2937612386269218,
          3.8035678930268038,
          -0.4104122539388804,
          0.8312911236186972,
          -0.41077326131985537,
          -0.30779180883887824,
          -0.36857270241710405,
          -0.3687264139247786,
          -0.3083687784766604,
          -0.41034969950689854,
          -0.321492455409225,
          -0.3685734488780441,
          -0.398895950298337,
          -0.36872027281516906,
          -0.3643241181533929,
          -0.41080213851373465,
          -0.36793379336866416,
          0.3565455848190031,
          -0.36891880278104205,
          -0.3689891203871482,
          -0.3138323886627472,
          -0.3610979935739689,
          -0.3652294945877098,
          -0.32160574697681016,
          -0.41071243309742395,
          -0.3687677639401359,
          -0.36889421371628917,
          -0.2841655320182712,
          -0.31312657044159836,
          -0.2118451562808979,
          -0.34982056944703815,
          -0.2839077295796453,
          -0.40998084171698435,
          -0.4192324584873946,
          -0.40872414334365087,
          -0.3066219991683844,
          -0.4098791280143474,
          -0.3010431996705351,
          -0.40583508205420676,
          -0.368837724766011,
          -0.3688368999463276,
          -0.36198327314161677,
          0.2936669868780779,
          -0.4103558735027722,
          -0.26687108372353746,
          -0.3084029136605624,
          -0.3680513094505435,
          0.8764429044521892,
          -0.23578235625937205,
          -0.26658555250149774,
          0.5499095493987319,
          -0.3725409481583768,
          -0.3710487914006541,
          -0.4592469229930436,
          -0.2961170896849031,
          0.09418961575628927,
          -0.29618761106131386,
          -0.2371981334914693,
          -0.45875375315809946,
          -0.41062726212204775,
          -0.2842395342123472,
          4.3131391049937235,
          -0.3082696363533979,
          -0.3684742879981576,
          -0.36897211495713494,
          -0.3028472997879248,
          0.7482675796394365,
          -0.4105682797112675,
          -0.3533188611755877,
          -0.36892787642542446,
          -0.26483771637051057,
          0.3972284897418476,
          -0.31995832049139256,
          -0.3573647293143067,
          -0.3970200184680915,
          -0.36887839741210987,
          -0.3967432009172826,
          -0.2824381892467229,
          -0.3687493208858256,
          -0.0642306295805023,
          -0.409365390355939,
          3.8084057428010625,
          0.18482689174734676,
          -0.29287107396282663,
          -0.3662190934211651,
          -0.2878420686072936,
          -0.3137187284345467,
          0.04389077380740825,
          -0.3678909068081329,
          -0.40994447764126274,
          -0.31288650220663716,
          -0.35550368027676993,
          -0.3689941600115655,
          -0.3261821049323571,
          -0.26808339494186584,
          -0.28329722776513516,
          -0.3645563565690998,
          -0.20367121753888467,
          0.3094450242204702,
          -0.40101737432444284,
          -0.2690616266368929,
          -0.4106444015804879,
          -0.13371247678889203,
          -0.2834025568282236,
          -0.2439496946446802,
          -0.37214138601397856,
          -0.36902140971956027,
          -0.36900318766514084,
          -0.27780513564764925,
          -0.2733085580404722,
          -0.30786562243330345,
          -0.36872075097173007,
          3.982164997472245,
          -0.3954164617300685,
          -0.3080535698281013,
          -0.2807393180142603,
          -0.3157869229458763,
          0.08080060636074067,
          -0.2839349241882343,
          -0.1728832138606841,
          -0.2841859476998418,
          -0.35883790466469734,
          -0.36819671613274796,
          -0.16857853954041213,
          2.190418874694468,
          -0.3094419799943335,
          -0.23590982556212925,
          1.0905942520298368,
          -0.36454168558634553,
          -0.3138318118809302,
          -0.3984212126257571,
          -0.16534447106145617,
          -0.34922951448064116,
          -0.31255618125160145,
          -0.3619235998082154,
          -0.3257610891371609,
          -0.4101197457685602,
          -0.28144171671595997,
          -0.30715658304810767,
          -0.3510663815673529,
          -0.3256229007301014,
          -0.22901093704420653,
          -0.3385532874254427,
          -0.04924232000477576,
          1.1209362679739665,
          -0.11696015517321368,
          -0.39771849260521813,
          -0.36872473164279285,
          -0.3981729054400054,
          -0.3139483477947421,
          0.5344109231383812,
          -0.32623620973302253,
          -0.3682095275723848,
          -0.12818878814550422,
          -0.31372343143786546,
          -0.4076930402402479,
          -0.4103461391204799,
          3.820600584408902,
          0.0645830609127037,
          -0.40789553685609337,
          -0.36759714124348414,
          -0.36841925935264463,
          -0.23711973813687368,
          -0.3689356906746694,
          -0.4020057083648426,
          -0.28295146609663535,
          -0.10213803673978047,
          -0.39776952663790455,
          -0.36821681042354587,
          -0.36130743592646747,
          -0.4069277950097573,
          -0.36666177274667994,
          -0.3086433531736483,
          -0.3939567896694451,
          -0.3201344322944719,
          3.803958254372253,
          -0.09220099018680454,
          -0.3638672284473823,
          -0.3579281290146036,
          -0.29658524186599466,
          3.8137870531857847,
          3.8150262953102705,
          -0.21808919953390526,
          -0.16060530488960717,
          -0.30857947283384185,
          -0.3675131109406821,
          2.5122662645449734,
          -0.3671053146771361,
          -0.2845809658954636
         ],
         "y": [
          1.1081114085799066,
          1.1082990007400306,
          1.7092723224569317,
          1.2728258188279087,
          1.4169560256042146,
          0.8719875082874503,
          0.5935109815276867,
          1.8876851448929568,
          1.1081108527443546,
          1.1083831834105407,
          1.1081640433224678,
          1.1081111789398406,
          1.1081113573106758,
          0.639125935583711,
          1.028717348047187,
          1.4940248069891222,
          0.4667042942640632,
          1.1080901035533277,
          0.9950649601378777,
          1.2728295054938226,
          2.077294545140272,
          0.8387331401842091,
          0.8714888916919024,
          0.8296244930818375,
          1.8525091224232322,
          1.8524873390265346,
          0.5607777949705692,
          1.1079984513242838,
          1.10809446196536,
          1.1206498623910088,
          0.9943687344489095,
          1.2728328616885838,
          0.08286561385756117,
          1.6147484149010436,
          1.2728285170040838,
          1.1077883034021418,
          1.1080833236153955,
          0.35801244847347125,
          1.272833108196681,
          0.08292362746771631,
          1.852495010949512,
          1.107678996090806,
          1.216053996971792,
          1.4148579774425836,
          0.8719808870220889,
          1.0287408572401537,
          0.8296372203413608,
          1.8524757730682802,
          0.8294524361848334,
          1.1081120363876509,
          1.8524789348258077,
          0.994338282733266,
          1.1081064578187902,
          1.2728335091016736,
          2.2513099073633898,
          1.9324534856009918,
          0.6581654261739778,
          0.829618793110713,
          1.8524659265784882,
          0.8715205707205167,
          1.8878404692409285,
          1.0076133707346944,
          0.8719885265834588,
          1.2643749865169758,
          0.8719948513966149,
          1.6102506538813104,
          1.1080944376303699,
          0.8295333279029431,
          1.2726469607360436,
          0.7963632486738728,
          0.8719799063791647,
          0.6417000031930593,
          1.4940210176929336,
          1.2728532335176166,
          0.8718879672068384,
          0.8717447422729604,
          1.6059349652041064,
          1.272774388934409,
          1.4540157905633082,
          1.1074677556186834,
          1.108091368094497,
          1.108104608330877,
          1.5738980380941345,
          0.994302368805875,
          1.272814733005254,
          1.1080852569436928,
          0.871987707410617,
          1.272831655829551,
          1.1081021030217415,
          1.1081122382855708,
          0.8296981317651544,
          0.41155414484252156,
          1.994300444520165,
          1.4940173600162996,
          1.1081257465638505,
          1.2722025030528776,
          1.4940661565641038,
          1.5739948713185927,
          1.9841811558992046,
          1.4938807905414082,
          1.9925831351149006,
          1.798346154391067,
          1.2728258357525843,
          1.8914909583975175,
          1.272832599644956,
          1.494018977617371,
          1.1080996132937015,
          1.1080916365106537,
          1.4940210176929336,
          1.2728057151055605,
          0.8719932590895273,
          1.108103708687731,
          0.6688404915259288,
          1.108102268029997,
          1.1077935389081068,
          1.2728307315765592,
          1.1080436097770925,
          0.827969756995631,
          1.1081064497844813,
          1.1081111831007517,
          1.462257364647159,
          0.6388127065079545,
          1.1078738042970282,
          0.8719885331616296,
          1.272830645251881,
          1.108106550633632,
          1.1081006678454932,
          0.829599579396112,
          0.3701995567980832,
          1.573994053606837,
          1.1080434060639672,
          0.8296239468493967,
          1.2727889205866263,
          1.9208866378466545,
          1.2728256510246934,
          1.4940152395004376,
          1.2727924956012224,
          1.4939957846780074,
          1.2726370443382018,
          1.1081031898736435,
          1.1080977224549715,
          1.1076159135815924,
          0.5563768873849453,
          1.2728203776355809,
          0.8287604069627358,
          1.4940123781494925,
          1.1080684944317334,
          1.8606240418488322,
          0.5934172877130461,
          1.4540090914523962,
          1.946458014441671,
          1.6059407137728954,
          1.6059113223966595,
          2.0435321501053325,
          1.8524750817855502,
          1.0871945401351675,
          1.8524808626020277,
          1.442642350090073,
          2.0435494839483885,
          1.2728335247956868,
          0.8296249475187262,
          2.8074489367704474,
          1.4939935529205748,
          1.1080958468446978,
          1.1081111229721767,
          1.417533663773035,
          1.3519003271234051,
          1.2728225837171807,
          0.5606581183740245,
          1.1081040973298304,
          0.6469745318759929,
          1.1164451106101188,
          0.8719876624527214,
          1.6055887925503982,
          1.8936542910693444,
          1.1081019181319913,
          1.7406601107359718,
          1.4898952290788259,
          1.1081110762675652,
          0.5929000247342666,
          1.272777817386878,
          1.7982372030147746,
          1.6032191175729897,
          1.8524552563593104,
          1.108054775279634,
          1.3274499982905137,
          1.4622576396729234,
          1.0854266456484414,
          1.10804065328632,
          1.2728273975357427,
          1.4622124929455118,
          1.107918054787627,
          1.1081104969319653,
          0.9943385215843805,
          1.4540122438074299,
          0.3862793036768423,
          1.1080968493643042,
          1.5736969745591487,
          0.8371086802941673,
          1.0454353151996303,
          2.0654290511101627,
          1.2728213961529091,
          1.2849683274768242,
          0.8295750619212721,
          1.4764111623419707,
          1.6059249984449913,
          1.108110283140843,
          1.1081094356530252,
          0.8294920638450607,
          1.4248896345214048,
          1.493988112118926,
          1.108100763270588,
          1.7901233205421612,
          1.7407067427219873,
          1.4939874579913062,
          0.6459875453729097,
          1.1061729790829993,
          0.6703245686093732,
          0.8296292600800165,
          1.107417782891115,
          0.8296070455723478,
          1.9958057232565314,
          1.1080790072134132,
          1.609330242013276,
          0.2748555799557532,
          1.4619392527703516,
          0.5934870726762574,
          1.6138197757448878,
          0.924468657148306,
          1.4622529210600317,
          1.74074609538907,
          0.8212584735768078,
          0.9254416568869174,
          1.4622389825384519,
          1.1076180109689882,
          0.9943280241652146,
          1.2728212372436978,
          0.8295428003495164,
          1.4939222681571764,
          0.9354533334537942,
          0.9942994022379252,
          1.0996419982803793,
          1.4326599362849162,
          1.0064901930346641,
          0.40141533592401696,
          1.0017078398735344,
          1.7407344519495325,
          1.1081073191483142,
          1.7407444927298756,
          1.462254501618719,
          1.0842167377434015,
          0.9943375870883661,
          1.108078556919279,
          1.2848351233589075,
          1.993745913039036,
          1.2726312592940712,
          1.2728281595441158,
          1.7982938367622245,
          1.0973135837391794,
          1.2729366121625254,
          1.1080137796733536,
          1.1080933140572657,
          0.5935035161183768,
          1.1081155279080115,
          1.272771638463449,
          1.1033259311283952,
          0.879576612005267,
          1.2725485426906946,
          1.1081296353300734,
          1.108086053759178,
          1.272815879037775,
          1.1080764148989999,
          1.4940195507346337,
          0.7323501337301147,
          0.8719777526241899,
          1.7983338962667827,
          0.828941292922408,
          1.1080704803028532,
          0.5607489396285031,
          1.8524808572799607,
          1.7987983326392336,
          1.7988418892945126,
          0.5934440448888506,
          2.1528150365076777,
          1.4940220681804084,
          1.5938033802382947,
          0.777916924682246,
          1.1079938674722092,
          0.8296251525400066
         ],
         "z": [
          -0.38604286358758116,
          -0.3864038953068363,
          -0.4691725190546642,
          -0.34886884714754984,
          -0.18730691591143736,
          -0.26717335643934875,
          -0.06958187661259042,
          -0.49148634300454647,
          -0.38604948760376256,
          -0.38624266591744477,
          -0.38608155937229316,
          -0.38604290444190553,
          -0.38604324527368605,
          -0.17899714410940998,
          -0.34422912319062376,
          -0.07509954625030864,
          -0.16795738547060235,
          -0.38607752809969614,
          -0.15179826690271794,
          -0.3488715574960472,
          -0.3841423223381756,
          -0.19514418968107908,
          -0.26781216065238234,
          -0.1884545162712514,
          -0.44271976271498403,
          -0.44270374808336393,
          -0.23202553128128098,
          -0.38613596626336205,
          -0.38607150559608866,
          -0.39526083456202,
          -0.1512864184482342,
          -0.34886479860569686,
          0.03871375146013206,
          -0.127967100098357,
          -0.3488657980345532,
          -0.3864763573816577,
          -0.38606415573916825,
          -0.1902839682516681,
          -0.3488672860890933,
          0.038713040805733706,
          -0.4427093882974231,
          -0.3861443598884222,
          -0.03314188012263111,
          -0.12209157388269408,
          -0.26718778084239486,
          -0.34424456963349365,
          -0.1884570872264572,
          -0.4427002778153268,
          -0.18853093615235428,
          -0.38604332511919004,
          -0.4427017634724968,
          -0.15127241898861468,
          -0.38604761180146535,
          -0.3488652741489014,
          -0.19483793749631126,
          -0.5376359812389101,
          -0.23547233349404273,
          -0.18848547953032416,
          -0.44270897594559716,
          -0.2672402440435601,
          -0.49146477454288134,
          -0.3700809272802055,
          -0.26717410506619016,
          -0.35378172475879144,
          -0.26717393186767013,
          -0.37853928337752235,
          -0.38604800155054414,
          -0.18847341650049584,
          -0.34888917617792553,
          -0.20551502699498053,
          -0.2671753168196788,
          -0.16501435719429863,
          -0.07510514836300568,
          -0.3489112297391068,
          -0.2671843594075046,
          -0.26720583667860154,
          -0.3754042380132373,
          -0.3488801064096187,
          -0.1062704607226402,
          -0.38640845657749934,
          -0.38604672349092817,
          -0.3860798037522993,
          -0.2451172227690045,
          -0.15151317094280548,
          -0.3488724401937195,
          -0.3860613831195787,
          -0.2671730834343075,
          -0.34886516985449345,
          -0.3860448296545821,
          -0.38604347354970664,
          -0.18850186784662545,
          -0.10881421210877305,
          -0.5684410403773074,
          -0.07512510669052293,
          -0.38605340451242376,
          -0.3490304670507255,
          -0.07514672124991656,
          -0.24510558165274698,
          -0.5432343427622841,
          -0.07511990688996531,
          -0.5619385866776938,
          -0.21382910847273845,
          -0.3488722147551721,
          -0.47173476133350534,
          -0.34886622160649605,
          -0.07511623041707587,
          -0.3860503554654226,
          -0.38604594223440536,
          -0.07510514836300568,
          -0.3488700044060685,
          -0.26717674550007386,
          -0.38605104284927627,
          -0.18225834296814578,
          -0.3860478867340806,
          -0.3860820572868844,
          -0.3488653291570778,
          -0.38605341248378106,
          -0.20086782202291223,
          -0.38604467012545357,
          -0.3860440884304975,
          -0.15024837343719924,
          -0.2498553913087256,
          -0.3860778804038214,
          -0.26717369050667783,
          -0.34886709174179614,
          -0.3860476800367138,
          -0.386044165983149,
          -0.18845248126428887,
          -0.2834383135908809,
          -0.2451100236087518,
          -0.3864122653744113,
          -0.18846176716423296,
          -0.34887443330294504,
          -0.3723798004468059,
          -0.3489056305977104,
          -0.0751387676178797,
          -0.34887706156806736,
          -0.07524596799245434,
          -0.34893053577228045,
          -0.3860457176446938,
          -0.386044796573547,
          -0.38609798313824223,
          -0.07373120930974794,
          -0.3488723960345105,
          -0.1886512662784472,
          -0.07510299073381026,
          -0.38605535065657276,
          -0.5091904859088489,
          -0.06959166715662918,
          -0.10629342550582802,
          -0.40637923405054166,
          -0.375374912573294,
          -0.3753994382561332,
          -0.48526964266053413,
          -0.4427073187220806,
          -0.39163506405895687,
          -0.4427069125883763,
          -0.23621726998138445,
          -0.4852823860868668,
          -0.34886927299463455,
          -0.1884553644957753,
          6.717585558109917,
          -0.07510240376339979,
          -0.3860516596326249,
          -0.38604441505963477,
          -0.18625984626629652,
          -0.06104539009773658,
          -0.3488685657497403,
          -0.23210372504210597,
          -0.3860440870050304,
          -0.04143904417277006,
          -0.402654492384785,
          -0.267206182636773,
          -0.3756152693123753,
          -0.3249307968688094,
          -0.38604469372806516,
          -0.34785921541376863,
          -0.1306834378899936,
          -0.38604882140015767,
          -0.07290203399465821,
          -0.34888472390390396,
          -0.21390628338952947,
          -0.38595173503556385,
          -0.4427682347560902,
          -0.3860893012051764,
          -0.17778441585953184,
          -0.15025067260768415,
          -0.39033535036688977,
          -0.38605375531631675,
          -0.3488817508532668,
          -0.15025942137736434,
          -0.386278170555173,
          -0.38604387093073744,
          -0.15127301398186035,
          -0.10626428836983098,
          -0.2767288541117574,
          -0.3861294597684731,
          -0.24522104304826545,
          -2.772855422422607,
          -0.3008965723057366,
          -0.3592596076111718,
          -0.34886685388967437,
          -0.4183114773665348,
          -0.1884633949020667,
          -0.1273598863552642,
          -0.3753801348655728,
          -0.386043294360998,
          -0.38604351009950044,
          -0.18856006945921636,
          -0.17252228442146714,
          -0.07510947587551307,
          -0.38604761926224834,
          -0.14738188716371445,
          -0.34789349813322323,
          -0.07510563981154589,
          -0.05386655237009149,
          -0.3867659005590729,
          -0.3049200627488907,
          -0.18846213931920536,
          -0.38981076195599723,
          -0.18845335686638656,
          -0.561201712305984,
          -0.3860542720937808,
          -0.29387921953772994,
          -0.32869264586937286,
          -0.1502808214253313,
          -0.06960110648243233,
          -0.15258795473880488,
          -0.2514731655968079,
          -0.15024762299210528,
          -0.3478407104534291,
          -0.18937663140798533,
          -0.23903158057580923,
          -0.1502705079792506,
          -0.38609952508723056,
          -0.15127955598193973,
          -0.34887722195407117,
          -0.18849671477215982,
          -0.07511223523789785,
          -0.35270421663322915,
          -0.15127738662954504,
          -0.3873654771924831,
          -0.2986212224993901,
          -0.22071860591236456,
          -0.36887223807229447,
          -0.15668195301182491,
          -0.3478526375324207,
          -0.38604866442593105,
          -0.34784535552461154,
          -0.15024558499237925,
          -0.3998468665665295,
          -0.15127178174845485,
          -0.38605394104831614,
          -0.41839808296412123,
          -0.5617424277251339,
          -0.3488927310963066,
          -0.34887392315105953,
          -0.21415761697735977,
          -0.39278340821649604,
          -0.34894107305030053,
          -0.3860549682608762,
          -0.38605231568920034,
          -0.06957995308525423,
          -0.38604589200135037,
          -0.34902948615012735,
          -0.3869283492125772,
          -0.27282314222667997,
          -0.34907516929319715,
          -0.38606255437461523,
          -0.3861919815632253,
          -0.34893954723825427,
          -0.38608424035385763,
          -0.07509945653850883,
          -0.11513644039969825,
          -0.2672009941462693,
          -0.213834741217519,
          -0.19214311993710748,
          -0.38613859276848717,
          -0.2320279706600865,
          -0.4426990331859723,
          -0.21410911463956353,
          -0.21414113644950294,
          -0.06994681957903187,
          8.25854322962125,
          -0.07510115386427474,
          0.06255763956006863,
          -0.13152319684037073,
          -0.38606129906870595,
          -0.18844863466350684
         ]
        },
        {
         "customdata": [
          [
           "SHA-256"
          ],
          [
           "Ethash"
          ],
          [
           "Scrypt"
          ],
          [
           "CryptoNight-V7"
          ],
          [
           "Ethash"
          ],
          [
           "Equihash"
          ],
          [
           "Multiple"
          ],
          [
           "Scrypt"
          ],
          [
           "X11"
          ],
          [
           "Scrypt"
          ],
          [
           "Multiple"
          ],
          [
           "Scrypt"
          ],
          [
           "SHA-256"
          ],
          [
           "Scrypt"
          ],
          [
           "Scrypt"
          ],
          [
           "Quark"
          ],
          [
           "Groestl"
          ],
          [
           "Scrypt"
          ],
          [
           "Scrypt"
          ],
          [
           "Scrypt"
          ],
          [
           "X11"
          ],
          [
           "Multiple"
          ],
          [
           "SHA-256"
          ],
          [
           "Scrypt"
          ],
          [
           "Scrypt"
          ],
          [
           "Scrypt"
          ],
          [
           "Scrypt"
          ],
          [
           "Scrypt"
          ],
          [
           "NeoScrypt"
          ],
          [
           "Scrypt"
          ],
          [
           "Scrypt"
          ],
          [
           "Scrypt"
          ],
          [
           "Scrypt"
          ],
          [
           "SHA-256"
          ],
          [
           "Scrypt"
          ],
          [
           "Scrypt"
          ],
          [
           "Scrypt"
          ],
          [
           "Scrypt"
          ],
          [
           "HybridScryptHash256"
          ],
          [
           "Scrypt"
          ],
          [
           "Scrypt"
          ],
          [
           "SHA-256"
          ],
          [
           "Scrypt"
          ],
          [
           "Scrypt"
          ],
          [
           "Scrypt"
          ],
          [
           "Scrypt"
          ],
          [
           "SHA-256"
          ],
          [
           "SHA-256"
          ],
          [
           "SHA-256"
          ],
          [
           "SHA-256"
          ],
          [
           "SHA-256"
          ],
          [
           "X11"
          ],
          [
           "Scrypt"
          ],
          [
           "Lyra2REv2"
          ],
          [
           "Scrypt"
          ],
          [
           "SHA-256"
          ],
          [
           "CryptoNight"
          ],
          [
           "CryptoNight"
          ],
          [
           "Scrypt"
          ],
          [
           "Scrypt"
          ],
          [
           "Scrypt"
          ],
          [
           "Scrypt"
          ],
          [
           "Scrypt"
          ],
          [
           "Scrypt"
          ],
          [
           "Stanford Folding"
          ],
          [
           "Multiple"
          ],
          [
           "QuBit"
          ],
          [
           "Scrypt"
          ],
          [
           "Scrypt"
          ],
          [
           "M7 POW"
          ],
          [
           "Scrypt"
          ],
          [
           "SHA-256"
          ],
          [
           "Scrypt"
          ],
          [
           "X11"
          ],
          [
           "Lyra2RE"
          ],
          [
           "SHA-256"
          ],
          [
           "X11"
          ],
          [
           "Scrypt"
          ],
          [
           "Scrypt"
          ],
          [
           "Ethash"
          ],
          [
           "Blake2b"
          ],
          [
           "X11"
          ],
          [
           "SHA-256"
          ],
          [
           "Scrypt"
          ],
          [
           "1GB AES Pattern Search"
          ],
          [
           "Scrypt"
          ],
          [
           "SHA-256"
          ],
          [
           "X11"
          ],
          [
           "Dagger"
          ],
          [
           "Scrypt"
          ],
          [
           "X11GOST"
          ],
          [
           "Scrypt"
          ],
          [
           "X11"
          ],
          [
           "Scrypt"
          ],
          [
           "X11"
          ],
          [
           "Equihash"
          ],
          [
           "CryptoNight"
          ],
          [
           "SHA-256"
          ],
          [
           "Multiple"
          ],
          [
           "Scrypt"
          ],
          [
           "SHA-256"
          ],
          [
           "Scrypt"
          ],
          [
           "Lyra2Z"
          ],
          [
           "Ethash"
          ],
          [
           "Equihash"
          ],
          [
           "Scrypt"
          ],
          [
           "X11"
          ],
          [
           "X11"
          ],
          [
           "CryptoNight"
          ],
          [
           "Scrypt"
          ],
          [
           "CryptoNight"
          ],
          [
           "Lyra2RE"
          ],
          [
           "X11"
          ],
          [
           "CryptoNight-V7"
          ],
          [
           "Scrypt"
          ],
          [
           "X11"
          ],
          [
           "Equihash"
          ],
          [
           "Scrypt"
          ],
          [
           "Lyra2RE"
          ],
          [
           "Dagger-Hashimoto"
          ],
          [
           "Scrypt"
          ],
          [
           "NIST5"
          ],
          [
           "Scrypt"
          ],
          [
           "SHA-256"
          ],
          [
           "Scrypt"
          ],
          [
           "CryptoNight-V7"
          ],
          [
           "Argon2d"
          ],
          [
           "Blake2b"
          ],
          [
           "Cloverhash"
          ],
          [
           "CryptoNight"
          ],
          [
           "X11"
          ],
          [
           "Scrypt"
          ],
          [
           "Scrypt"
          ],
          [
           "X11"
          ],
          [
           "X11"
          ],
          [
           "CryptoNight"
          ],
          [
           "Time Travel"
          ],
          [
           "Scrypt"
          ],
          [
           "Keccak"
          ],
          [
           "X11"
          ],
          [
           "SHA-256"
          ],
          [
           "Scrypt"
          ],
          [
           "Scrypt"
          ],
          [
           "Scrypt"
          ],
          [
           "Scrypt"
          ],
          [
           "Scrypt"
          ],
          [
           "Scrypt"
          ],
          [
           "CryptoNight"
          ],
          [
           "Equihash"
          ],
          [
           "X11"
          ],
          [
           "NeoScrypt"
          ],
          [
           "Equihash"
          ],
          [
           "Dagger"
          ],
          [
           "Scrypt"
          ],
          [
           "X11"
          ],
          [
           "NeoScrypt"
          ],
          [
           "Ethash"
          ],
          [
           "NeoScrypt"
          ],
          [
           "Multiple"
          ],
          [
           "CryptoNight"
          ],
          [
           "CryptoNight"
          ],
          [
           "Ethash"
          ],
          [
           "X11"
          ],
          [
           "CryptoNight-V7"
          ],
          [
           "Scrypt"
          ],
          [
           "BLAKE256"
          ],
          [
           "X11"
          ],
          [
           "NeoScrypt"
          ],
          [
           "NeoScrypt"
          ],
          [
           "Scrypt"
          ],
          [
           "X11"
          ],
          [
           "SHA-256"
          ],
          [
           "C11"
          ],
          [
           "Ethash"
          ],
          [
           "CryptoNight"
          ],
          [
           "SkunkHash"
          ],
          [
           "CryptoNight"
          ],
          [
           "Scrypt"
          ],
          [
           "Dagger"
          ],
          [
           "Lyra2REv2"
          ],
          [
           "Scrypt"
          ],
          [
           "Scrypt"
          ],
          [
           "X11"
          ],
          [
           "Ethash"
          ],
          [
           "CryptoNight"
          ],
          [
           "Scrypt"
          ],
          [
           "IMesh"
          ],
          [
           "Equihash"
          ],
          [
           "Lyra2Z"
          ],
          [
           "X11"
          ],
          [
           "CryptoNight"
          ],
          [
           "NIST5"
          ],
          [
           "Lyra2RE"
          ],
          [
           "Tribus"
          ],
          [
           "Lyra2Z"
          ],
          [
           "CryptoNight"
          ],
          [
           "CryptoNight Heavy"
          ],
          [
           "CryptoNight"
          ],
          [
           "Jump Consistent Hash"
          ],
          [
           "CryptoNight"
          ],
          [
           "X16R"
          ],
          [
           "HMQ1725"
          ],
          [
           "X11"
          ],
          [
           "Scrypt"
          ],
          [
           "CryptoNight-V7"
          ],
          [
           "Cryptonight-GPU"
          ],
          [
           "XEVAN"
          ],
          [
           "CryptoNight Heavy"
          ],
          [
           "SHA-256"
          ],
          [
           "X11"
          ],
          [
           "X16R"
          ],
          [
           "Equihash"
          ],
          [
           "Lyra2Z"
          ],
          [
           "SHA-256"
          ],
          [
           "CryptoNight"
          ],
          [
           "Blake"
          ],
          [
           "Blake"
          ],
          [
           "Equihash"
          ],
          [
           "Exosis"
          ],
          [
           "Scrypt"
          ],
          [
           "Equihash"
          ],
          [
           "Equihash"
          ],
          [
           "QuBit"
          ],
          [
           "SHA-256"
          ],
          [
           "X13"
          ],
          [
           "SHA-256"
          ],
          [
           "Scrypt"
          ],
          [
           "NeoScrypt"
          ],
          [
           "Blake"
          ],
          [
           "Scrypt"
          ],
          [
           "SHA-256"
          ],
          [
           "Scrypt"
          ],
          [
           "Groestl"
          ],
          [
           "Scrypt"
          ],
          [
           "Scrypt"
          ],
          [
           "Multiple"
          ],
          [
           "Equihash+Scrypt"
          ],
          [
           "Ethash"
          ],
          [
           "CryptoNight"
          ],
          [
           "Equihash"
          ]
         ],
         "hovertemplate": "<b>%{hovertext}</b><br><br>Class=%{marker.color}<br>PC 1=%{x}<br>PC 2=%{y}<br>PC 3=%{z}<br>Algorithm=%{customdata[0]}<extra></extra>",
         "hovertext": [
          "Bitcoin",
          "Ethereum",
          "Litecoin",
          "Monero",
          "Ethereum Classic",
          "ZCash",
          "DigiByte",
          "ProsperCoin",
          "Spreadcoin",
          "Argentum",
          "MyriadCoin",
          "MoonCoin",
          "ZetaCoin",
          "SexCoin",
          "Quatloo",
          "QuarkCoin",
          "Riecoin",
          "Digitalcoin ",
          "Catcoin",
          "CannaCoin",
          "CryptCoin",
          "Verge",
          "DevCoin",
          "EarthCoin",
          "E-Gulden",
          "Einsteinium",
          "Emerald",
          "Franko",
          "FeatherCoin",
          "GrandCoin",
          "GlobalCoin",
          "GoldCoin",
          "Infinite Coin",
          "IXcoin",
          "KrugerCoin",
          "LuckyCoin",
          "Litebar ",
          "MegaCoin",
          "MediterraneanCoin",
          "MinCoin",
          "NobleCoin",
          "Namecoin",
          "NyanCoin",
          "RonPaulCoin",
          "StableCoin",
          "SmartCoin",
          "SysCoin",
          "TigerCoin",
          "TerraCoin",
          "UnbreakableCoin",
          "Unobtanium",
          "UroCoin",
          "ViaCoin",
          "Vertcoin",
          "WorldCoin",
          "JouleCoin",
          "ByteCoin",
          "DigitalNote ",
          "MonaCoin",
          "Gulden",
          "PesetaCoin",
          "Wild Beast Coin",
          "Flo",
          "ArtByte",
          "Folding Coin",
          "Unitus",
          "CypherPunkCoin",
          "OmniCron",
          "GreenCoin",
          "Cryptonite",
          "MasterCoin",
          "SoonCoin",
          "1Credit",
          "MarsCoin ",
          "Crypto",
          "Anarchists Prime",
          "BowsCoin",
          "Song Coin",
          "BitZeny",
          "Expanse",
          "Siacoin",
          "MindCoin",
          "I0coin",
          "Revolution VR",
          "HOdlcoin",
          "Gamecredits",
          "CarpeDiemCoin",
          "Adzcoin",
          "SoilCoin",
          "YoCoin",
          "SibCoin",
          "Francs",
          "BolivarCoin",
          "Omni",
          "PizzaCoin",
          "Komodo",
          "Karbo",
          "ZayedCoin",
          "Circuits of Value",
          "DopeCoin",
          "DollarCoin",
          "Shilling",
          "ZCoin",
          "Elementrem",
          "ZClassic",
          "KiloCoin",
          "ArtexCoin",
          "Kurrent",
          "Cannabis Industry Coin",
          "OsmiumCoin",
          "Bikercoins",
          "HexxCoin",
          "PacCoin",
          "Citadel",
          "BeaverCoin",
          "VaultCoin",
          "Zero",
          "Canada eCoin",
          "Zoin",
          "DubaiCoin",
          "EB3coin",
          "Coinonat",
          "BenjiRolls",
          "ILCoin",
          "EquiTrader",
          "Quantum Resistant Ledger",
          "Dynamic",
          "Nano",
          "ChanCoin",
          "Dinastycoin",
          "DigitalPrice",
          "Unify",
          "SocialCoin",
          "ArcticCoin",
          "DAS",
          "LeviarCoin",
          "Bitcore",
          "gCn Coin",
          "SmartCash",
          "Onix",
          "Bitcoin Cash",
          "Sojourn Coin",
          "NewYorkCoin",
          "FrazCoin",
          "Kronecoin",
          "AdCoin",
          "Linx",
          "Sumokoin",
          "BitcoinZ",
          "Elements",
          "VIVO Coin",
          "Bitcoin Gold",
          "Pirl",
          "eBoost",
          "Pura",
          "Innova",
          "Ellaism",
          "GoByte",
          "SHIELD",
          "UltraNote",
          "BitCoal",
          "DaxxCoin",
          "AC3",
          "Lethean",
          "PopularCoin",
          "Photon",
          "Sucre",
          "SparksPay",
          "GunCoin",
          "IrishCoin",
          "Pioneer Coin",
          "UnitedBitcoin",
          "Interzone",
          "1717 Masonic Commemorative Token",
          "TurtleCoin",
          "MUNcoin",
          "Niobio Cash",
          "ShareChain",
          "Travelflex",
          "KREDS",
          "BitFlip",
          "LottoCoin",
          "Crypto Improvement Fund",
          "Callisto Network",
          "BitTube",
          "Poseidon",
          "Aidos Kuneen",
          "Bitrolium",
          "Alpenschillling",
          "FuturoCoin",
          "Monero Classic",
          "Jumpcoin",
          "Infinex",
          "KEYCO",
          "GINcoin",
          "PlatinCoin",
          "Loki",
          "Newton Coin",
          "MassGrid",
          "PluraCoin",
          "Motion",
          "PlusOneCoin",
          "Axe",
          "HexCoin",
          "Webchain",
          "Ryo",
          "Urals Coin",
          "Qwertycoin",
          "Project Pai",
          "Azart",
          "Xchange",
          "CrypticCoin",
          "Actinium",
          "Bitcoin SV",
          "FREDEnergy",
          "Universal Molecule",
          "Lithium",
          "PirateCash",
          "Exosis",
          "Block-Logic",
          "Beam",
          "Bithereum",
          "SLICE",
          "BLAST",
          "Bitcoin Rhodium",
          "GlobalToken",
          "SolarCoin",
          "UFO Coin",
          "BlakeCoin",
          "Crypto Escudo",
          "Crown Coin",
          "SmileyCoin",
          "Groestlcoin",
          "Bata",
          "Pakcoin",
          "JoinCoin",
          "Vollar",
          "Reality Clash",
          "Beldex",
          "Horizen"
         ],
         "legendgroup": "3",
         "marker": {
          "color": [
           3,
           3,
           3,
           3,
           3,
           3,
           3,
           3,
           3,
           3,
           3,
           3,
           3,
           3,
           3,
           3,
           3,
           3,
           3,
           3,
           3,
           3,
           3,
           3,
           3,
           3,
           3,
           3,
           3,
           3,
           3,
           3,
           3,
           3,
           3,
           3,
           3,
           3,
           3,
           3,
           3,
           3,
           3,
           3,
           3,
           3,
           3,
           3,
           3,
           3,
           3,
           3,
           3,
           3,
           3,
           3,
           3,
           3,
           3,
           3,
           3,
           3,
           3,
           3,
           3,
           3,
           3,
           3,
           3,
           3,
           3,
           3,
           3,
           3,
           3,
           3,
           3,
           3,
           3,
           3,
           3,
           3,
           3,
           3,
           3,
           3,
           3,
           3,
           3,
           3,
           3,
           3,
           3,
           3,
           3,
           3,
           3,
           3,
           3,
           3,
           3,
           3,
           3,
           3,
           3,
           3,
           3,
           3,
           3,
           3,
           3,
           3,
           3,
           3,
           3,
           3,
           3,
           3,
           3,
           3,
           3,
           3,
           3,
           3,
           3,
           3,
           3,
           3,
           3,
           3,
           3,
           3,
           3,
           3,
           3,
           3,
           3,
           3,
           3,
           3,
           3,
           3,
           3,
           3,
           3,
           3,
           3,
           3,
           3,
           3,
           3,
           3,
           3,
           3,
           3,
           3,
           3,
           3,
           3,
           3,
           3,
           3,
           3,
           3,
           3,
           3,
           3,
           3,
           3,
           3,
           3,
           3,
           3,
           3,
           3,
           3,
           3,
           3,
           3,
           3,
           3,
           3,
           3,
           3,
           3,
           3,
           3,
           3,
           3,
           3,
           3,
           3,
           3,
           3,
           3,
           3,
           3,
           3,
           3,
           3,
           3,
           3,
           3,
           3,
           3,
           3,
           3,
           3,
           3,
           3,
           3,
           3,
           3,
           3,
           3,
           3,
           3,
           3,
           3,
           3,
           3,
           3,
           3,
           3,
           3,
           3,
           3,
           3,
           3,
           3,
           3,
           3,
           3,
           3,
           3,
           3,
           3,
           3,
           3,
           3
          ],
          "coloraxis": "coloraxis",
          "symbol": "diamond"
         },
         "mode": "markers",
         "name": "3",
         "scene": "scene",
         "showlegend": true,
         "type": "scatter3d",
         "x": [
          -0.1412450776308071,
          -0.13442978735909278,
          -0.18751918606103493,
          -0.14800424857463815,
          -0.13287738167599658,
          -0.11049210252561323,
          0.16932208665396742,
          -0.1886611065017575,
          -0.23039716365861104,
          -0.18827903817921154,
          -0.08314089900179311,
          2.52351710460362,
          -0.1383410259022282,
          -0.18554469563678033,
          -0.18808374527765723,
          -0.21345318440572933,
          -0.20947066985953844,
          -0.18813245126345118,
          -0.1886434417213395,
          -0.18872957870144738,
          -0.23048616220899465,
          0.19296790115444948,
          0.23517772628854025,
          0.05906268241340461,
          -0.18847684465835207,
          -0.18409863434187193,
          -0.18841634871788007,
          -0.18878636383717232,
          -0.17328090864544352,
          -0.16808637138094695,
          -0.1875860292997963,
          -0.18786238888239784,
          1.5535169914437479,
          -0.1412065978055139,
          -0.18516189105841643,
          -0.18850318549475434,
          -0.1888566597396784,
          -0.1881187020441178,
          -0.0948872865546976,
          -0.18873836856935122,
          -0.054134477000429275,
          -0.14128390549562042,
          -0.18242621774994194,
          -0.18871786358609582,
          -0.1868190813327332,
          -0.1882065363784221,
          -0.12848402337170053,
          -0.14074970313234791,
          -0.14103579945417097,
          -0.14101875884275042,
          -0.1416073530846874,
          -0.23065942157274053,
          -0.18843545447658103,
          -0.16837327612126532,
          -0.18554935389639518,
          -0.14081674018203721,
          3.841913381941326,
          0.4537313941553132,
          -0.18730726888617263,
          -0.1719624567445922,
          -0.18603093781520422,
          -0.1888588573384658,
          -0.18589651928023815,
          -0.17217188302200964,
          -0.057279543178745125,
          -0.11701962357749852,
          -0.18177196923798827,
          -0.18873242843759747,
          -0.06214204405737253,
          -0.09949667340091904,
          -0.18886772004045402,
          -0.14131157464260066,
          0.4609664911151702,
          -0.2300489189617744,
          -0.15314715067512064,
          -0.14105237272603238,
          -0.230332735198892,
          -0.18699831659179927,
          -0.186193613920745,
          -0.13549304013553198,
          0.38439532093424106,
          -0.23036800592364579,
          -0.14120771577804336,
          -0.18484084657589195,
          -0.1497696750744817,
          -0.1874364765521831,
          0.2756954937758339,
          -0.2295318383125786,
          -0.1415819884872242,
          -0.18768273407045502,
          -0.15802483123425284,
          -0.18865840461100145,
          -0.23033137110654645,
          -0.18886777831438745,
          -0.23048075716304212,
          -0.09372009666318494,
          0.29921708625928994,
          -0.14146681329622587,
          -0.0971669456577481,
          -0.18604506258751144,
          -0.1414256021773424,
          -0.18853242085672525,
          -0.174736269915075,
          -0.13523618050062958,
          -0.11051363527219056,
          -0.11585559392140382,
          -0.21711526510188087,
          -0.2283168921038588,
          0.2992114984372323,
          -0.18884958237822744,
          0.2993417141516888,
          -0.15368562087858548,
          0.48221362506994403,
          -0.1467733286912768,
          -0.18881799165446592,
          -0.22324082470430615,
          -0.11052597136571883,
          -0.1869583074454454,
          -0.15340507304217865,
          -0.1444148722981847,
          -0.15984553008320423,
          -0.19202507080948292,
          -0.18838199896294638,
          -0.1079173408122745,
          -0.18820467086674098,
          -0.14663180999818456,
          -0.14065315321793836,
          -0.014345769557640789,
          -0.1712312456654771,
          0.33519734995944106,
          -0.2295401610147852,
          -0.18852281271681223,
          -0.18828698349369102,
          -0.2299333970686536,
          -0.2305086949514459,
          0.2996050241723025,
          -0.17434672931014744,
          3.2080099283595644,
          -0.11094720557723194,
          -0.22141384649486462,
          -0.14124424510746658,
          -0.11470663128100413,
          1.5513382253059174,
          -0.1886202769462467,
          -0.18807390627616674,
          -0.18777600957119453,
          -0.18776299146330827,
          0.2997880009347811,
          0.10102220422623795,
          -0.1850692754965099,
          -0.17795209559206174,
          -0.11037261348584969,
          -0.1403456233474276,
          -0.18695652358413173,
          -0.22606971180458366,
          -0.1777980675953242,
          -0.13360715503083576,
          -0.17789791330301652,
          -0.10728796447822715,
          1.134087979659767,
          0.29919431511245453,
          -0.05876622044989383,
          -0.225811818925303,
          -0.13578421421459924,
          -0.10532244325544113,
          1.08306626975769,
          -0.23048279281779616,
          -0.17794967800911526,
          -0.17101356141943455,
          -0.18787409432839364,
          -0.23040848355425728,
          -0.14122372483047893,
          -0.22081017408624828,
          -0.2314190122872851,
          8.009231825945497,
          -0.17596620786742992,
          0.30305440436532727,
          0.003443578553500489,
          -0.13985090976020695,
          -0.15398523260074676,
          -0.18844563876006892,
          0.1174767623113783,
          -0.22457111030036736,
          -0.08681406476682982,
          0.3070888948987527,
          -0.18868177029465646,
          -0.15820884089181772,
          -0.10936752256862253,
          -0.1725277656135879,
          -0.22958077451312112,
          0.29937613623562354,
          -0.19208436488132172,
          -0.15353142427416552,
          -0.14740033545683548,
          -0.1748203432198534,
          0.30329041079162555,
          0.5482598754683156,
          2.1012456281301515,
          -0.15433286053969886,
          0.31293036183841105,
          -0.18514599457493838,
          -0.1402246364896545,
          -0.23046501974322564,
          -0.18870625370927097,
          -0.13566279044784776,
          -0.17442922428232097,
          0.0476946505916851,
          3.0614179386027356,
          -0.1012236891762842,
          -0.2304364875455114,
          -0.1845757642657453,
          -0.005511253047484855,
          -0.17422026994903608,
          -0.14124428252648974,
          0.3788444045240127,
          -0.1329502097096293,
          -0.13334089423913031,
          -0.20553457994373867,
          -0.1788359866925391,
          -0.1876026378138147,
          -0.10843970918358627,
          -0.11020606068028967,
          -0.18098578252066902,
          -0.14052314508180205,
          -0.116385471457469,
          -0.13939525136488612,
          0.5047291296511967,
          -0.10339759166446261,
          -0.08398297807245628,
          -0.17232188219682354,
          -0.14103517235897478,
          0.5242983213845193,
          -0.20903333158524573,
          -0.18878283289221517,
          -0.18674609563197944,
          -0.11775163803079074,
          -0.09981372720944294,
          -0.1352692138382971,
          0.3208699012918442,
          -0.11049315535394734
         ],
         "y": [
          -1.33139705520065,
          -2.0849699747938955,
          -1.0952954441861,
          -2.266946935071609,
          -2.085071646214418,
          -2.127427199278377,
          -1.84755687720427,
          -1.095288709669291,
          -0.930564459193171,
          -1.0953072717967176,
          -1.842294844124442,
          -1.285632966951634,
          -1.3314056845615976,
          -1.0953495452779334,
          -1.095327190836067,
          -0.462657484369886,
          -1.1746945169071958,
          -1.095290339460766,
          -1.0952880887908234,
          -1.0952852686613568,
          -0.930566099344674,
          -1.8434188023485563,
          -1.3337745010266613,
          -1.0966098202226813,
          -1.0952822332677585,
          -1.0953357638051695,
          -1.0952882907103934,
          -1.0952858478642922,
          -1.6426911982758174,
          -1.0956068294833579,
          -1.095287377907268,
          -1.09529876209158,
          -1.1014436115891408,
          -1.3313957027187968,
          -1.095347563247444,
          -1.0952824151140286,
          -1.095280963798012,
          -1.0952852688458534,
          -2.3556342660349476,
          -1.0952832415194227,
          -1.1017044181917606,
          -1.3313984199153328,
          -1.0953046635545436,
          -1.0952907045568985,
          -1.095394337153025,
          -1.0952952006159011,
          -1.3315935597359243,
          -1.3313989961646429,
          -1.3314053230387395,
          -1.331432995210193,
          -1.3313943508770023,
          -0.930558797453819,
          -1.0952822664464785,
          -1.2779499485701042,
          -1.0953611817203257,
          -1.3313998555134283,
          -2.3642756455515337,
          -2.3535631479557857,
          -1.0953037085463568,
          -1.0959360458058693,
          -1.0953044287674771,
          -1.0952819918409387,
          -1.0952949532146978,
          -1.095437502577435,
          -2.278668800469476,
          -1.841997654082718,
          -1.564550595821673,
          -1.0952781011664332,
          -1.0982659835682755,
          -2.2342158075345324,
          -1.095280809052147,
          -1.3313993924254446,
          -1.1408859437952958,
          -0.9305618908484558,
          -2.218056767113148,
          -1.3314146547181722,
          -0.9305629386500911,
          -1.0953710563704877,
          -1.095372353338956,
          -2.0850199237719735,
          -2.1273411988745985,
          -0.9305604584559425,
          -1.3313957420130909,
          -1.0952950474550278,
          -2.170126798088345,
          -1.095292537127427,
          -1.3328163276347227,
          -0.9305816594003457,
          -2.2695125503685323,
          -1.0953639479370614,
          -2.1897634107437214,
          -1.0952878707271045,
          -0.9305658666117225,
          -1.095280808846099,
          -0.9305711172054826,
          -1.7276375303454456,
          -2.3515616620749236,
          -1.3313964685725146,
          -1.8421926477441668,
          -1.0953299332526552,
          -1.3313956913802745,
          -1.0952908824394265,
          -2.197414154615071,
          -2.085017814060839,
          -2.127427956107411,
          -1.1001538975835436,
          -0.9304547382346332,
          -0.9306460893274429,
          -2.3515700422175443,
          -1.0952817300411015,
          -2.351568441325955,
          -2.2180341873781972,
          -0.9799005286259547,
          -2.2670413066005324,
          -1.0952811000922498,
          -0.9310420265943192,
          -2.1274254137876683,
          -1.0952876341532167,
          -2.218032510477831,
          -2.160456383469408,
          -1.097236188055884,
          -0.5974678779607712,
          -1.0952897024868065,
          -1.3320699760624672,
          -1.0953106097610346,
          -2.266976814397434,
          -2.234744259167158,
          -2.141609239837626,
          -2.2694315201856137,
          -2.351777547838061,
          -0.9305938555511561,
          -1.0952825669241406,
          -1.0953157348000486,
          -0.9305779178749797,
          -0.9305675609003423,
          -2.3515807618756845,
          -2.261677445301894,
          -1.1246828395490078,
          -1.2692794615386567,
          -0.9310522099612302,
          -1.3313970259392718,
          -1.1004855023674582,
          -1.0341159082526692,
          -1.0952865306229251,
          -1.0953149413906471,
          -1.095316374597805,
          -1.0953159170397326,
          -2.3516002871590795,
          -2.135600818766854,
          -0.9302955612721248,
          -1.642625491522216,
          -2.1274229994994878,
          -2.269563064089681,
          -1.095287571454386,
          -0.9306578709939889,
          -1.6426334693536373,
          -2.0851493745184086,
          -1.6426271582208405,
          -1.8421466320830255,
          -2.385448346129213,
          -2.351564322372586,
          -2.0897503318470543,
          -0.9307976019472562,
          -2.2672610184263564,
          -1.0960637972077336,
          -1.2275170818262422,
          -0.9305673200758539,
          -1.6426209426897038,
          -1.642733518137159,
          -1.0952930389043969,
          -0.930567088992665,
          -1.331395684219829,
          -1.1579583897792747,
          -0.1601097817598256,
          -2.8245406608310017,
          -2.167201554635433,
          -2.35166932510047,
          -1.0959607921139654,
          -2.2695037850941464,
          -1.2782001205018325,
          -1.0952952720044313,
          -1.0982073711379612,
          -0.9307167949164487,
          -2.0881322341564252,
          -2.352021522044835,
          -1.0952894359565,
          -2.2086745677964155,
          -2.1274241276025854,
          -2.1975438023979543,
          -0.9305952830269593,
          -2.3515623212191286,
          -0.597449687166971,
          -2.2180408796443762,
          -2.2553612788730835,
          -2.197409000262983,
          -2.351857440204148,
          -2.23519149868092,
          -2.4251085520528877,
          -2.175589700442712,
          -2.351816207234456,
          -1.2789058591864841,
          -2.153844095910928,
          -0.9305675881630331,
          -1.09529111878491,
          -2.267815118854637,
          -2.2470171415360984,
          -0.918492076663796,
          -2.2839892507448325,
          -1.3315371181704905,
          -0.9305695612250715,
          -1.2789437906936965,
          -2.129375950443296,
          -2.1974425912794624,
          -1.3313970272544693,
          -2.354766827035303,
          -2.2566325612224354,
          -2.2565868557443394,
          -0.20255987257703978,
          -2.131704782755468,
          -1.0953251604915188,
          -2.1275349556808845,
          -2.1274245004848877,
          -1.5645973607373718,
          -1.331403671842477,
          -0.3509118594024285,
          -1.3314414024096228,
          -1.14388604000077,
          -1.642960882600111,
          -2.2600410994810645,
          -1.095442774720965,
          -1.3314053009977127,
          -1.1074129499785963,
          -1.174694768930732,
          -1.0952810844601766,
          -1.0953411814544907,
          -1.8420254659272348,
          -2.275797998599411,
          -2.0850176972600107,
          -2.3518349060221047,
          -2.1274272362829953
         ],
         "z": [
          0.11883342046412614,
          0.22015840429737207,
          -5.5348751309177875e-05,
          0.25963599145206184,
          0.22014507760967153,
          0.2715705043389889,
          0.22242133959659238,
          -3.387788237943191e-05,
          0.03714255033935851,
          -3.826546269749186e-05,
          0.22652133577188235,
          -0.02113645095312248,
          0.11877736034491854,
          -8.519459799135436e-05,
          -3.8719704482373316e-05,
          0.03807819694869533,
          0.0417639134217478,
          -4.407300028382578e-05,
          -3.433433736116751e-05,
          -3.311117939493005e-05,
          0.03714459493071941,
          0.22124333961080545,
          0.11178276087173376,
          -0.004715662678740631,
          -3.863917770003235e-05,
          -0.0001162091458323047,
          -3.879924281156653e-05,
          -3.1886755568157396e-05,
          0.1539035611543396,
          -0.0003869939627456219,
          -5.5407347589840855e-05,
          -4.797980464953824e-05,
          -0.03349737776291175,
          0.11883242615185775,
          -9.311915541067176e-05,
          -3.808609305129692e-05,
          -3.1331337412585084e-05,
          -4.521480151623992e-05,
          0.2524013736895059,
          -3.3284583337509605e-05,
          -0.0015993296873890196,
          0.11883442376968435,
          -0.0001546779857153995,
          -3.2411288780545916e-05,
          -5.226468402465823e-05,
          -4.177164176358537e-05,
          0.11861426988537725,
          0.11882393810878164,
          0.11883069147256765,
          0.11883509835659503,
          0.11884013476937652,
          0.03714677587667959,
          -3.9453576751405495e-05,
          0.1469667430567545,
          -8.310718026027788e-05,
          0.11882541369200886,
          0.2474149021334791,
          0.31271021190592824,
          -5.8130627166519606e-05,
          -0.0002537491992057693,
          -8.329583025267365e-05,
          -3.1111532480662774e-05,
          -8.758376928587852e-05,
          -0.000335077216963606,
          0.29490032076125217,
          0.22714164002131423,
          0.13616839864257899,
          -3.42836154957568e-05,
          -0.002030206355961597,
          0.33021237923296454,
          -3.11387251360143e-05,
          0.1188351387358303,
          -0.005087473499847296,
          0.0371352100106915,
          0.299370913608171,
          0.11883261980726828,
          0.037141013076871725,
          -5.2704987776946916e-05,
          -6.842665769652421e-05,
          0.22018803512100368,
          0.20715892071569977,
          0.037141286675653765,
          0.11883245504008143,
          -0.0001084842673390236,
          0.3202343232457994,
          -5.748595123394288e-05,
          0.11081567564621692,
          0.037128354199743537,
          0.2727635087062222,
          -4.036300026301017e-05,
          0.31183320588847174,
          -3.407525695963479e-05,
          0.037141488061646244,
          -3.113760584844591e-05,
          0.037145348172446156,
          0.32908465275219384,
          0.3154285297157812,
          0.11883771326150029,
          0.22678171994093063,
          -7.864310805250741e-05,
          0.11883676346854213,
          -3.605507443765866e-05,
          0.19351969787363835,
          0.22018258409241862,
          0.27157106074157017,
          -0.0006422571805359928,
          0.036860576217695444,
          0.037115328569177694,
          0.3154300772440786,
          -3.134018942264078e-05,
          0.31542722272441504,
          0.29937771123266066,
          0.03148207250645466,
          0.2596277829495118,
          -3.20741223609104e-05,
          0.03708263874346492,
          0.27157086927147744,
          -6.780083047696576e-05,
          0.2993718650633642,
          0.21865609261370844,
          -0.00027091360236032277,
          0.010633067203834664,
          -3.923777896038495e-05,
          0.11828845401152441,
          -3.9166636269455604e-05,
          0.25961392147620505,
          0.2238144539326281,
          0.217505729828351,
          0.394459473598394,
          0.31475264646392853,
          0.037130610187754355,
          -3.7671178975765326e-05,
          -3.66570171891602e-05,
          0.037135669014908286,
          0.037145291975384465,
          0.3154241180243974,
          0.3432880441435807,
          -0.0622943353178486,
          0.03234984906171196,
          0.037048185748388834,
          0.11883339895186502,
          -0.0006081670969920557,
          -0.0449978493120391,
          -3.506046946174635e-05,
          -4.101487341392287e-05,
          -4.667154384343165e-05,
          -4.700792958128204e-05,
          0.31542384029817644,
          0.26878105282618664,
          0.036198338813088315,
          0.1539848483708827,
          0.2715674167621171,
          0.272747672693192,
          -6.784692515590466e-05,
          0.03707282390195335,
          0.15398316436024026,
          0.22017286390365215,
          0.153984060588797,
          0.22697436396667012,
          0.30469677413857044,
          0.31542943701385345,
          0.21947885207337736,
          0.03709167162760306,
          0.2594477198375031,
          -0.001552222904799333,
          0.0015274486673790306,
          0.03714473747092444,
          0.15398402055190236,
          0.15386589282036928,
          -4.872914430587585e-05,
          0.037143225518095214,
          0.11883276232781138,
          0.08511497106838044,
          0.03177403730020702,
          0.2437599317001767,
          0.25818565310810043,
          0.31537095802003495,
          -0.003724927912309391,
          0.2727277069925876,
          0.1467245575145016,
          -3.7021927617078416e-05,
          -0.005599147381833348,
          0.03705323401487204,
          0.21975715008884034,
          0.31535140608421214,
          -3.334393341525194e-05,
          0.1752816935800518,
          0.27154769573083876,
          0.19349816819769264,
          0.03713165963378187,
          0.3154254913795596,
          0.010631123137428228,
          0.29937580346529347,
          0.3243638239744869,
          0.19352047992973126,
          0.31539853507714927,
          0.3206060990356493,
          0.29233384086836284,
          0.31317136705801607,
          0.31520046355215653,
          0.1345511667003702,
          0.170705009240331,
          0.03714443128744791,
          -3.257030073325034e-05,
          0.2595403170344727,
          0.321682221470124,
          -0.03231227297091843,
          0.2791780360881902,
          0.11806446789963025,
          0.037144204252908104,
          0.1345463719255929,
          0.2698245800824571,
          0.1935143496621738,
          0.11883339991876633,
          0.31440036754293865,
          0.33998608769735383,
          0.339985992144756,
          0.08314634220388055,
          0.30197449316275254,
          -4.860027768984145e-05,
          0.2715483144034354,
          0.2715643741054844,
          0.1361608395261786,
          0.11882025084884883,
          -0.05668751204825651,
          0.11880437231322843,
          -0.005440187927927337,
          0.15256516103886641,
          0.3396002808916769,
          -0.0003312012632886311,
          0.11883067526853235,
          -0.012081400717277629,
          0.04175529139527608,
          -3.277342351273617e-05,
          -6.282457815265896e-05,
          0.22716091231565919,
          0.21815557116898907,
          0.22018321857507703,
          0.3150463588411086,
          0.2715705315438967
         ]
        },
        {
         "customdata": [
          [
           "Proof-of-BibleHash"
          ],
          [
           "ECC 256K1"
          ]
         ],
         "hovertemplate": "<b>%{hovertext}</b><br><br>Class=%{marker.color}<br>PC 1=%{x}<br>PC 2=%{y}<br>PC 3=%{z}<br>Algorithm=%{customdata[0]}<extra></extra>",
         "hovertext": [
          "BiblePay",
          "Acute Angle Cloud"
         ],
         "legendgroup": "1",
         "marker": {
          "color": [
           1,
           1
          ],
          "coloraxis": "coloraxis",
          "symbol": "square"
         },
         "mode": "markers",
         "name": "1",
         "scene": "scene",
         "showlegend": true,
         "type": "scatter3d",
         "x": [
          -0.06586259753032604,
          -0.4646336938500736
         ],
         "y": [
          2.713268553856192,
          3.4153776821062
         ],
         "z": [
          20.02545601694508,
          22.556008295189645
         ]
        },
        {
         "customdata": [
          [
           "TRC10"
          ]
         ],
         "hovertemplate": "<b>%{hovertext}</b><br><br>Class=%{marker.color}<br>PC 1=%{x}<br>PC 2=%{y}<br>PC 3=%{z}<br>Algorithm=%{customdata[0]}<extra></extra>",
         "hovertext": [
          "BitTorrent"
         ],
         "legendgroup": "2",
         "marker": {
          "color": [
           2
          ],
          "coloraxis": "coloraxis",
          "symbol": "x"
         },
         "mode": "markers",
         "name": "2",
         "scene": "scene",
         "showlegend": true,
         "type": "scatter3d",
         "x": [
          34.00025764935006
         ],
         "y": [
          1.71107945920697
         ],
         "z": [
          -0.9806361948807374
         ]
        }
       ],
       "layout": {
        "coloraxis": {
         "colorbar": {
          "title": {
           "text": "Class"
          }
         },
         "colorscale": [
          [
           0,
           "#0d0887"
          ],
          [
           0.1111111111111111,
           "#46039f"
          ],
          [
           0.2222222222222222,
           "#7201a8"
          ],
          [
           0.3333333333333333,
           "#9c179e"
          ],
          [
           0.4444444444444444,
           "#bd3786"
          ],
          [
           0.5555555555555556,
           "#d8576b"
          ],
          [
           0.6666666666666666,
           "#ed7953"
          ],
          [
           0.7777777777777778,
           "#fb9f3a"
          ],
          [
           0.8888888888888888,
           "#fdca26"
          ],
          [
           1,
           "#f0f921"
          ]
         ]
        },
        "legend": {
         "title": {
          "text": "Class"
         },
         "tracegroupgap": 0,
         "x": 0,
         "y": 1
        },
        "margin": {
         "t": 60
        },
        "scene": {
         "domain": {
          "x": [
           0,
           1
          ],
          "y": [
           0,
           1
          ]
         },
         "xaxis": {
          "title": {
           "text": "PC 1"
          }
         },
         "yaxis": {
          "title": {
           "text": "PC 2"
          }
         },
         "zaxis": {
          "title": {
           "text": "PC 3"
          }
         }
        },
        "template": {
         "data": {
          "bar": [
           {
            "error_x": {
             "color": "#2a3f5f"
            },
            "error_y": {
             "color": "#2a3f5f"
            },
            "marker": {
             "line": {
              "color": "#E5ECF6",
              "width": 0.5
             },
             "pattern": {
              "fillmode": "overlay",
              "size": 10,
              "solidity": 0.2
             }
            },
            "type": "bar"
           }
          ],
          "barpolar": [
           {
            "marker": {
             "line": {
              "color": "#E5ECF6",
              "width": 0.5
             },
             "pattern": {
              "fillmode": "overlay",
              "size": 10,
              "solidity": 0.2
             }
            },
            "type": "barpolar"
           }
          ],
          "carpet": [
           {
            "aaxis": {
             "endlinecolor": "#2a3f5f",
             "gridcolor": "white",
             "linecolor": "white",
             "minorgridcolor": "white",
             "startlinecolor": "#2a3f5f"
            },
            "baxis": {
             "endlinecolor": "#2a3f5f",
             "gridcolor": "white",
             "linecolor": "white",
             "minorgridcolor": "white",
             "startlinecolor": "#2a3f5f"
            },
            "type": "carpet"
           }
          ],
          "choropleth": [
           {
            "colorbar": {
             "outlinewidth": 0,
             "ticks": ""
            },
            "type": "choropleth"
           }
          ],
          "contour": [
           {
            "colorbar": {
             "outlinewidth": 0,
             "ticks": ""
            },
            "colorscale": [
             [
              0,
              "#0d0887"
             ],
             [
              0.1111111111111111,
              "#46039f"
             ],
             [
              0.2222222222222222,
              "#7201a8"
             ],
             [
              0.3333333333333333,
              "#9c179e"
             ],
             [
              0.4444444444444444,
              "#bd3786"
             ],
             [
              0.5555555555555556,
              "#d8576b"
             ],
             [
              0.6666666666666666,
              "#ed7953"
             ],
             [
              0.7777777777777778,
              "#fb9f3a"
             ],
             [
              0.8888888888888888,
              "#fdca26"
             ],
             [
              1,
              "#f0f921"
             ]
            ],
            "type": "contour"
           }
          ],
          "contourcarpet": [
           {
            "colorbar": {
             "outlinewidth": 0,
             "ticks": ""
            },
            "type": "contourcarpet"
           }
          ],
          "heatmap": [
           {
            "colorbar": {
             "outlinewidth": 0,
             "ticks": ""
            },
            "colorscale": [
             [
              0,
              "#0d0887"
             ],
             [
              0.1111111111111111,
              "#46039f"
             ],
             [
              0.2222222222222222,
              "#7201a8"
             ],
             [
              0.3333333333333333,
              "#9c179e"
             ],
             [
              0.4444444444444444,
              "#bd3786"
             ],
             [
              0.5555555555555556,
              "#d8576b"
             ],
             [
              0.6666666666666666,
              "#ed7953"
             ],
             [
              0.7777777777777778,
              "#fb9f3a"
             ],
             [
              0.8888888888888888,
              "#fdca26"
             ],
             [
              1,
              "#f0f921"
             ]
            ],
            "type": "heatmap"
           }
          ],
          "heatmapgl": [
           {
            "colorbar": {
             "outlinewidth": 0,
             "ticks": ""
            },
            "colorscale": [
             [
              0,
              "#0d0887"
             ],
             [
              0.1111111111111111,
              "#46039f"
             ],
             [
              0.2222222222222222,
              "#7201a8"
             ],
             [
              0.3333333333333333,
              "#9c179e"
             ],
             [
              0.4444444444444444,
              "#bd3786"
             ],
             [
              0.5555555555555556,
              "#d8576b"
             ],
             [
              0.6666666666666666,
              "#ed7953"
             ],
             [
              0.7777777777777778,
              "#fb9f3a"
             ],
             [
              0.8888888888888888,
              "#fdca26"
             ],
             [
              1,
              "#f0f921"
             ]
            ],
            "type": "heatmapgl"
           }
          ],
          "histogram": [
           {
            "marker": {
             "pattern": {
              "fillmode": "overlay",
              "size": 10,
              "solidity": 0.2
             }
            },
            "type": "histogram"
           }
          ],
          "histogram2d": [
           {
            "colorbar": {
             "outlinewidth": 0,
             "ticks": ""
            },
            "colorscale": [
             [
              0,
              "#0d0887"
             ],
             [
              0.1111111111111111,
              "#46039f"
             ],
             [
              0.2222222222222222,
              "#7201a8"
             ],
             [
              0.3333333333333333,
              "#9c179e"
             ],
             [
              0.4444444444444444,
              "#bd3786"
             ],
             [
              0.5555555555555556,
              "#d8576b"
             ],
             [
              0.6666666666666666,
              "#ed7953"
             ],
             [
              0.7777777777777778,
              "#fb9f3a"
             ],
             [
              0.8888888888888888,
              "#fdca26"
             ],
             [
              1,
              "#f0f921"
             ]
            ],
            "type": "histogram2d"
           }
          ],
          "histogram2dcontour": [
           {
            "colorbar": {
             "outlinewidth": 0,
             "ticks": ""
            },
            "colorscale": [
             [
              0,
              "#0d0887"
             ],
             [
              0.1111111111111111,
              "#46039f"
             ],
             [
              0.2222222222222222,
              "#7201a8"
             ],
             [
              0.3333333333333333,
              "#9c179e"
             ],
             [
              0.4444444444444444,
              "#bd3786"
             ],
             [
              0.5555555555555556,
              "#d8576b"
             ],
             [
              0.6666666666666666,
              "#ed7953"
             ],
             [
              0.7777777777777778,
              "#fb9f3a"
             ],
             [
              0.8888888888888888,
              "#fdca26"
             ],
             [
              1,
              "#f0f921"
             ]
            ],
            "type": "histogram2dcontour"
           }
          ],
          "mesh3d": [
           {
            "colorbar": {
             "outlinewidth": 0,
             "ticks": ""
            },
            "type": "mesh3d"
           }
          ],
          "parcoords": [
           {
            "line": {
             "colorbar": {
              "outlinewidth": 0,
              "ticks": ""
             }
            },
            "type": "parcoords"
           }
          ],
          "pie": [
           {
            "automargin": true,
            "type": "pie"
           }
          ],
          "scatter": [
           {
            "marker": {
             "colorbar": {
              "outlinewidth": 0,
              "ticks": ""
             }
            },
            "type": "scatter"
           }
          ],
          "scatter3d": [
           {
            "line": {
             "colorbar": {
              "outlinewidth": 0,
              "ticks": ""
             }
            },
            "marker": {
             "colorbar": {
              "outlinewidth": 0,
              "ticks": ""
             }
            },
            "type": "scatter3d"
           }
          ],
          "scattercarpet": [
           {
            "marker": {
             "colorbar": {
              "outlinewidth": 0,
              "ticks": ""
             }
            },
            "type": "scattercarpet"
           }
          ],
          "scattergeo": [
           {
            "marker": {
             "colorbar": {
              "outlinewidth": 0,
              "ticks": ""
             }
            },
            "type": "scattergeo"
           }
          ],
          "scattergl": [
           {
            "marker": {
             "colorbar": {
              "outlinewidth": 0,
              "ticks": ""
             }
            },
            "type": "scattergl"
           }
          ],
          "scattermapbox": [
           {
            "marker": {
             "colorbar": {
              "outlinewidth": 0,
              "ticks": ""
             }
            },
            "type": "scattermapbox"
           }
          ],
          "scatterpolar": [
           {
            "marker": {
             "colorbar": {
              "outlinewidth": 0,
              "ticks": ""
             }
            },
            "type": "scatterpolar"
           }
          ],
          "scatterpolargl": [
           {
            "marker": {
             "colorbar": {
              "outlinewidth": 0,
              "ticks": ""
             }
            },
            "type": "scatterpolargl"
           }
          ],
          "scatterternary": [
           {
            "marker": {
             "colorbar": {
              "outlinewidth": 0,
              "ticks": ""
             }
            },
            "type": "scatterternary"
           }
          ],
          "surface": [
           {
            "colorbar": {
             "outlinewidth": 0,
             "ticks": ""
            },
            "colorscale": [
             [
              0,
              "#0d0887"
             ],
             [
              0.1111111111111111,
              "#46039f"
             ],
             [
              0.2222222222222222,
              "#7201a8"
             ],
             [
              0.3333333333333333,
              "#9c179e"
             ],
             [
              0.4444444444444444,
              "#bd3786"
             ],
             [
              0.5555555555555556,
              "#d8576b"
             ],
             [
              0.6666666666666666,
              "#ed7953"
             ],
             [
              0.7777777777777778,
              "#fb9f3a"
             ],
             [
              0.8888888888888888,
              "#fdca26"
             ],
             [
              1,
              "#f0f921"
             ]
            ],
            "type": "surface"
           }
          ],
          "table": [
           {
            "cells": {
             "fill": {
              "color": "#EBF0F8"
             },
             "line": {
              "color": "white"
             }
            },
            "header": {
             "fill": {
              "color": "#C8D4E3"
             },
             "line": {
              "color": "white"
             }
            },
            "type": "table"
           }
          ]
         },
         "layout": {
          "annotationdefaults": {
           "arrowcolor": "#2a3f5f",
           "arrowhead": 0,
           "arrowwidth": 1
          },
          "autotypenumbers": "strict",
          "coloraxis": {
           "colorbar": {
            "outlinewidth": 0,
            "ticks": ""
           }
          },
          "colorscale": {
           "diverging": [
            [
             0,
             "#8e0152"
            ],
            [
             0.1,
             "#c51b7d"
            ],
            [
             0.2,
             "#de77ae"
            ],
            [
             0.3,
             "#f1b6da"
            ],
            [
             0.4,
             "#fde0ef"
            ],
            [
             0.5,
             "#f7f7f7"
            ],
            [
             0.6,
             "#e6f5d0"
            ],
            [
             0.7,
             "#b8e186"
            ],
            [
             0.8,
             "#7fbc41"
            ],
            [
             0.9,
             "#4d9221"
            ],
            [
             1,
             "#276419"
            ]
           ],
           "sequential": [
            [
             0,
             "#0d0887"
            ],
            [
             0.1111111111111111,
             "#46039f"
            ],
            [
             0.2222222222222222,
             "#7201a8"
            ],
            [
             0.3333333333333333,
             "#9c179e"
            ],
            [
             0.4444444444444444,
             "#bd3786"
            ],
            [
             0.5555555555555556,
             "#d8576b"
            ],
            [
             0.6666666666666666,
             "#ed7953"
            ],
            [
             0.7777777777777778,
             "#fb9f3a"
            ],
            [
             0.8888888888888888,
             "#fdca26"
            ],
            [
             1,
             "#f0f921"
            ]
           ],
           "sequentialminus": [
            [
             0,
             "#0d0887"
            ],
            [
             0.1111111111111111,
             "#46039f"
            ],
            [
             0.2222222222222222,
             "#7201a8"
            ],
            [
             0.3333333333333333,
             "#9c179e"
            ],
            [
             0.4444444444444444,
             "#bd3786"
            ],
            [
             0.5555555555555556,
             "#d8576b"
            ],
            [
             0.6666666666666666,
             "#ed7953"
            ],
            [
             0.7777777777777778,
             "#fb9f3a"
            ],
            [
             0.8888888888888888,
             "#fdca26"
            ],
            [
             1,
             "#f0f921"
            ]
           ]
          },
          "colorway": [
           "#636efa",
           "#EF553B",
           "#00cc96",
           "#ab63fa",
           "#FFA15A",
           "#19d3f3",
           "#FF6692",
           "#B6E880",
           "#FF97FF",
           "#FECB52"
          ],
          "font": {
           "color": "#2a3f5f"
          },
          "geo": {
           "bgcolor": "white",
           "lakecolor": "white",
           "landcolor": "#E5ECF6",
           "showlakes": true,
           "showland": true,
           "subunitcolor": "white"
          },
          "hoverlabel": {
           "align": "left"
          },
          "hovermode": "closest",
          "mapbox": {
           "style": "light"
          },
          "paper_bgcolor": "white",
          "plot_bgcolor": "#E5ECF6",
          "polar": {
           "angularaxis": {
            "gridcolor": "white",
            "linecolor": "white",
            "ticks": ""
           },
           "bgcolor": "#E5ECF6",
           "radialaxis": {
            "gridcolor": "white",
            "linecolor": "white",
            "ticks": ""
           }
          },
          "scene": {
           "xaxis": {
            "backgroundcolor": "#E5ECF6",
            "gridcolor": "white",
            "gridwidth": 2,
            "linecolor": "white",
            "showbackground": true,
            "ticks": "",
            "zerolinecolor": "white"
           },
           "yaxis": {
            "backgroundcolor": "#E5ECF6",
            "gridcolor": "white",
            "gridwidth": 2,
            "linecolor": "white",
            "showbackground": true,
            "ticks": "",
            "zerolinecolor": "white"
           },
           "zaxis": {
            "backgroundcolor": "#E5ECF6",
            "gridcolor": "white",
            "gridwidth": 2,
            "linecolor": "white",
            "showbackground": true,
            "ticks": "",
            "zerolinecolor": "white"
           }
          },
          "shapedefaults": {
           "line": {
            "color": "#2a3f5f"
           }
          },
          "ternary": {
           "aaxis": {
            "gridcolor": "white",
            "linecolor": "white",
            "ticks": ""
           },
           "baxis": {
            "gridcolor": "white",
            "linecolor": "white",
            "ticks": ""
           },
           "bgcolor": "#E5ECF6",
           "caxis": {
            "gridcolor": "white",
            "linecolor": "white",
            "ticks": ""
           }
          },
          "title": {
           "x": 0.05
          },
          "xaxis": {
           "automargin": true,
           "gridcolor": "white",
           "linecolor": "white",
           "ticks": "",
           "title": {
            "standoff": 15
           },
           "zerolinecolor": "white",
           "zerolinewidth": 2
          },
          "yaxis": {
           "automargin": true,
           "gridcolor": "white",
           "linecolor": "white",
           "ticks": "",
           "title": {
            "standoff": 15
           },
           "zerolinecolor": "white",
           "zerolinewidth": 2
          }
         }
        },
        "width": 800
       }
      },
      "text/html": [
       "<div>                            <div id=\"408341ae-1cd6-443d-b1a7-c24fb568c08e\" class=\"plotly-graph-div\" style=\"height:525px; width:800px;\"></div>            <script type=\"text/javascript\">                require([\"plotly\"], function(Plotly) {                    window.PLOTLYENV=window.PLOTLYENV || {};                                    if (document.getElementById(\"408341ae-1cd6-443d-b1a7-c24fb568c08e\")) {                    Plotly.newPlot(                        \"408341ae-1cd6-443d-b1a7-c24fb568c08e\",                        [{\"customdata\":[[\"Scrypt\"],[\"Scrypt\"],[\"X13\"],[\"X11\"],[\"SHA-512\"],[\"SHA-256\"],[\"SHA-256\"],[\"X15\"],[\"Scrypt\"],[\"Scrypt\"],[\"Scrypt\"],[\"Scrypt\"],[\"Scrypt\"],[\"Scrypt\"],[\"Groestl\"],[\"PoS\"],[\"Scrypt\"],[\"Scrypt\"],[\"X11\"],[\"X11\"],[\"SHA3\"],[\"Scrypt\"],[\"SHA-256\"],[\"Scrypt\"],[\"X13\"],[\"X13\"],[\"NeoScrypt\"],[\"Scrypt\"],[\"Scrypt\"],[\"Scrypt\"],[\"X11\"],[\"X11\"],[\"Multiple\"],[\"PHI1612\"],[\"X11\"],[\"Scrypt\"],[\"Scrypt\"],[\"Scrypt\"],[\"X11\"],[\"Multiple\"],[\"X13\"],[\"Scrypt\"],[\"Shabal256\"],[\"Counterparty\"],[\"SHA-256\"],[\"Groestl\"],[\"Scrypt\"],[\"X13\"],[\"Scrypt\"],[\"Scrypt\"],[\"X13\"],[\"X11\"],[\"Scrypt\"],[\"X11\"],[\"SHA3\"],[\"QUAIT\"],[\"X11\"],[\"Scrypt\"],[\"X13\"],[\"SHA-256\"],[\"X15\"],[\"BLAKE256\"],[\"SHA-256\"],[\"X11\"],[\"SHA-256\"],[\"NIST5\"],[\"Scrypt\"],[\"Scrypt\"],[\"X11\"],[\"Scrypt\"],[\"SHA-256\"],[\"Scrypt\"],[\"PoS\"],[\"X11\"],[\"SHA-256\"],[\"SHA-256\"],[\"NIST5\"],[\"X11\"],[\"POS 3.0\"],[\"Scrypt\"],[\"Scrypt\"],[\"Scrypt\"],[\"X13\"],[\"X11\"],[\"X11\"],[\"Scrypt\"],[\"SHA-256\"],[\"X11\"],[\"Scrypt\"],[\"Scrypt\"],[\"Scrypt\"],[\"Scrypt\"],[\"SHA-256D\"],[\"PoS\"],[\"Scrypt\"],[\"X11\"],[\"PoS\"],[\"X13\"],[\"X14\"],[\"PoS\"],[\"SHA-256D\"],[\"DPoS\"],[\"X11\"],[\"X13\"],[\"X11\"],[\"PoS\"],[\"Scrypt\"],[\"Scrypt\"],[\"PoS\"],[\"X11\"],[\"SHA-256\"],[\"Scrypt\"],[\"X11\"],[\"Scrypt\"],[\"Scrypt\"],[\"X11\"],[\"Scrypt\"],[\"Scrypt\"],[\"Scrypt\"],[\"Scrypt\"],[\"Quark\"],[\"QuBit\"],[\"Scrypt\"],[\"SHA-256\"],[\"X11\"],[\"Scrypt\"],[\"Scrypt\"],[\"Scrypt\"],[\"Scrypt\"],[\"X13\"],[\"Scrypt\"],[\"Scrypt\"],[\"X11\"],[\"Blake2S\"],[\"X11\"],[\"PoS\"],[\"X11\"],[\"PoS\"],[\"X11\"],[\"Scrypt\"],[\"Scrypt\"],[\"Scrypt\"],[\"SHA-256\"],[\"X11\"],[\"Scrypt\"],[\"PoS\"],[\"Scrypt\"],[\"X15\"],[\"SHA-256\"],[\"POS 3.0\"],[\"536\"],[\"NIST5\"],[\"NIST5\"],[\"Skein\"],[\"X13\"],[\"Scrypt\"],[\"X13\"],[\"SkunkHash v2 Raptor\"],[\"Skein\"],[\"X11\"],[\"Scrypt\"],[\"VeChainThor Authority\"],[\"PoS\"],[\"Scrypt\"],[\"Scrypt\"],[\"SHA-512\"],[\"Ouroboros\"],[\"X11\"],[\"NeoScrypt\"],[\"Scrypt\"],[\"Lyra2REv2\"],[\"Scrypt\"],[\"SHA-256\"],[\"NIST5\"],[\"PHI1612\"],[\"Scrypt\"],[\"Quark\"],[\"POS 2.0\"],[\"Scrypt\"],[\"SHA-256\"],[\"X11\"],[\"DPoS\"],[\"NIST5\"],[\"X13\"],[\"Scrypt\"],[\"NIST5\"],[\"Quark\"],[\"Scrypt\"],[\"Scrypt\"],[\"X11\"],[\"Quark\"],[\"Scrypt\"],[\"Scrypt\"],[\"X11\"],[\"POS 3.0\"],[\"Scrypt\"],[\"Scrypt\"],[\"X13\"],[\"SHA-256 + Hive\"],[\"C11\"],[\"Proof-of-Authority\"],[\"X11\"],[\"XEVAN\"],[\"Scrypt\"],[\"VBFT\"],[\"NIST5\"],[\"Scrypt\"],[\"Scrypt\"],[\"Scrypt\"],[\"Green Protocol\"],[\"PoS\"],[\"Scrypt\"],[\"Semux BFT consensus\"],[\"Quark\"],[\"PoS\"],[\"X16R\"],[\"Scrypt\"],[\"XEVAN\"],[\"Scrypt\"],[\"Scrypt\"],[\"Scrypt\"],[\"SHA-256D\"],[\"Scrypt\"],[\"X15\"],[\"Scrypt\"],[\"Quark\"],[\"SHA-256\"],[\"DPoS\"],[\"X16R\"],[\"Quark\"],[\"Quark\"],[\"Scrypt\"],[\"Lyra2REv2\"],[\"Quark\"],[\"Scrypt\"],[\"X11\"],[\"X11\"],[\"Scrypt\"],[\"PoS\"],[\"Keccak\"],[\"X11\"],[\"Scrypt\"],[\"SHA-512\"],[\"XEVAN\"],[\"XEVAN\"],[\"X11\"],[\"Quark\"],[\"Scrypt\"],[\"Quark\"],[\"Quark\"],[\"Scrypt\"],[\"X11\"],[\"Scrypt\"],[\"XEVAN\"],[\"SHA-256D\"],[\"X11\"],[\"X11\"],[\"DPoS\"],[\"Scrypt\"],[\"X11\"],[\"Scrypt\"],[\"Scrypt\"],[\"SHA-256\"],[\"Scrypt\"],[\"X11\"],[\"Scrypt\"],[\"SHA-256\"],[\"X11\"],[\"Scrypt\"],[\"Scrypt\"],[\"X11\"],[\"Scrypt\"],[\"PoS\"],[\"X11\"],[\"SHA-256\"],[\"DPoS\"],[\"Scrypt\"],[\"Scrypt\"],[\"NeoScrypt\"],[\"X13\"],[\"DPoS\"],[\"DPoS\"],[\"SHA-256\"],[\"Leased POS\"],[\"PoS\"],[\"PoS\"],[\"SHA-256\"],[\"Scrypt\"],[\"Scrypt\"]],\"hovertemplate\":\"<b>%{hovertext}</b><br><br>Class=%{marker.color}<br>PC 1=%{x}<br>PC 2=%{y}<br>PC 3=%{z}<br>Algorithm=%{customdata[0]}<extra></extra>\",\"hovertext\":[\"42 Coin\",\"404Coin\",\"EliteCoin\",\"Dash\",\"Bitshares\",\"BitcoinDark\",\"PayCoin\",\"KoboCoin\",\"Aurora Coin\",\"BlueCoin\",\"EnergyCoin\",\"BitBar\",\"CryptoBullion\",\"CasinoCoin\",\"Diamond\",\"Exclusive Coin\",\"FlutterCoin\",\"HoboNickels\",\"HyperStake\",\"IOCoin\",\"MaxCoin\",\"MintCoin\",\"MazaCoin\",\"Nautilus Coin\",\"NavCoin\",\"OpalCoin\",\"Orbitcoin\",\"PotCoin\",\"PhoenixCoin\",\"Reddcoin\",\"SuperCoin\",\"SyncCoin\",\"TeslaCoin\",\"TittieCoin\",\"TorCoin\",\"UnitaryStatus Dollar\",\"UltraCoin\",\"VeriCoin\",\"X11 Coin\",\"Crypti\",\"StealthCoin\",\"ZCC Coin\",\"BurstCoin\",\"StorjCoin\",\"Neutron\",\"FairCoin\",\"RubyCoin\",\"Kore\",\"Dnotes\",\"8BIT Coin\",\"Sativa Coin\",\"Ucoin\",\"Vtorrent\",\"IslaCoin\",\"Nexus\",\"Droidz\",\"Squall Coin\",\"Diggits\",\"Paycon\",\"Emercoin\",\"EverGreenCoin\",\"Decred\",\"EDRCoin\",\"Hitcoin\",\"DubaiCoin\",\"PWR Coin\",\"BillaryCoin\",\"GPU Coin\",\"EuropeCoin\",\"ZeitCoin\",\"SwingCoin\",\"SafeExchangeCoin\",\"Nebuchadnezzar\",\"Ratecoin\",\"Revenu\",\"Clockcoin\",\"VIP Tokens\",\"BitSend\",\"Let it Ride\",\"PutinCoin\",\"iBankCoin\",\"Frankywillcoin\",\"MudraCoin\",\"Lutetium Coin\",\"GoldBlocks\",\"CarterCoin\",\"BitTokens\",\"MustangCoin\",\"ZoneCoin\",\"RootCoin\",\"BitCurrency\",\"Swiscoin\",\"BuzzCoin\",\"Opair\",\"PesoBit\",\"Halloween Coin\",\"CoffeeCoin\",\"RoyalCoin\",\"GanjaCoin V2\",\"TeamUP\",\"LanaCoin\",\"ARK\",\"InsaneCoin\",\"EmberCoin\",\"XenixCoin\",\"FreeCoin\",\"PLNCoin\",\"AquariusCoin\",\"Creatio\",\"Eternity\",\"Eurocoin\",\"BitcoinFast\",\"Stakenet\",\"BitConnect Coin\",\"MoneyCoin\",\"Enigma\",\"Russiacoin\",\"PandaCoin\",\"GameUnits\",\"GAKHcoin\",\"Allsafe\",\"LiteCreed\",\"Klingon Empire Darsek\",\"Internet of People\",\"KushCoin\",\"Printerium\",\"Impeach\",\"Zilbercoin\",\"FirstCoin\",\"FindCoin\",\"OpenChat\",\"RenosCoin\",\"VirtacoinPlus\",\"TajCoin\",\"Impact\",\"Atmos\",\"HappyCoin\",\"MacronCoin\",\"Condensate\",\"Independent Money System\",\"ArgusCoin\",\"LomoCoin\",\"ProCurrency\",\"GoldReserve\",\"GrowthCoin\",\"Phreak\",\"Degas Coin\",\"HTML5 Coin\",\"Ultimate Secure Cash\",\"QTUM\",\"Espers\",\"Denarius\",\"Virta Unique Coin\",\"Bitcoin Planet\",\"BritCoin\",\"Linda\",\"DeepOnion\",\"Signatum\",\"Cream\",\"Monoeci\",\"Draftcoin\",\"Vechain\",\"Stakecoin\",\"CoinonatX\",\"Ethereum Dark\",\"Obsidian\",\"Cardano\",\"Regalcoin\",\"TrezarCoin\",\"TerraNovaCoin\",\"Rupee\",\"WomenCoin\",\"Theresa May Coin\",\"NamoCoin\",\"LUXCoin\",\"Xios\",\"Bitcloud 2.0\",\"KekCoin\",\"BlackholeCoin\",\"Infinity Economics\",\"Magnet\",\"Lamden Tau\",\"Electra\",\"Bitcoin Diamond\",\"Cash & Back Coin\",\"Bulwark\",\"Kalkulus\",\"GermanCoin\",\"LiteCoin Ultra\",\"PhantomX\",\"Digiwage\",\"Trollcoin\",\"Litecoin Plus\",\"Monkey Project\",\"TokenPay\",\"My Big Coin\",\"Unified Society USDEX\",\"Tokyo Coin\",\"LitecoinCash\",\"Stipend\",\"Poa Network\",\"Pushi\",\"Ellerium\",\"Velox\",\"Ontology\",\"Bitspace\",\"Briacoin\",\"Ignition\",\"MedicCoin\",\"Bitcoin Green\",\"Deviant Coin\",\"Abjcoin\",\"Semux\",\"Carebit\",\"Zealium\",\"Proton\",\"iDealCash\",\"Bitcoin Incognito\",\"HollyWoodCoin\",\"Swisscoin\",\"Xt3ch\",\"TheVig\",\"EmaratCoin\",\"Dekado\",\"Lynx\",\"Poseidon Quark\",\"BitcoinWSpectrum\",\"Muse\",\"Trivechain\",\"Dystem\",\"Giant\",\"Peony Coin\",\"Absolute Coin\",\"Vitae\",\"TPCash\",\"ARENON\",\"EUNO\",\"MMOCoin\",\"Ketan\",\"XDNA\",\"PAXEX\",\"ThunderStake\",\"Kcash\",\"Bettex coin\",\"BitMoney\",\"Junson Ming Chan Coin\",\"HerbCoin\",\"Oduwa\",\"Galilel\",\"Crypto Sports\",\"Credit\",\"Dash Platinum\",\"Nasdacoin\",\"Beetle Coin\",\"Titan Coin\",\"Award\",\"Insane Coin\",\"ALAX\",\"LiteDoge\",\"TruckCoin\",\"OrangeCoin\",\"BitstarCoin\",\"NeosCoin\",\"HyperCoin\",\"PinkCoin\",\"AudioCoin\",\"IncaKoin\",\"Piggy Coin\",\"Genstake\",\"XiaoMiCoin\",\"CapriCoin\",\" ClubCoin\",\"Radium\",\"Creditbit \",\"OKCash\",\"Lisk\",\"HiCoin\",\"WhiteCoin\",\"FriendshipCoin\",\"Triangles Coin\",\"EOS\",\"Oxycoin\",\"TigerCash\",\"Waves\",\"Particl\",\"Nxt\",\"ZEPHYR\",\"Gapcoin\",\"BitcoinPlus\"],\"legendgroup\":\"0\",\"marker\":{\"color\":[0,0,0,0,0,0,0,0,0,0,0,0,0,0,0,0,0,0,0,0,0,0,0,0,0,0,0,0,0,0,0,0,0,0,0,0,0,0,0,0,0,0,0,0,0,0,0,0,0,0,0,0,0,0,0,0,0,0,0,0,0,0,0,0,0,0,0,0,0,0,0,0,0,0,0,0,0,0,0,0,0,0,0,0,0,0,0,0,0,0,0,0,0,0,0,0,0,0,0,0,0,0,0,0,0,0,0,0,0,0,0,0,0,0,0,0,0,0,0,0,0,0,0,0,0,0,0,0,0,0,0,0,0,0,0,0,0,0,0,0,0,0,0,0,0,0,0,0,0,0,0,0,0,0,0,0,0,0,0,0,0,0,0,0,0,0,0,0,0,0,0,0,0,0,0,0,0,0,0,0,0,0,0,0,0,0,0,0,0,0,0,0,0,0,0,0,0,0,0,0,0,0,0,0,0,0,0,0,0,0,0,0,0,0,0,0,0,0,0,0,0,0,0,0,0,0,0,0,0,0,0,0,0,0,0,0,0,0,0,0,0,0,0,0,0,0,0,0,0,0,0,0,0,0,0,0,0,0,0,0,0,0,0,0,0,0,0,0,0,0,0,0,0,0,0,0,0,0,0,0,0,0,0,0,0,0,0,0,0],\"coloraxis\":\"coloraxis\",\"symbol\":\"circle\"},\"mode\":\"markers\",\"name\":\"0\",\"scene\":\"scene\",\"showlegend\":true,\"x\":[-0.3690528898986639,-0.3524547695923381,2.278781702769367,-0.41058207210117,-0.24500271480697688,-0.32161373886874695,-0.2370872579403929,-0.2512630208750103,-0.3687137630683333,-0.36132055192087825,-0.36755536555789603,-0.36904884079920786,-0.36903318238292293,0.41388895324738256,-0.3907690596581923,-0.3086843097752974,-0.33039499996823685,-0.3671189963266026,-0.3059585147574923,-0.41047718177686837,-0.4149894950099265,-0.025468324691470468,-0.28505829152967666,-0.284278412054682,-0.29578360271547927,-0.2964033679988892,-0.3583009419132678,-0.3633764947991746,-0.3674606697155898,-0.01231796612799029,-0.325767019254287,-0.4108473483521526,-0.21183890463144361,-0.27709372841856234,-0.41075931051524806,-0.34437831641441086,-0.36773523575037464,-0.2962808744451919,-0.4107239371152504,-0.21230505171472086,-0.296185092053017,-0.36018849569051786,-0.5993905888067753,-0.24184075530311716,-0.3208284366274913,-0.39019290508755855,-0.2842587887097835,-0.2964784292399478,-0.2789325928763049,-0.3690350288603477,-0.2964308073838695,-0.326210067628943,-0.36877040464016375,-0.41082894979514456,-0.3757693838172427,-0.41168030807536626,-0.1961824009415535,-0.2826663588867203,-0.29595422536099886,-0.3141973017981746,-0.2536956719184987,-0.09870534453209398,-0.3215847670548886,-0.08949869935276214,-0.3216482395042943,-0.2501293527149914,-0.36864671851368636,-0.2825356218674901,-0.4080083291401428,0.8645953297209705,-0.32144901538167336,-0.31410276887221755,-0.3083687784766604,-0.40868023418539645,-0.3201970469712189,-0.31787369924686754,-0.37101113589829304,-0.40956876957619603,-0.2678025650621804,-0.34503147600028744,-0.36868466086063206,-0.3671296585804859,-0.21065095231626213,-0.31374843497716787,-0.41030479960743627,-0.36789190089881624,-0.3216292406411481,-0.4108181765015094,-0.36887313706405733,-0.369029284608268,-0.2825257813944312,-0.2921929976165692,0.019559881418235895,-0.3073298217409291,-0.36864495694658733,-0.39703125391166677,-0.3066611808763787,-0.21207641970290156,-0.41914983837066083,-0.30641046965015867,-0.2937612386269218,3.8035678930268038,-0.4104122539388804,0.8312911236186972,-0.41077326131985537,-0.30779180883887824,-0.36857270241710405,-0.3687264139247786,-0.3083687784766604,-0.41034969950689854,-0.321492455409225,-0.3685734488780441,-0.398895950298337,-0.36872027281516906,-0.3643241181533929,-0.41080213851373465,-0.36793379336866416,0.3565455848190031,-0.36891880278104205,-0.3689891203871482,-0.3138323886627472,-0.3610979935739689,-0.3652294945877098,-0.32160574697681016,-0.41071243309742395,-0.3687677639401359,-0.36889421371628917,-0.2841655320182712,-0.31312657044159836,-0.2118451562808979,-0.34982056944703815,-0.2839077295796453,-0.40998084171698435,-0.4192324584873946,-0.40872414334365087,-0.3066219991683844,-0.4098791280143474,-0.3010431996705351,-0.40583508205420676,-0.368837724766011,-0.3688368999463276,-0.36198327314161677,0.2936669868780779,-0.4103558735027722,-0.26687108372353746,-0.3084029136605624,-0.3680513094505435,0.8764429044521892,-0.23578235625937205,-0.26658555250149774,0.5499095493987319,-0.3725409481583768,-0.3710487914006541,-0.4592469229930436,-0.2961170896849031,0.09418961575628927,-0.29618761106131386,-0.2371981334914693,-0.45875375315809946,-0.41062726212204775,-0.2842395342123472,4.3131391049937235,-0.3082696363533979,-0.3684742879981576,-0.36897211495713494,-0.3028472997879248,0.7482675796394365,-0.4105682797112675,-0.3533188611755877,-0.36892787642542446,-0.26483771637051057,0.3972284897418476,-0.31995832049139256,-0.3573647293143067,-0.3970200184680915,-0.36887839741210987,-0.3967432009172826,-0.2824381892467229,-0.3687493208858256,-0.0642306295805023,-0.409365390355939,3.8084057428010625,0.18482689174734676,-0.29287107396282663,-0.3662190934211651,-0.2878420686072936,-0.3137187284345467,0.04389077380740825,-0.3678909068081329,-0.40994447764126274,-0.31288650220663716,-0.35550368027676993,-0.3689941600115655,-0.3261821049323571,-0.26808339494186584,-0.28329722776513516,-0.3645563565690998,-0.20367121753888467,0.3094450242204702,-0.40101737432444284,-0.2690616266368929,-0.4106444015804879,-0.13371247678889203,-0.2834025568282236,-0.2439496946446802,-0.37214138601397856,-0.36902140971956027,-0.36900318766514084,-0.27780513564764925,-0.2733085580404722,-0.30786562243330345,-0.36872075097173007,3.982164997472245,-0.3954164617300685,-0.3080535698281013,-0.2807393180142603,-0.3157869229458763,0.08080060636074067,-0.2839349241882343,-0.1728832138606841,-0.2841859476998418,-0.35883790466469734,-0.36819671613274796,-0.16857853954041213,2.190418874694468,-0.3094419799943335,-0.23590982556212925,1.0905942520298368,-0.36454168558634553,-0.3138318118809302,-0.3984212126257571,-0.16534447106145617,-0.34922951448064116,-0.31255618125160145,-0.3619235998082154,-0.3257610891371609,-0.4101197457685602,-0.28144171671595997,-0.30715658304810767,-0.3510663815673529,-0.3256229007301014,-0.22901093704420653,-0.3385532874254427,-0.04924232000477576,1.1209362679739665,-0.11696015517321368,-0.39771849260521813,-0.36872473164279285,-0.3981729054400054,-0.3139483477947421,0.5344109231383812,-0.32623620973302253,-0.3682095275723848,-0.12818878814550422,-0.31372343143786546,-0.4076930402402479,-0.4103461391204799,3.820600584408902,0.0645830609127037,-0.40789553685609337,-0.36759714124348414,-0.36841925935264463,-0.23711973813687368,-0.3689356906746694,-0.4020057083648426,-0.28295146609663535,-0.10213803673978047,-0.39776952663790455,-0.36821681042354587,-0.36130743592646747,-0.4069277950097573,-0.36666177274667994,-0.3086433531736483,-0.3939567896694451,-0.3201344322944719,3.803958254372253,-0.09220099018680454,-0.3638672284473823,-0.3579281290146036,-0.29658524186599466,3.8137870531857847,3.8150262953102705,-0.21808919953390526,-0.16060530488960717,-0.30857947283384185,-0.3675131109406821,2.5122662645449734,-0.3671053146771361,-0.2845809658954636],\"y\":[1.1081114085799066,1.1082990007400306,1.7092723224569317,1.2728258188279087,1.4169560256042146,0.8719875082874503,0.5935109815276867,1.8876851448929568,1.1081108527443546,1.1083831834105407,1.1081640433224678,1.1081111789398406,1.1081113573106758,0.639125935583711,1.028717348047187,1.4940248069891222,0.4667042942640632,1.1080901035533277,0.9950649601378777,1.2728295054938226,2.077294545140272,0.8387331401842091,0.8714888916919024,0.8296244930818375,1.8525091224232322,1.8524873390265346,0.5607777949705692,1.1079984513242838,1.10809446196536,1.1206498623910088,0.9943687344489095,1.2728328616885838,0.08286561385756117,1.6147484149010436,1.2728285170040838,1.1077883034021418,1.1080833236153955,0.35801244847347125,1.272833108196681,0.08292362746771631,1.852495010949512,1.107678996090806,1.216053996971792,1.4148579774425836,0.8719808870220889,1.0287408572401537,0.8296372203413608,1.8524757730682802,0.8294524361848334,1.1081120363876509,1.8524789348258077,0.994338282733266,1.1081064578187902,1.2728335091016736,2.2513099073633898,1.9324534856009918,0.6581654261739778,0.829618793110713,1.8524659265784882,0.8715205707205167,1.8878404692409285,1.0076133707346944,0.8719885265834588,1.2643749865169758,0.8719948513966149,1.6102506538813104,1.1080944376303699,0.8295333279029431,1.2726469607360436,0.7963632486738728,0.8719799063791647,0.6417000031930593,1.4940210176929336,1.2728532335176166,0.8718879672068384,0.8717447422729604,1.6059349652041064,1.272774388934409,1.4540157905633082,1.1074677556186834,1.108091368094497,1.108104608330877,1.5738980380941345,0.994302368805875,1.272814733005254,1.1080852569436928,0.871987707410617,1.272831655829551,1.1081021030217415,1.1081122382855708,0.8296981317651544,0.41155414484252156,1.994300444520165,1.4940173600162996,1.1081257465638505,1.2722025030528776,1.4940661565641038,1.5739948713185927,1.9841811558992046,1.4938807905414082,1.9925831351149006,1.798346154391067,1.2728258357525843,1.8914909583975175,1.272832599644956,1.494018977617371,1.1080996132937015,1.1080916365106537,1.4940210176929336,1.2728057151055605,0.8719932590895273,1.108103708687731,0.6688404915259288,1.108102268029997,1.1077935389081068,1.2728307315765592,1.1080436097770925,0.827969756995631,1.1081064497844813,1.1081111831007517,1.462257364647159,0.6388127065079545,1.1078738042970282,0.8719885331616296,1.272830645251881,1.108106550633632,1.1081006678454932,0.829599579396112,0.3701995567980832,1.573994053606837,1.1080434060639672,0.8296239468493967,1.2727889205866263,1.9208866378466545,1.2728256510246934,1.4940152395004376,1.2727924956012224,1.4939957846780074,1.2726370443382018,1.1081031898736435,1.1080977224549715,1.1076159135815924,0.5563768873849453,1.2728203776355809,0.8287604069627358,1.4940123781494925,1.1080684944317334,1.8606240418488322,0.5934172877130461,1.4540090914523962,1.946458014441671,1.6059407137728954,1.6059113223966595,2.0435321501053325,1.8524750817855502,1.0871945401351675,1.8524808626020277,1.442642350090073,2.0435494839483885,1.2728335247956868,0.8296249475187262,2.8074489367704474,1.4939935529205748,1.1080958468446978,1.1081111229721767,1.417533663773035,1.3519003271234051,1.2728225837171807,0.5606581183740245,1.1081040973298304,0.6469745318759929,1.1164451106101188,0.8719876624527214,1.6055887925503982,1.8936542910693444,1.1081019181319913,1.7406601107359718,1.4898952290788259,1.1081110762675652,0.5929000247342666,1.272777817386878,1.7982372030147746,1.6032191175729897,1.8524552563593104,1.108054775279634,1.3274499982905137,1.4622576396729234,1.0854266456484414,1.10804065328632,1.2728273975357427,1.4622124929455118,1.107918054787627,1.1081104969319653,0.9943385215843805,1.4540122438074299,0.3862793036768423,1.1080968493643042,1.5736969745591487,0.8371086802941673,1.0454353151996303,2.0654290511101627,1.2728213961529091,1.2849683274768242,0.8295750619212721,1.4764111623419707,1.6059249984449913,1.108110283140843,1.1081094356530252,0.8294920638450607,1.4248896345214048,1.493988112118926,1.108100763270588,1.7901233205421612,1.7407067427219873,1.4939874579913062,0.6459875453729097,1.1061729790829993,0.6703245686093732,0.8296292600800165,1.107417782891115,0.8296070455723478,1.9958057232565314,1.1080790072134132,1.609330242013276,0.2748555799557532,1.4619392527703516,0.5934870726762574,1.6138197757448878,0.924468657148306,1.4622529210600317,1.74074609538907,0.8212584735768078,0.9254416568869174,1.4622389825384519,1.1076180109689882,0.9943280241652146,1.2728212372436978,0.8295428003495164,1.4939222681571764,0.9354533334537942,0.9942994022379252,1.0996419982803793,1.4326599362849162,1.0064901930346641,0.40141533592401696,1.0017078398735344,1.7407344519495325,1.1081073191483142,1.7407444927298756,1.462254501618719,1.0842167377434015,0.9943375870883661,1.108078556919279,1.2848351233589075,1.993745913039036,1.2726312592940712,1.2728281595441158,1.7982938367622245,1.0973135837391794,1.2729366121625254,1.1080137796733536,1.1080933140572657,0.5935035161183768,1.1081155279080115,1.272771638463449,1.1033259311283952,0.879576612005267,1.2725485426906946,1.1081296353300734,1.108086053759178,1.272815879037775,1.1080764148989999,1.4940195507346337,0.7323501337301147,0.8719777526241899,1.7983338962667827,0.828941292922408,1.1080704803028532,0.5607489396285031,1.8524808572799607,1.7987983326392336,1.7988418892945126,0.5934440448888506,2.1528150365076777,1.4940220681804084,1.5938033802382947,0.777916924682246,1.1079938674722092,0.8296251525400066],\"z\":[-0.38604286358758116,-0.3864038953068363,-0.4691725190546642,-0.34886884714754984,-0.18730691591143736,-0.26717335643934875,-0.06958187661259042,-0.49148634300454647,-0.38604948760376256,-0.38624266591744477,-0.38608155937229316,-0.38604290444190553,-0.38604324527368605,-0.17899714410940998,-0.34422912319062376,-0.07509954625030864,-0.16795738547060235,-0.38607752809969614,-0.15179826690271794,-0.3488715574960472,-0.3841423223381756,-0.19514418968107908,-0.26781216065238234,-0.1884545162712514,-0.44271976271498403,-0.44270374808336393,-0.23202553128128098,-0.38613596626336205,-0.38607150559608866,-0.39526083456202,-0.1512864184482342,-0.34886479860569686,0.03871375146013206,-0.127967100098357,-0.3488657980345532,-0.3864763573816577,-0.38606415573916825,-0.1902839682516681,-0.3488672860890933,0.038713040805733706,-0.4427093882974231,-0.3861443598884222,-0.03314188012263111,-0.12209157388269408,-0.26718778084239486,-0.34424456963349365,-0.1884570872264572,-0.4427002778153268,-0.18853093615235428,-0.38604332511919004,-0.4427017634724968,-0.15127241898861468,-0.38604761180146535,-0.3488652741489014,-0.19483793749631126,-0.5376359812389101,-0.23547233349404273,-0.18848547953032416,-0.44270897594559716,-0.2672402440435601,-0.49146477454288134,-0.3700809272802055,-0.26717410506619016,-0.35378172475879144,-0.26717393186767013,-0.37853928337752235,-0.38604800155054414,-0.18847341650049584,-0.34888917617792553,-0.20551502699498053,-0.2671753168196788,-0.16501435719429863,-0.07510514836300568,-0.3489112297391068,-0.2671843594075046,-0.26720583667860154,-0.3754042380132373,-0.3488801064096187,-0.1062704607226402,-0.38640845657749934,-0.38604672349092817,-0.3860798037522993,-0.2451172227690045,-0.15151317094280548,-0.3488724401937195,-0.3860613831195787,-0.2671730834343075,-0.34886516985449345,-0.3860448296545821,-0.38604347354970664,-0.18850186784662545,-0.10881421210877305,-0.5684410403773074,-0.07512510669052293,-0.38605340451242376,-0.3490304670507255,-0.07514672124991656,-0.24510558165274698,-0.5432343427622841,-0.07511990688996531,-0.5619385866776938,-0.21382910847273845,-0.3488722147551721,-0.47173476133350534,-0.34886622160649605,-0.07511623041707587,-0.3860503554654226,-0.38604594223440536,-0.07510514836300568,-0.3488700044060685,-0.26717674550007386,-0.38605104284927627,-0.18225834296814578,-0.3860478867340806,-0.3860820572868844,-0.3488653291570778,-0.38605341248378106,-0.20086782202291223,-0.38604467012545357,-0.3860440884304975,-0.15024837343719924,-0.2498553913087256,-0.3860778804038214,-0.26717369050667783,-0.34886709174179614,-0.3860476800367138,-0.386044165983149,-0.18845248126428887,-0.2834383135908809,-0.2451100236087518,-0.3864122653744113,-0.18846176716423296,-0.34887443330294504,-0.3723798004468059,-0.3489056305977104,-0.0751387676178797,-0.34887706156806736,-0.07524596799245434,-0.34893053577228045,-0.3860457176446938,-0.386044796573547,-0.38609798313824223,-0.07373120930974794,-0.3488723960345105,-0.1886512662784472,-0.07510299073381026,-0.38605535065657276,-0.5091904859088489,-0.06959166715662918,-0.10629342550582802,-0.40637923405054166,-0.375374912573294,-0.3753994382561332,-0.48526964266053413,-0.4427073187220806,-0.39163506405895687,-0.4427069125883763,-0.23621726998138445,-0.4852823860868668,-0.34886927299463455,-0.1884553644957753,6.717585558109917,-0.07510240376339979,-0.3860516596326249,-0.38604441505963477,-0.18625984626629652,-0.06104539009773658,-0.3488685657497403,-0.23210372504210597,-0.3860440870050304,-0.04143904417277006,-0.402654492384785,-0.267206182636773,-0.3756152693123753,-0.3249307968688094,-0.38604469372806516,-0.34785921541376863,-0.1306834378899936,-0.38604882140015767,-0.07290203399465821,-0.34888472390390396,-0.21390628338952947,-0.38595173503556385,-0.4427682347560902,-0.3860893012051764,-0.17778441585953184,-0.15025067260768415,-0.39033535036688977,-0.38605375531631675,-0.3488817508532668,-0.15025942137736434,-0.386278170555173,-0.38604387093073744,-0.15127301398186035,-0.10626428836983098,-0.2767288541117574,-0.3861294597684731,-0.24522104304826545,-2.772855422422607,-0.3008965723057366,-0.3592596076111718,-0.34886685388967437,-0.4183114773665348,-0.1884633949020667,-0.1273598863552642,-0.3753801348655728,-0.386043294360998,-0.38604351009950044,-0.18856006945921636,-0.17252228442146714,-0.07510947587551307,-0.38604761926224834,-0.14738188716371445,-0.34789349813322323,-0.07510563981154589,-0.05386655237009149,-0.3867659005590729,-0.3049200627488907,-0.18846213931920536,-0.38981076195599723,-0.18845335686638656,-0.561201712305984,-0.3860542720937808,-0.29387921953772994,-0.32869264586937286,-0.1502808214253313,-0.06960110648243233,-0.15258795473880488,-0.2514731655968079,-0.15024762299210528,-0.3478407104534291,-0.18937663140798533,-0.23903158057580923,-0.1502705079792506,-0.38609952508723056,-0.15127955598193973,-0.34887722195407117,-0.18849671477215982,-0.07511223523789785,-0.35270421663322915,-0.15127738662954504,-0.3873654771924831,-0.2986212224993901,-0.22071860591236456,-0.36887223807229447,-0.15668195301182491,-0.3478526375324207,-0.38604866442593105,-0.34784535552461154,-0.15024558499237925,-0.3998468665665295,-0.15127178174845485,-0.38605394104831614,-0.41839808296412123,-0.5617424277251339,-0.3488927310963066,-0.34887392315105953,-0.21415761697735977,-0.39278340821649604,-0.34894107305030053,-0.3860549682608762,-0.38605231568920034,-0.06957995308525423,-0.38604589200135037,-0.34902948615012735,-0.3869283492125772,-0.27282314222667997,-0.34907516929319715,-0.38606255437461523,-0.3861919815632253,-0.34893954723825427,-0.38608424035385763,-0.07509945653850883,-0.11513644039969825,-0.2672009941462693,-0.213834741217519,-0.19214311993710748,-0.38613859276848717,-0.2320279706600865,-0.4426990331859723,-0.21410911463956353,-0.21414113644950294,-0.06994681957903187,8.25854322962125,-0.07510115386427474,0.06255763956006863,-0.13152319684037073,-0.38606129906870595,-0.18844863466350684],\"type\":\"scatter3d\"},{\"customdata\":[[\"SHA-256\"],[\"Ethash\"],[\"Scrypt\"],[\"CryptoNight-V7\"],[\"Ethash\"],[\"Equihash\"],[\"Multiple\"],[\"Scrypt\"],[\"X11\"],[\"Scrypt\"],[\"Multiple\"],[\"Scrypt\"],[\"SHA-256\"],[\"Scrypt\"],[\"Scrypt\"],[\"Quark\"],[\"Groestl\"],[\"Scrypt\"],[\"Scrypt\"],[\"Scrypt\"],[\"X11\"],[\"Multiple\"],[\"SHA-256\"],[\"Scrypt\"],[\"Scrypt\"],[\"Scrypt\"],[\"Scrypt\"],[\"Scrypt\"],[\"NeoScrypt\"],[\"Scrypt\"],[\"Scrypt\"],[\"Scrypt\"],[\"Scrypt\"],[\"SHA-256\"],[\"Scrypt\"],[\"Scrypt\"],[\"Scrypt\"],[\"Scrypt\"],[\"HybridScryptHash256\"],[\"Scrypt\"],[\"Scrypt\"],[\"SHA-256\"],[\"Scrypt\"],[\"Scrypt\"],[\"Scrypt\"],[\"Scrypt\"],[\"SHA-256\"],[\"SHA-256\"],[\"SHA-256\"],[\"SHA-256\"],[\"SHA-256\"],[\"X11\"],[\"Scrypt\"],[\"Lyra2REv2\"],[\"Scrypt\"],[\"SHA-256\"],[\"CryptoNight\"],[\"CryptoNight\"],[\"Scrypt\"],[\"Scrypt\"],[\"Scrypt\"],[\"Scrypt\"],[\"Scrypt\"],[\"Scrypt\"],[\"Stanford Folding\"],[\"Multiple\"],[\"QuBit\"],[\"Scrypt\"],[\"Scrypt\"],[\"M7 POW\"],[\"Scrypt\"],[\"SHA-256\"],[\"Scrypt\"],[\"X11\"],[\"Lyra2RE\"],[\"SHA-256\"],[\"X11\"],[\"Scrypt\"],[\"Scrypt\"],[\"Ethash\"],[\"Blake2b\"],[\"X11\"],[\"SHA-256\"],[\"Scrypt\"],[\"1GB AES Pattern Search\"],[\"Scrypt\"],[\"SHA-256\"],[\"X11\"],[\"Dagger\"],[\"Scrypt\"],[\"X11GOST\"],[\"Scrypt\"],[\"X11\"],[\"Scrypt\"],[\"X11\"],[\"Equihash\"],[\"CryptoNight\"],[\"SHA-256\"],[\"Multiple\"],[\"Scrypt\"],[\"SHA-256\"],[\"Scrypt\"],[\"Lyra2Z\"],[\"Ethash\"],[\"Equihash\"],[\"Scrypt\"],[\"X11\"],[\"X11\"],[\"CryptoNight\"],[\"Scrypt\"],[\"CryptoNight\"],[\"Lyra2RE\"],[\"X11\"],[\"CryptoNight-V7\"],[\"Scrypt\"],[\"X11\"],[\"Equihash\"],[\"Scrypt\"],[\"Lyra2RE\"],[\"Dagger-Hashimoto\"],[\"Scrypt\"],[\"NIST5\"],[\"Scrypt\"],[\"SHA-256\"],[\"Scrypt\"],[\"CryptoNight-V7\"],[\"Argon2d\"],[\"Blake2b\"],[\"Cloverhash\"],[\"CryptoNight\"],[\"X11\"],[\"Scrypt\"],[\"Scrypt\"],[\"X11\"],[\"X11\"],[\"CryptoNight\"],[\"Time Travel\"],[\"Scrypt\"],[\"Keccak\"],[\"X11\"],[\"SHA-256\"],[\"Scrypt\"],[\"Scrypt\"],[\"Scrypt\"],[\"Scrypt\"],[\"Scrypt\"],[\"Scrypt\"],[\"CryptoNight\"],[\"Equihash\"],[\"X11\"],[\"NeoScrypt\"],[\"Equihash\"],[\"Dagger\"],[\"Scrypt\"],[\"X11\"],[\"NeoScrypt\"],[\"Ethash\"],[\"NeoScrypt\"],[\"Multiple\"],[\"CryptoNight\"],[\"CryptoNight\"],[\"Ethash\"],[\"X11\"],[\"CryptoNight-V7\"],[\"Scrypt\"],[\"BLAKE256\"],[\"X11\"],[\"NeoScrypt\"],[\"NeoScrypt\"],[\"Scrypt\"],[\"X11\"],[\"SHA-256\"],[\"C11\"],[\"Ethash\"],[\"CryptoNight\"],[\"SkunkHash\"],[\"CryptoNight\"],[\"Scrypt\"],[\"Dagger\"],[\"Lyra2REv2\"],[\"Scrypt\"],[\"Scrypt\"],[\"X11\"],[\"Ethash\"],[\"CryptoNight\"],[\"Scrypt\"],[\"IMesh\"],[\"Equihash\"],[\"Lyra2Z\"],[\"X11\"],[\"CryptoNight\"],[\"NIST5\"],[\"Lyra2RE\"],[\"Tribus\"],[\"Lyra2Z\"],[\"CryptoNight\"],[\"CryptoNight Heavy\"],[\"CryptoNight\"],[\"Jump Consistent Hash\"],[\"CryptoNight\"],[\"X16R\"],[\"HMQ1725\"],[\"X11\"],[\"Scrypt\"],[\"CryptoNight-V7\"],[\"Cryptonight-GPU\"],[\"XEVAN\"],[\"CryptoNight Heavy\"],[\"SHA-256\"],[\"X11\"],[\"X16R\"],[\"Equihash\"],[\"Lyra2Z\"],[\"SHA-256\"],[\"CryptoNight\"],[\"Blake\"],[\"Blake\"],[\"Equihash\"],[\"Exosis\"],[\"Scrypt\"],[\"Equihash\"],[\"Equihash\"],[\"QuBit\"],[\"SHA-256\"],[\"X13\"],[\"SHA-256\"],[\"Scrypt\"],[\"NeoScrypt\"],[\"Blake\"],[\"Scrypt\"],[\"SHA-256\"],[\"Scrypt\"],[\"Groestl\"],[\"Scrypt\"],[\"Scrypt\"],[\"Multiple\"],[\"Equihash+Scrypt\"],[\"Ethash\"],[\"CryptoNight\"],[\"Equihash\"]],\"hovertemplate\":\"<b>%{hovertext}</b><br><br>Class=%{marker.color}<br>PC 1=%{x}<br>PC 2=%{y}<br>PC 3=%{z}<br>Algorithm=%{customdata[0]}<extra></extra>\",\"hovertext\":[\"Bitcoin\",\"Ethereum\",\"Litecoin\",\"Monero\",\"Ethereum Classic\",\"ZCash\",\"DigiByte\",\"ProsperCoin\",\"Spreadcoin\",\"Argentum\",\"MyriadCoin\",\"MoonCoin\",\"ZetaCoin\",\"SexCoin\",\"Quatloo\",\"QuarkCoin\",\"Riecoin\",\"Digitalcoin \",\"Catcoin\",\"CannaCoin\",\"CryptCoin\",\"Verge\",\"DevCoin\",\"EarthCoin\",\"E-Gulden\",\"Einsteinium\",\"Emerald\",\"Franko\",\"FeatherCoin\",\"GrandCoin\",\"GlobalCoin\",\"GoldCoin\",\"Infinite Coin\",\"IXcoin\",\"KrugerCoin\",\"LuckyCoin\",\"Litebar \",\"MegaCoin\",\"MediterraneanCoin\",\"MinCoin\",\"NobleCoin\",\"Namecoin\",\"NyanCoin\",\"RonPaulCoin\",\"StableCoin\",\"SmartCoin\",\"SysCoin\",\"TigerCoin\",\"TerraCoin\",\"UnbreakableCoin\",\"Unobtanium\",\"UroCoin\",\"ViaCoin\",\"Vertcoin\",\"WorldCoin\",\"JouleCoin\",\"ByteCoin\",\"DigitalNote \",\"MonaCoin\",\"Gulden\",\"PesetaCoin\",\"Wild Beast Coin\",\"Flo\",\"ArtByte\",\"Folding Coin\",\"Unitus\",\"CypherPunkCoin\",\"OmniCron\",\"GreenCoin\",\"Cryptonite\",\"MasterCoin\",\"SoonCoin\",\"1Credit\",\"MarsCoin \",\"Crypto\",\"Anarchists Prime\",\"BowsCoin\",\"Song Coin\",\"BitZeny\",\"Expanse\",\"Siacoin\",\"MindCoin\",\"I0coin\",\"Revolution VR\",\"HOdlcoin\",\"Gamecredits\",\"CarpeDiemCoin\",\"Adzcoin\",\"SoilCoin\",\"YoCoin\",\"SibCoin\",\"Francs\",\"BolivarCoin\",\"Omni\",\"PizzaCoin\",\"Komodo\",\"Karbo\",\"ZayedCoin\",\"Circuits of Value\",\"DopeCoin\",\"DollarCoin\",\"Shilling\",\"ZCoin\",\"Elementrem\",\"ZClassic\",\"KiloCoin\",\"ArtexCoin\",\"Kurrent\",\"Cannabis Industry Coin\",\"OsmiumCoin\",\"Bikercoins\",\"HexxCoin\",\"PacCoin\",\"Citadel\",\"BeaverCoin\",\"VaultCoin\",\"Zero\",\"Canada eCoin\",\"Zoin\",\"DubaiCoin\",\"EB3coin\",\"Coinonat\",\"BenjiRolls\",\"ILCoin\",\"EquiTrader\",\"Quantum Resistant Ledger\",\"Dynamic\",\"Nano\",\"ChanCoin\",\"Dinastycoin\",\"DigitalPrice\",\"Unify\",\"SocialCoin\",\"ArcticCoin\",\"DAS\",\"LeviarCoin\",\"Bitcore\",\"gCn Coin\",\"SmartCash\",\"Onix\",\"Bitcoin Cash\",\"Sojourn Coin\",\"NewYorkCoin\",\"FrazCoin\",\"Kronecoin\",\"AdCoin\",\"Linx\",\"Sumokoin\",\"BitcoinZ\",\"Elements\",\"VIVO Coin\",\"Bitcoin Gold\",\"Pirl\",\"eBoost\",\"Pura\",\"Innova\",\"Ellaism\",\"GoByte\",\"SHIELD\",\"UltraNote\",\"BitCoal\",\"DaxxCoin\",\"AC3\",\"Lethean\",\"PopularCoin\",\"Photon\",\"Sucre\",\"SparksPay\",\"GunCoin\",\"IrishCoin\",\"Pioneer Coin\",\"UnitedBitcoin\",\"Interzone\",\"1717 Masonic Commemorative Token\",\"TurtleCoin\",\"MUNcoin\",\"Niobio Cash\",\"ShareChain\",\"Travelflex\",\"KREDS\",\"BitFlip\",\"LottoCoin\",\"Crypto Improvement Fund\",\"Callisto Network\",\"BitTube\",\"Poseidon\",\"Aidos Kuneen\",\"Bitrolium\",\"Alpenschillling\",\"FuturoCoin\",\"Monero Classic\",\"Jumpcoin\",\"Infinex\",\"KEYCO\",\"GINcoin\",\"PlatinCoin\",\"Loki\",\"Newton Coin\",\"MassGrid\",\"PluraCoin\",\"Motion\",\"PlusOneCoin\",\"Axe\",\"HexCoin\",\"Webchain\",\"Ryo\",\"Urals Coin\",\"Qwertycoin\",\"Project Pai\",\"Azart\",\"Xchange\",\"CrypticCoin\",\"Actinium\",\"Bitcoin SV\",\"FREDEnergy\",\"Universal Molecule\",\"Lithium\",\"PirateCash\",\"Exosis\",\"Block-Logic\",\"Beam\",\"Bithereum\",\"SLICE\",\"BLAST\",\"Bitcoin Rhodium\",\"GlobalToken\",\"SolarCoin\",\"UFO Coin\",\"BlakeCoin\",\"Crypto Escudo\",\"Crown Coin\",\"SmileyCoin\",\"Groestlcoin\",\"Bata\",\"Pakcoin\",\"JoinCoin\",\"Vollar\",\"Reality Clash\",\"Beldex\",\"Horizen\"],\"legendgroup\":\"3\",\"marker\":{\"color\":[3,3,3,3,3,3,3,3,3,3,3,3,3,3,3,3,3,3,3,3,3,3,3,3,3,3,3,3,3,3,3,3,3,3,3,3,3,3,3,3,3,3,3,3,3,3,3,3,3,3,3,3,3,3,3,3,3,3,3,3,3,3,3,3,3,3,3,3,3,3,3,3,3,3,3,3,3,3,3,3,3,3,3,3,3,3,3,3,3,3,3,3,3,3,3,3,3,3,3,3,3,3,3,3,3,3,3,3,3,3,3,3,3,3,3,3,3,3,3,3,3,3,3,3,3,3,3,3,3,3,3,3,3,3,3,3,3,3,3,3,3,3,3,3,3,3,3,3,3,3,3,3,3,3,3,3,3,3,3,3,3,3,3,3,3,3,3,3,3,3,3,3,3,3,3,3,3,3,3,3,3,3,3,3,3,3,3,3,3,3,3,3,3,3,3,3,3,3,3,3,3,3,3,3,3,3,3,3,3,3,3,3,3,3,3,3,3,3,3,3,3,3,3,3,3,3,3,3,3,3,3,3,3,3,3,3,3,3,3,3],\"coloraxis\":\"coloraxis\",\"symbol\":\"diamond\"},\"mode\":\"markers\",\"name\":\"3\",\"scene\":\"scene\",\"showlegend\":true,\"x\":[-0.1412450776308071,-0.13442978735909278,-0.18751918606103493,-0.14800424857463815,-0.13287738167599658,-0.11049210252561323,0.16932208665396742,-0.1886611065017575,-0.23039716365861104,-0.18827903817921154,-0.08314089900179311,2.52351710460362,-0.1383410259022282,-0.18554469563678033,-0.18808374527765723,-0.21345318440572933,-0.20947066985953844,-0.18813245126345118,-0.1886434417213395,-0.18872957870144738,-0.23048616220899465,0.19296790115444948,0.23517772628854025,0.05906268241340461,-0.18847684465835207,-0.18409863434187193,-0.18841634871788007,-0.18878636383717232,-0.17328090864544352,-0.16808637138094695,-0.1875860292997963,-0.18786238888239784,1.5535169914437479,-0.1412065978055139,-0.18516189105841643,-0.18850318549475434,-0.1888566597396784,-0.1881187020441178,-0.0948872865546976,-0.18873836856935122,-0.054134477000429275,-0.14128390549562042,-0.18242621774994194,-0.18871786358609582,-0.1868190813327332,-0.1882065363784221,-0.12848402337170053,-0.14074970313234791,-0.14103579945417097,-0.14101875884275042,-0.1416073530846874,-0.23065942157274053,-0.18843545447658103,-0.16837327612126532,-0.18554935389639518,-0.14081674018203721,3.841913381941326,0.4537313941553132,-0.18730726888617263,-0.1719624567445922,-0.18603093781520422,-0.1888588573384658,-0.18589651928023815,-0.17217188302200964,-0.057279543178745125,-0.11701962357749852,-0.18177196923798827,-0.18873242843759747,-0.06214204405737253,-0.09949667340091904,-0.18886772004045402,-0.14131157464260066,0.4609664911151702,-0.2300489189617744,-0.15314715067512064,-0.14105237272603238,-0.230332735198892,-0.18699831659179927,-0.186193613920745,-0.13549304013553198,0.38439532093424106,-0.23036800592364579,-0.14120771577804336,-0.18484084657589195,-0.1497696750744817,-0.1874364765521831,0.2756954937758339,-0.2295318383125786,-0.1415819884872242,-0.18768273407045502,-0.15802483123425284,-0.18865840461100145,-0.23033137110654645,-0.18886777831438745,-0.23048075716304212,-0.09372009666318494,0.29921708625928994,-0.14146681329622587,-0.0971669456577481,-0.18604506258751144,-0.1414256021773424,-0.18853242085672525,-0.174736269915075,-0.13523618050062958,-0.11051363527219056,-0.11585559392140382,-0.21711526510188087,-0.2283168921038588,0.2992114984372323,-0.18884958237822744,0.2993417141516888,-0.15368562087858548,0.48221362506994403,-0.1467733286912768,-0.18881799165446592,-0.22324082470430615,-0.11052597136571883,-0.1869583074454454,-0.15340507304217865,-0.1444148722981847,-0.15984553008320423,-0.19202507080948292,-0.18838199896294638,-0.1079173408122745,-0.18820467086674098,-0.14663180999818456,-0.14065315321793836,-0.014345769557640789,-0.1712312456654771,0.33519734995944106,-0.2295401610147852,-0.18852281271681223,-0.18828698349369102,-0.2299333970686536,-0.2305086949514459,0.2996050241723025,-0.17434672931014744,3.2080099283595644,-0.11094720557723194,-0.22141384649486462,-0.14124424510746658,-0.11470663128100413,1.5513382253059174,-0.1886202769462467,-0.18807390627616674,-0.18777600957119453,-0.18776299146330827,0.2997880009347811,0.10102220422623795,-0.1850692754965099,-0.17795209559206174,-0.11037261348584969,-0.1403456233474276,-0.18695652358413173,-0.22606971180458366,-0.1777980675953242,-0.13360715503083576,-0.17789791330301652,-0.10728796447822715,1.134087979659767,0.29919431511245453,-0.05876622044989383,-0.225811818925303,-0.13578421421459924,-0.10532244325544113,1.08306626975769,-0.23048279281779616,-0.17794967800911526,-0.17101356141943455,-0.18787409432839364,-0.23040848355425728,-0.14122372483047893,-0.22081017408624828,-0.2314190122872851,8.009231825945497,-0.17596620786742992,0.30305440436532727,0.003443578553500489,-0.13985090976020695,-0.15398523260074676,-0.18844563876006892,0.1174767623113783,-0.22457111030036736,-0.08681406476682982,0.3070888948987527,-0.18868177029465646,-0.15820884089181772,-0.10936752256862253,-0.1725277656135879,-0.22958077451312112,0.29937613623562354,-0.19208436488132172,-0.15353142427416552,-0.14740033545683548,-0.1748203432198534,0.30329041079162555,0.5482598754683156,2.1012456281301515,-0.15433286053969886,0.31293036183841105,-0.18514599457493838,-0.1402246364896545,-0.23046501974322564,-0.18870625370927097,-0.13566279044784776,-0.17442922428232097,0.0476946505916851,3.0614179386027356,-0.1012236891762842,-0.2304364875455114,-0.1845757642657453,-0.005511253047484855,-0.17422026994903608,-0.14124428252648974,0.3788444045240127,-0.1329502097096293,-0.13334089423913031,-0.20553457994373867,-0.1788359866925391,-0.1876026378138147,-0.10843970918358627,-0.11020606068028967,-0.18098578252066902,-0.14052314508180205,-0.116385471457469,-0.13939525136488612,0.5047291296511967,-0.10339759166446261,-0.08398297807245628,-0.17232188219682354,-0.14103517235897478,0.5242983213845193,-0.20903333158524573,-0.18878283289221517,-0.18674609563197944,-0.11775163803079074,-0.09981372720944294,-0.1352692138382971,0.3208699012918442,-0.11049315535394734],\"y\":[-1.33139705520065,-2.0849699747938955,-1.0952954441861,-2.266946935071609,-2.085071646214418,-2.127427199278377,-1.84755687720427,-1.095288709669291,-0.930564459193171,-1.0953072717967176,-1.842294844124442,-1.285632966951634,-1.3314056845615976,-1.0953495452779334,-1.095327190836067,-0.462657484369886,-1.1746945169071958,-1.095290339460766,-1.0952880887908234,-1.0952852686613568,-0.930566099344674,-1.8434188023485563,-1.3337745010266613,-1.0966098202226813,-1.0952822332677585,-1.0953357638051695,-1.0952882907103934,-1.0952858478642922,-1.6426911982758174,-1.0956068294833579,-1.095287377907268,-1.09529876209158,-1.1014436115891408,-1.3313957027187968,-1.095347563247444,-1.0952824151140286,-1.095280963798012,-1.0952852688458534,-2.3556342660349476,-1.0952832415194227,-1.1017044181917606,-1.3313984199153328,-1.0953046635545436,-1.0952907045568985,-1.095394337153025,-1.0952952006159011,-1.3315935597359243,-1.3313989961646429,-1.3314053230387395,-1.331432995210193,-1.3313943508770023,-0.930558797453819,-1.0952822664464785,-1.2779499485701042,-1.0953611817203257,-1.3313998555134283,-2.3642756455515337,-2.3535631479557857,-1.0953037085463568,-1.0959360458058693,-1.0953044287674771,-1.0952819918409387,-1.0952949532146978,-1.095437502577435,-2.278668800469476,-1.841997654082718,-1.564550595821673,-1.0952781011664332,-1.0982659835682755,-2.2342158075345324,-1.095280809052147,-1.3313993924254446,-1.1408859437952958,-0.9305618908484558,-2.218056767113148,-1.3314146547181722,-0.9305629386500911,-1.0953710563704877,-1.095372353338956,-2.0850199237719735,-2.1273411988745985,-0.9305604584559425,-1.3313957420130909,-1.0952950474550278,-2.170126798088345,-1.095292537127427,-1.3328163276347227,-0.9305816594003457,-2.2695125503685323,-1.0953639479370614,-2.1897634107437214,-1.0952878707271045,-0.9305658666117225,-1.095280808846099,-0.9305711172054826,-1.7276375303454456,-2.3515616620749236,-1.3313964685725146,-1.8421926477441668,-1.0953299332526552,-1.3313956913802745,-1.0952908824394265,-2.197414154615071,-2.085017814060839,-2.127427956107411,-1.1001538975835436,-0.9304547382346332,-0.9306460893274429,-2.3515700422175443,-1.0952817300411015,-2.351568441325955,-2.2180341873781972,-0.9799005286259547,-2.2670413066005324,-1.0952811000922498,-0.9310420265943192,-2.1274254137876683,-1.0952876341532167,-2.218032510477831,-2.160456383469408,-1.097236188055884,-0.5974678779607712,-1.0952897024868065,-1.3320699760624672,-1.0953106097610346,-2.266976814397434,-2.234744259167158,-2.141609239837626,-2.2694315201856137,-2.351777547838061,-0.9305938555511561,-1.0952825669241406,-1.0953157348000486,-0.9305779178749797,-0.9305675609003423,-2.3515807618756845,-2.261677445301894,-1.1246828395490078,-1.2692794615386567,-0.9310522099612302,-1.3313970259392718,-1.1004855023674582,-1.0341159082526692,-1.0952865306229251,-1.0953149413906471,-1.095316374597805,-1.0953159170397326,-2.3516002871590795,-2.135600818766854,-0.9302955612721248,-1.642625491522216,-2.1274229994994878,-2.269563064089681,-1.095287571454386,-0.9306578709939889,-1.6426334693536373,-2.0851493745184086,-1.6426271582208405,-1.8421466320830255,-2.385448346129213,-2.351564322372586,-2.0897503318470543,-0.9307976019472562,-2.2672610184263564,-1.0960637972077336,-1.2275170818262422,-0.9305673200758539,-1.6426209426897038,-1.642733518137159,-1.0952930389043969,-0.930567088992665,-1.331395684219829,-1.1579583897792747,-0.1601097817598256,-2.8245406608310017,-2.167201554635433,-2.35166932510047,-1.0959607921139654,-2.2695037850941464,-1.2782001205018325,-1.0952952720044313,-1.0982073711379612,-0.9307167949164487,-2.0881322341564252,-2.352021522044835,-1.0952894359565,-2.2086745677964155,-2.1274241276025854,-2.1975438023979543,-0.9305952830269593,-2.3515623212191286,-0.597449687166971,-2.2180408796443762,-2.2553612788730835,-2.197409000262983,-2.351857440204148,-2.23519149868092,-2.4251085520528877,-2.175589700442712,-2.351816207234456,-1.2789058591864841,-2.153844095910928,-0.9305675881630331,-1.09529111878491,-2.267815118854637,-2.2470171415360984,-0.918492076663796,-2.2839892507448325,-1.3315371181704905,-0.9305695612250715,-1.2789437906936965,-2.129375950443296,-2.1974425912794624,-1.3313970272544693,-2.354766827035303,-2.2566325612224354,-2.2565868557443394,-0.20255987257703978,-2.131704782755468,-1.0953251604915188,-2.1275349556808845,-2.1274245004848877,-1.5645973607373718,-1.331403671842477,-0.3509118594024285,-1.3314414024096228,-1.14388604000077,-1.642960882600111,-2.2600410994810645,-1.095442774720965,-1.3314053009977127,-1.1074129499785963,-1.174694768930732,-1.0952810844601766,-1.0953411814544907,-1.8420254659272348,-2.275797998599411,-2.0850176972600107,-2.3518349060221047,-2.1274272362829953],\"z\":[0.11883342046412614,0.22015840429737207,-5.5348751309177875e-05,0.25963599145206184,0.22014507760967153,0.2715705043389889,0.22242133959659238,-3.387788237943191e-05,0.03714255033935851,-3.826546269749186e-05,0.22652133577188235,-0.02113645095312248,0.11877736034491854,-8.519459799135436e-05,-3.8719704482373316e-05,0.03807819694869533,0.0417639134217478,-4.407300028382578e-05,-3.433433736116751e-05,-3.311117939493005e-05,0.03714459493071941,0.22124333961080545,0.11178276087173376,-0.004715662678740631,-3.863917770003235e-05,-0.0001162091458323047,-3.879924281156653e-05,-3.1886755568157396e-05,0.1539035611543396,-0.0003869939627456219,-5.5407347589840855e-05,-4.797980464953824e-05,-0.03349737776291175,0.11883242615185775,-9.311915541067176e-05,-3.808609305129692e-05,-3.1331337412585084e-05,-4.521480151623992e-05,0.2524013736895059,-3.3284583337509605e-05,-0.0015993296873890196,0.11883442376968435,-0.0001546779857153995,-3.2411288780545916e-05,-5.226468402465823e-05,-4.177164176358537e-05,0.11861426988537725,0.11882393810878164,0.11883069147256765,0.11883509835659503,0.11884013476937652,0.03714677587667959,-3.9453576751405495e-05,0.1469667430567545,-8.310718026027788e-05,0.11882541369200886,0.2474149021334791,0.31271021190592824,-5.8130627166519606e-05,-0.0002537491992057693,-8.329583025267365e-05,-3.1111532480662774e-05,-8.758376928587852e-05,-0.000335077216963606,0.29490032076125217,0.22714164002131423,0.13616839864257899,-3.42836154957568e-05,-0.002030206355961597,0.33021237923296454,-3.11387251360143e-05,0.1188351387358303,-0.005087473499847296,0.0371352100106915,0.299370913608171,0.11883261980726828,0.037141013076871725,-5.2704987776946916e-05,-6.842665769652421e-05,0.22018803512100368,0.20715892071569977,0.037141286675653765,0.11883245504008143,-0.0001084842673390236,0.3202343232457994,-5.748595123394288e-05,0.11081567564621692,0.037128354199743537,0.2727635087062222,-4.036300026301017e-05,0.31183320588847174,-3.407525695963479e-05,0.037141488061646244,-3.113760584844591e-05,0.037145348172446156,0.32908465275219384,0.3154285297157812,0.11883771326150029,0.22678171994093063,-7.864310805250741e-05,0.11883676346854213,-3.605507443765866e-05,0.19351969787363835,0.22018258409241862,0.27157106074157017,-0.0006422571805359928,0.036860576217695444,0.037115328569177694,0.3154300772440786,-3.134018942264078e-05,0.31542722272441504,0.29937771123266066,0.03148207250645466,0.2596277829495118,-3.20741223609104e-05,0.03708263874346492,0.27157086927147744,-6.780083047696576e-05,0.2993718650633642,0.21865609261370844,-0.00027091360236032277,0.010633067203834664,-3.923777896038495e-05,0.11828845401152441,-3.9166636269455604e-05,0.25961392147620505,0.2238144539326281,0.217505729828351,0.394459473598394,0.31475264646392853,0.037130610187754355,-3.7671178975765326e-05,-3.66570171891602e-05,0.037135669014908286,0.037145291975384465,0.3154241180243974,0.3432880441435807,-0.0622943353178486,0.03234984906171196,0.037048185748388834,0.11883339895186502,-0.0006081670969920557,-0.0449978493120391,-3.506046946174635e-05,-4.101487341392287e-05,-4.667154384343165e-05,-4.700792958128204e-05,0.31542384029817644,0.26878105282618664,0.036198338813088315,0.1539848483708827,0.2715674167621171,0.272747672693192,-6.784692515590466e-05,0.03707282390195335,0.15398316436024026,0.22017286390365215,0.153984060588797,0.22697436396667012,0.30469677413857044,0.31542943701385345,0.21947885207337736,0.03709167162760306,0.2594477198375031,-0.001552222904799333,0.0015274486673790306,0.03714473747092444,0.15398402055190236,0.15386589282036928,-4.872914430587585e-05,0.037143225518095214,0.11883276232781138,0.08511497106838044,0.03177403730020702,0.2437599317001767,0.25818565310810043,0.31537095802003495,-0.003724927912309391,0.2727277069925876,0.1467245575145016,-3.7021927617078416e-05,-0.005599147381833348,0.03705323401487204,0.21975715008884034,0.31535140608421214,-3.334393341525194e-05,0.1752816935800518,0.27154769573083876,0.19349816819769264,0.03713165963378187,0.3154254913795596,0.010631123137428228,0.29937580346529347,0.3243638239744869,0.19352047992973126,0.31539853507714927,0.3206060990356493,0.29233384086836284,0.31317136705801607,0.31520046355215653,0.1345511667003702,0.170705009240331,0.03714443128744791,-3.257030073325034e-05,0.2595403170344727,0.321682221470124,-0.03231227297091843,0.2791780360881902,0.11806446789963025,0.037144204252908104,0.1345463719255929,0.2698245800824571,0.1935143496621738,0.11883339991876633,0.31440036754293865,0.33998608769735383,0.339985992144756,0.08314634220388055,0.30197449316275254,-4.860027768984145e-05,0.2715483144034354,0.2715643741054844,0.1361608395261786,0.11882025084884883,-0.05668751204825651,0.11880437231322843,-0.005440187927927337,0.15256516103886641,0.3396002808916769,-0.0003312012632886311,0.11883067526853235,-0.012081400717277629,0.04175529139527608,-3.277342351273617e-05,-6.282457815265896e-05,0.22716091231565919,0.21815557116898907,0.22018321857507703,0.3150463588411086,0.2715705315438967],\"type\":\"scatter3d\"},{\"customdata\":[[\"Proof-of-BibleHash\"],[\"ECC 256K1\"]],\"hovertemplate\":\"<b>%{hovertext}</b><br><br>Class=%{marker.color}<br>PC 1=%{x}<br>PC 2=%{y}<br>PC 3=%{z}<br>Algorithm=%{customdata[0]}<extra></extra>\",\"hovertext\":[\"BiblePay\",\"Acute Angle Cloud\"],\"legendgroup\":\"1\",\"marker\":{\"color\":[1,1],\"coloraxis\":\"coloraxis\",\"symbol\":\"square\"},\"mode\":\"markers\",\"name\":\"1\",\"scene\":\"scene\",\"showlegend\":true,\"x\":[-0.06586259753032604,-0.4646336938500736],\"y\":[2.713268553856192,3.4153776821062],\"z\":[20.02545601694508,22.556008295189645],\"type\":\"scatter3d\"},{\"customdata\":[[\"TRC10\"]],\"hovertemplate\":\"<b>%{hovertext}</b><br><br>Class=%{marker.color}<br>PC 1=%{x}<br>PC 2=%{y}<br>PC 3=%{z}<br>Algorithm=%{customdata[0]}<extra></extra>\",\"hovertext\":[\"BitTorrent\"],\"legendgroup\":\"2\",\"marker\":{\"color\":[2],\"coloraxis\":\"coloraxis\",\"symbol\":\"x\"},\"mode\":\"markers\",\"name\":\"2\",\"scene\":\"scene\",\"showlegend\":true,\"x\":[34.00025764935006],\"y\":[1.71107945920697],\"z\":[-0.9806361948807374],\"type\":\"scatter3d\"}],                        {\"template\":{\"data\":{\"bar\":[{\"error_x\":{\"color\":\"#2a3f5f\"},\"error_y\":{\"color\":\"#2a3f5f\"},\"marker\":{\"line\":{\"color\":\"#E5ECF6\",\"width\":0.5},\"pattern\":{\"fillmode\":\"overlay\",\"size\":10,\"solidity\":0.2}},\"type\":\"bar\"}],\"barpolar\":[{\"marker\":{\"line\":{\"color\":\"#E5ECF6\",\"width\":0.5},\"pattern\":{\"fillmode\":\"overlay\",\"size\":10,\"solidity\":0.2}},\"type\":\"barpolar\"}],\"carpet\":[{\"aaxis\":{\"endlinecolor\":\"#2a3f5f\",\"gridcolor\":\"white\",\"linecolor\":\"white\",\"minorgridcolor\":\"white\",\"startlinecolor\":\"#2a3f5f\"},\"baxis\":{\"endlinecolor\":\"#2a3f5f\",\"gridcolor\":\"white\",\"linecolor\":\"white\",\"minorgridcolor\":\"white\",\"startlinecolor\":\"#2a3f5f\"},\"type\":\"carpet\"}],\"choropleth\":[{\"colorbar\":{\"outlinewidth\":0,\"ticks\":\"\"},\"type\":\"choropleth\"}],\"contour\":[{\"colorbar\":{\"outlinewidth\":0,\"ticks\":\"\"},\"colorscale\":[[0.0,\"#0d0887\"],[0.1111111111111111,\"#46039f\"],[0.2222222222222222,\"#7201a8\"],[0.3333333333333333,\"#9c179e\"],[0.4444444444444444,\"#bd3786\"],[0.5555555555555556,\"#d8576b\"],[0.6666666666666666,\"#ed7953\"],[0.7777777777777778,\"#fb9f3a\"],[0.8888888888888888,\"#fdca26\"],[1.0,\"#f0f921\"]],\"type\":\"contour\"}],\"contourcarpet\":[{\"colorbar\":{\"outlinewidth\":0,\"ticks\":\"\"},\"type\":\"contourcarpet\"}],\"heatmap\":[{\"colorbar\":{\"outlinewidth\":0,\"ticks\":\"\"},\"colorscale\":[[0.0,\"#0d0887\"],[0.1111111111111111,\"#46039f\"],[0.2222222222222222,\"#7201a8\"],[0.3333333333333333,\"#9c179e\"],[0.4444444444444444,\"#bd3786\"],[0.5555555555555556,\"#d8576b\"],[0.6666666666666666,\"#ed7953\"],[0.7777777777777778,\"#fb9f3a\"],[0.8888888888888888,\"#fdca26\"],[1.0,\"#f0f921\"]],\"type\":\"heatmap\"}],\"heatmapgl\":[{\"colorbar\":{\"outlinewidth\":0,\"ticks\":\"\"},\"colorscale\":[[0.0,\"#0d0887\"],[0.1111111111111111,\"#46039f\"],[0.2222222222222222,\"#7201a8\"],[0.3333333333333333,\"#9c179e\"],[0.4444444444444444,\"#bd3786\"],[0.5555555555555556,\"#d8576b\"],[0.6666666666666666,\"#ed7953\"],[0.7777777777777778,\"#fb9f3a\"],[0.8888888888888888,\"#fdca26\"],[1.0,\"#f0f921\"]],\"type\":\"heatmapgl\"}],\"histogram\":[{\"marker\":{\"pattern\":{\"fillmode\":\"overlay\",\"size\":10,\"solidity\":0.2}},\"type\":\"histogram\"}],\"histogram2d\":[{\"colorbar\":{\"outlinewidth\":0,\"ticks\":\"\"},\"colorscale\":[[0.0,\"#0d0887\"],[0.1111111111111111,\"#46039f\"],[0.2222222222222222,\"#7201a8\"],[0.3333333333333333,\"#9c179e\"],[0.4444444444444444,\"#bd3786\"],[0.5555555555555556,\"#d8576b\"],[0.6666666666666666,\"#ed7953\"],[0.7777777777777778,\"#fb9f3a\"],[0.8888888888888888,\"#fdca26\"],[1.0,\"#f0f921\"]],\"type\":\"histogram2d\"}],\"histogram2dcontour\":[{\"colorbar\":{\"outlinewidth\":0,\"ticks\":\"\"},\"colorscale\":[[0.0,\"#0d0887\"],[0.1111111111111111,\"#46039f\"],[0.2222222222222222,\"#7201a8\"],[0.3333333333333333,\"#9c179e\"],[0.4444444444444444,\"#bd3786\"],[0.5555555555555556,\"#d8576b\"],[0.6666666666666666,\"#ed7953\"],[0.7777777777777778,\"#fb9f3a\"],[0.8888888888888888,\"#fdca26\"],[1.0,\"#f0f921\"]],\"type\":\"histogram2dcontour\"}],\"mesh3d\":[{\"colorbar\":{\"outlinewidth\":0,\"ticks\":\"\"},\"type\":\"mesh3d\"}],\"parcoords\":[{\"line\":{\"colorbar\":{\"outlinewidth\":0,\"ticks\":\"\"}},\"type\":\"parcoords\"}],\"pie\":[{\"automargin\":true,\"type\":\"pie\"}],\"scatter\":[{\"marker\":{\"colorbar\":{\"outlinewidth\":0,\"ticks\":\"\"}},\"type\":\"scatter\"}],\"scatter3d\":[{\"line\":{\"colorbar\":{\"outlinewidth\":0,\"ticks\":\"\"}},\"marker\":{\"colorbar\":{\"outlinewidth\":0,\"ticks\":\"\"}},\"type\":\"scatter3d\"}],\"scattercarpet\":[{\"marker\":{\"colorbar\":{\"outlinewidth\":0,\"ticks\":\"\"}},\"type\":\"scattercarpet\"}],\"scattergeo\":[{\"marker\":{\"colorbar\":{\"outlinewidth\":0,\"ticks\":\"\"}},\"type\":\"scattergeo\"}],\"scattergl\":[{\"marker\":{\"colorbar\":{\"outlinewidth\":0,\"ticks\":\"\"}},\"type\":\"scattergl\"}],\"scattermapbox\":[{\"marker\":{\"colorbar\":{\"outlinewidth\":0,\"ticks\":\"\"}},\"type\":\"scattermapbox\"}],\"scatterpolar\":[{\"marker\":{\"colorbar\":{\"outlinewidth\":0,\"ticks\":\"\"}},\"type\":\"scatterpolar\"}],\"scatterpolargl\":[{\"marker\":{\"colorbar\":{\"outlinewidth\":0,\"ticks\":\"\"}},\"type\":\"scatterpolargl\"}],\"scatterternary\":[{\"marker\":{\"colorbar\":{\"outlinewidth\":0,\"ticks\":\"\"}},\"type\":\"scatterternary\"}],\"surface\":[{\"colorbar\":{\"outlinewidth\":0,\"ticks\":\"\"},\"colorscale\":[[0.0,\"#0d0887\"],[0.1111111111111111,\"#46039f\"],[0.2222222222222222,\"#7201a8\"],[0.3333333333333333,\"#9c179e\"],[0.4444444444444444,\"#bd3786\"],[0.5555555555555556,\"#d8576b\"],[0.6666666666666666,\"#ed7953\"],[0.7777777777777778,\"#fb9f3a\"],[0.8888888888888888,\"#fdca26\"],[1.0,\"#f0f921\"]],\"type\":\"surface\"}],\"table\":[{\"cells\":{\"fill\":{\"color\":\"#EBF0F8\"},\"line\":{\"color\":\"white\"}},\"header\":{\"fill\":{\"color\":\"#C8D4E3\"},\"line\":{\"color\":\"white\"}},\"type\":\"table\"}]},\"layout\":{\"annotationdefaults\":{\"arrowcolor\":\"#2a3f5f\",\"arrowhead\":0,\"arrowwidth\":1},\"autotypenumbers\":\"strict\",\"coloraxis\":{\"colorbar\":{\"outlinewidth\":0,\"ticks\":\"\"}},\"colorscale\":{\"diverging\":[[0,\"#8e0152\"],[0.1,\"#c51b7d\"],[0.2,\"#de77ae\"],[0.3,\"#f1b6da\"],[0.4,\"#fde0ef\"],[0.5,\"#f7f7f7\"],[0.6,\"#e6f5d0\"],[0.7,\"#b8e186\"],[0.8,\"#7fbc41\"],[0.9,\"#4d9221\"],[1,\"#276419\"]],\"sequential\":[[0.0,\"#0d0887\"],[0.1111111111111111,\"#46039f\"],[0.2222222222222222,\"#7201a8\"],[0.3333333333333333,\"#9c179e\"],[0.4444444444444444,\"#bd3786\"],[0.5555555555555556,\"#d8576b\"],[0.6666666666666666,\"#ed7953\"],[0.7777777777777778,\"#fb9f3a\"],[0.8888888888888888,\"#fdca26\"],[1.0,\"#f0f921\"]],\"sequentialminus\":[[0.0,\"#0d0887\"],[0.1111111111111111,\"#46039f\"],[0.2222222222222222,\"#7201a8\"],[0.3333333333333333,\"#9c179e\"],[0.4444444444444444,\"#bd3786\"],[0.5555555555555556,\"#d8576b\"],[0.6666666666666666,\"#ed7953\"],[0.7777777777777778,\"#fb9f3a\"],[0.8888888888888888,\"#fdca26\"],[1.0,\"#f0f921\"]]},\"colorway\":[\"#636efa\",\"#EF553B\",\"#00cc96\",\"#ab63fa\",\"#FFA15A\",\"#19d3f3\",\"#FF6692\",\"#B6E880\",\"#FF97FF\",\"#FECB52\"],\"font\":{\"color\":\"#2a3f5f\"},\"geo\":{\"bgcolor\":\"white\",\"lakecolor\":\"white\",\"landcolor\":\"#E5ECF6\",\"showlakes\":true,\"showland\":true,\"subunitcolor\":\"white\"},\"hoverlabel\":{\"align\":\"left\"},\"hovermode\":\"closest\",\"mapbox\":{\"style\":\"light\"},\"paper_bgcolor\":\"white\",\"plot_bgcolor\":\"#E5ECF6\",\"polar\":{\"angularaxis\":{\"gridcolor\":\"white\",\"linecolor\":\"white\",\"ticks\":\"\"},\"bgcolor\":\"#E5ECF6\",\"radialaxis\":{\"gridcolor\":\"white\",\"linecolor\":\"white\",\"ticks\":\"\"}},\"scene\":{\"xaxis\":{\"backgroundcolor\":\"#E5ECF6\",\"gridcolor\":\"white\",\"gridwidth\":2,\"linecolor\":\"white\",\"showbackground\":true,\"ticks\":\"\",\"zerolinecolor\":\"white\"},\"yaxis\":{\"backgroundcolor\":\"#E5ECF6\",\"gridcolor\":\"white\",\"gridwidth\":2,\"linecolor\":\"white\",\"showbackground\":true,\"ticks\":\"\",\"zerolinecolor\":\"white\"},\"zaxis\":{\"backgroundcolor\":\"#E5ECF6\",\"gridcolor\":\"white\",\"gridwidth\":2,\"linecolor\":\"white\",\"showbackground\":true,\"ticks\":\"\",\"zerolinecolor\":\"white\"}},\"shapedefaults\":{\"line\":{\"color\":\"#2a3f5f\"}},\"ternary\":{\"aaxis\":{\"gridcolor\":\"white\",\"linecolor\":\"white\",\"ticks\":\"\"},\"baxis\":{\"gridcolor\":\"white\",\"linecolor\":\"white\",\"ticks\":\"\"},\"bgcolor\":\"#E5ECF6\",\"caxis\":{\"gridcolor\":\"white\",\"linecolor\":\"white\",\"ticks\":\"\"}},\"title\":{\"x\":0.05},\"xaxis\":{\"automargin\":true,\"gridcolor\":\"white\",\"linecolor\":\"white\",\"ticks\":\"\",\"title\":{\"standoff\":15},\"zerolinecolor\":\"white\",\"zerolinewidth\":2},\"yaxis\":{\"automargin\":true,\"gridcolor\":\"white\",\"linecolor\":\"white\",\"ticks\":\"\",\"title\":{\"standoff\":15},\"zerolinecolor\":\"white\",\"zerolinewidth\":2}}},\"scene\":{\"domain\":{\"x\":[0.0,1.0],\"y\":[0.0,1.0]},\"xaxis\":{\"title\":{\"text\":\"PC 1\"}},\"yaxis\":{\"title\":{\"text\":\"PC 2\"}},\"zaxis\":{\"title\":{\"text\":\"PC 3\"}}},\"coloraxis\":{\"colorbar\":{\"title\":{\"text\":\"Class\"}},\"colorscale\":[[0.0,\"#0d0887\"],[0.1111111111111111,\"#46039f\"],[0.2222222222222222,\"#7201a8\"],[0.3333333333333333,\"#9c179e\"],[0.4444444444444444,\"#bd3786\"],[0.5555555555555556,\"#d8576b\"],[0.6666666666666666,\"#ed7953\"],[0.7777777777777778,\"#fb9f3a\"],[0.8888888888888888,\"#fdca26\"],[1.0,\"#f0f921\"]]},\"legend\":{\"title\":{\"text\":\"Class\"},\"tracegroupgap\":0,\"x\":0,\"y\":1},\"margin\":{\"t\":60},\"width\":800},                        {\"responsive\": true}                    ).then(function(){\n",
       "                            \n",
       "var gd = document.getElementById('408341ae-1cd6-443d-b1a7-c24fb568c08e');\n",
       "var x = new MutationObserver(function (mutations, observer) {{\n",
       "        var display = window.getComputedStyle(gd).display;\n",
       "        if (!display || display === 'none') {{\n",
       "            console.log([gd, 'removed!']);\n",
       "            Plotly.purge(gd);\n",
       "            observer.disconnect();\n",
       "        }}\n",
       "}});\n",
       "\n",
       "// Listen for the removal of the full notebook cells\n",
       "var notebookContainer = gd.closest('#notebook-container');\n",
       "if (notebookContainer) {{\n",
       "    x.observe(notebookContainer, {childList: true});\n",
       "}}\n",
       "\n",
       "// Listen for the clearing of the current output cell\n",
       "var outputEl = gd.closest('.output');\n",
       "if (outputEl) {{\n",
       "    x.observe(outputEl, {childList: true});\n",
       "}}\n",
       "\n",
       "                        })                };                });            </script>        </div>"
      ]
     },
     "metadata": {},
     "output_type": "display_data"
    }
   ],
   "source": [
    "# Creating a 3D-Scatter with the PCA data and the clusters\n",
    "fig = px.scatter_3d(\n",
    "    clustered_df,\n",
    "    x=\"PC 1\",\n",
    "    y=\"PC 2\",\n",
    "    z=\"PC 3\",\n",
    "    hover_name = \"CoinName\", \n",
    "    hover_data = [\"Algorithm\"], \n",
    "    color=\"Class\",\n",
    "    symbol=\"Class\",\n",
    "    width=800,\n",
    ")\n",
    "fig.update_layout(legend=dict(x=0, y=1))\n",
    "\n",
    "fig.show()"
   ]
  },
  {
   "cell_type": "code",
   "execution_count": 40,
   "id": "3b118d3a",
   "metadata": {},
   "outputs": [
    {
     "data": {},
     "metadata": {},
     "output_type": "display_data"
    },
    {
     "data": {
      "application/vnd.holoviews_exec.v0+json": "",
      "text/html": [
       "<div id='1120'>\n",
       "\n",
       "\n",
       "\n",
       "\n",
       "\n",
       "  <div class=\"bk-root\" id=\"7a53dde7-b1e3-4912-8c05-bd5a6bd5f883\" data-root-id=\"1120\"></div>\n",
       "</div>\n",
       "<script type=\"application/javascript\">(function(root) {\n",
       "  function embed_document(root) {\n",
       "    var docs_json = {\"65cb9b1e-05f5-40bc-baec-509d0483fe80\":{\"defs\":[{\"extends\":null,\"module\":null,\"name\":\"ReactiveHTML1\",\"overrides\":[],\"properties\":[]},{\"extends\":null,\"module\":null,\"name\":\"FlexBox1\",\"overrides\":[],\"properties\":[{\"default\":\"flex-start\",\"kind\":null,\"name\":\"align_content\"},{\"default\":\"flex-start\",\"kind\":null,\"name\":\"align_items\"},{\"default\":\"row\",\"kind\":null,\"name\":\"flex_direction\"},{\"default\":\"wrap\",\"kind\":null,\"name\":\"flex_wrap\"},{\"default\":\"flex-start\",\"kind\":null,\"name\":\"justify_content\"}]},{\"extends\":null,\"module\":null,\"name\":\"TemplateActions1\",\"overrides\":[],\"properties\":[{\"default\":0,\"kind\":null,\"name\":\"open_modal\"},{\"default\":0,\"kind\":null,\"name\":\"close_modal\"}]},{\"extends\":null,\"module\":null,\"name\":\"MaterialTemplateActions1\",\"overrides\":[],\"properties\":[{\"default\":0,\"kind\":null,\"name\":\"open_modal\"},{\"default\":0,\"kind\":null,\"name\":\"close_modal\"}]}],\"roots\":{\"references\":[{\"attributes\":{},\"id\":\"1155\",\"type\":\"NumberEditor\"},{\"attributes\":{\"editor\":{\"id\":\"1140\"},\"field\":\"TotalCoinSupply\",\"formatter\":{\"id\":\"1139\"},\"title\":\"TotalCoinSupply\"},\"id\":\"1141\",\"type\":\"TableColumn\"},{\"attributes\":{\"margin\":[5,5,5,5],\"name\":\"HSpacer01803\",\"sizing_mode\":\"stretch_width\"},\"id\":\"1121\",\"type\":\"Spacer\"},{\"attributes\":{\"children\":[{\"id\":\"1121\"},{\"id\":\"1169\"},{\"id\":\"1176\"}],\"margin\":[0,0,0,0],\"name\":\"Row01799\",\"tags\":[\"embedded\"]},\"id\":\"1120\",\"type\":\"Row\"},{\"attributes\":{\"editor\":{\"id\":\"1135\"},\"field\":\"TotalCoinsMined\",\"formatter\":{\"id\":\"1134\"},\"title\":\"TotalCoinsMined\"},\"id\":\"1136\",\"type\":\"TableColumn\"},{\"attributes\":{},\"id\":\"1140\",\"type\":\"StringEditor\"},{\"attributes\":{},\"id\":\"1135\",\"type\":\"NumberEditor\"},{\"attributes\":{},\"id\":\"1165\",\"type\":\"IntEditor\"},{\"attributes\":{\"editor\":{\"id\":\"1160\"},\"field\":\"CoinName\",\"formatter\":{\"id\":\"1159\"},\"title\":\"CoinName\"},\"id\":\"1161\",\"type\":\"TableColumn\"},{\"attributes\":{},\"id\":\"1139\",\"type\":\"StringFormatter\"},{\"attributes\":{},\"id\":\"1164\",\"type\":\"NumberFormatter\"},{\"attributes\":{\"source\":{\"id\":\"1122\"}},\"id\":\"1171\",\"type\":\"CDSView\"},{\"attributes\":{},\"id\":\"1130\",\"type\":\"StringEditor\"},{\"attributes\":{\"editor\":{\"id\":\"1145\"},\"field\":\"PC_1\",\"formatter\":{\"id\":\"1144\"},\"title\":\"PC 1\"},\"id\":\"1146\",\"type\":\"TableColumn\"},{\"attributes\":{},\"id\":\"1124\",\"type\":\"StringFormatter\"},{\"attributes\":{\"format\":\"0,0.0[00000]\"},\"id\":\"1144\",\"type\":\"NumberFormatter\"},{\"attributes\":{\"editor\":{\"id\":\"1165\"},\"field\":\"Class\",\"formatter\":{\"id\":\"1164\"},\"title\":\"Class\"},\"id\":\"1166\",\"type\":\"TableColumn\"},{\"attributes\":{},\"id\":\"1160\",\"type\":\"StringEditor\"},{\"attributes\":{\"format\":\"0,0.0[00000]\"},\"id\":\"1149\",\"type\":\"NumberFormatter\"},{\"attributes\":{\"editor\":{\"id\":\"1125\"},\"field\":\"Algorithm\",\"formatter\":{\"id\":\"1124\"},\"title\":\"Algorithm\"},\"id\":\"1126\",\"type\":\"TableColumn\"},{\"attributes\":{},\"id\":\"1145\",\"type\":\"NumberEditor\"},{\"attributes\":{\"data\":{\"Algorithm\":[\"Scrypt\",\"Scrypt\",\"X13\",\"SHA-256\",\"Ethash\",\"Scrypt\",\"X11\",\"CryptoNight-V7\",\"Ethash\",\"Equihash\",\"SHA-512\",\"Multiple\",\"SHA-256\",\"SHA-256\",\"Scrypt\",\"X15\",\"X11\",\"Scrypt\",\"Scrypt\",\"Scrypt\",\"Multiple\",\"Scrypt\",\"SHA-256\",\"Scrypt\",\"Scrypt\",\"Scrypt\",\"Quark\",\"Groestl\",\"Scrypt\",\"Scrypt\",\"Scrypt\",\"Scrypt\",\"Scrypt\",\"X11\",\"Scrypt\",\"Groestl\",\"Multiple\",\"SHA-256\",\"Scrypt\",\"Scrypt\",\"Scrypt\",\"Scrypt\",\"PoS\",\"Scrypt\",\"Scrypt\",\"NeoScrypt\",\"Scrypt\",\"Scrypt\",\"Scrypt\",\"Scrypt\",\"X11\",\"Scrypt\",\"X11\",\"SHA-256\",\"Scrypt\",\"Scrypt\",\"Scrypt\",\"SHA3\",\"Scrypt\",\"HybridScryptHash256\",\"Scrypt\",\"Scrypt\",\"SHA-256\",\"Scrypt\",\"X13\",\"Scrypt\",\"SHA-256\",\"Scrypt\",\"X13\",\"NeoScrypt\",\"Scrypt\",\"Scrypt\",\"Scrypt\",\"Scrypt\",\"Scrypt\",\"Scrypt\",\"X11\",\"X11\",\"SHA-256\",\"Multiple\",\"SHA-256\",\"PHI1612\",\"X11\",\"SHA-256\",\"SHA-256\",\"SHA-256\",\"X11\",\"Scrypt\",\"Scrypt\",\"Scrypt\",\"Scrypt\",\"Lyra2REv2\",\"Scrypt\",\"X11\",\"Multiple\",\"SHA-256\",\"X13\",\"Scrypt\",\"CryptoNight\",\"CryptoNight\",\"Shabal256\",\"Counterparty\",\"Scrypt\",\"SHA-256\",\"Groestl\",\"Scrypt\",\"Scrypt\",\"Scrypt\",\"X13\",\"Scrypt\",\"Scrypt\",\"Scrypt\",\"Scrypt\",\"X13\",\"Scrypt\",\"Stanford Folding\",\"X11\",\"Multiple\",\"QuBit\",\"Scrypt\",\"Scrypt\",\"Scrypt\",\"M7 POW\",\"Scrypt\",\"SHA-256\",\"Scrypt\",\"X11\",\"SHA3\",\"X11\",\"Lyra2RE\",\"SHA-256\",\"QUAIT\",\"X11\",\"X11\",\"Scrypt\",\"Scrypt\",\"Scrypt\",\"Ethash\",\"X13\",\"Blake2b\",\"SHA-256\",\"X15\",\"X11\",\"SHA-256\",\"BLAKE256\",\"Scrypt\",\"1GB AES Pattern Search\",\"SHA-256\",\"X11\",\"Scrypt\",\"SHA-256\",\"SHA-256\",\"NIST5\",\"Scrypt\",\"Scrypt\",\"X11\",\"Dagger\",\"Scrypt\",\"X11GOST\",\"X11\",\"Scrypt\",\"SHA-256\",\"Scrypt\",\"PoS\",\"Scrypt\",\"X11\",\"X11\",\"SHA-256\",\"SHA-256\",\"NIST5\",\"X11\",\"Scrypt\",\"POS 3.0\",\"Scrypt\",\"Scrypt\",\"Scrypt\",\"X13\",\"X11\",\"X11\",\"Equihash\",\"X11\",\"Scrypt\",\"CryptoNight\",\"SHA-256\",\"SHA-256\",\"X11\",\"Scrypt\",\"Multiple\",\"Scrypt\",\"Scrypt\",\"Scrypt\",\"SHA-256\",\"Scrypt\",\"Scrypt\",\"SHA-256D\",\"PoS\",\"Scrypt\",\"X11\",\"Lyra2Z\",\"PoS\",\"X13\",\"X14\",\"PoS\",\"SHA-256D\",\"Ethash\",\"Equihash\",\"DPoS\",\"X11\",\"Scrypt\",\"X11\",\"X13\",\"X11\",\"PoS\",\"Scrypt\",\"Scrypt\",\"X11\",\"PoS\",\"X11\",\"SHA-256\",\"Scrypt\",\"X11\",\"Scrypt\",\"Scrypt\",\"X11\",\"CryptoNight\",\"Scrypt\",\"Scrypt\",\"Scrypt\",\"Scrypt\",\"Quark\",\"QuBit\",\"Scrypt\",\"CryptoNight\",\"Lyra2RE\",\"Scrypt\",\"SHA-256\",\"X11\",\"Scrypt\",\"X11\",\"Scrypt\",\"CryptoNight-V7\",\"Scrypt\",\"Scrypt\",\"Scrypt\",\"X13\",\"X11\",\"Equihash\",\"Scrypt\",\"Scrypt\",\"Lyra2RE\",\"Scrypt\",\"Dagger-Hashimoto\",\"X11\",\"Blake2S\",\"X11\",\"Scrypt\",\"PoS\",\"X11\",\"NIST5\",\"PoS\",\"X11\",\"Scrypt\",\"Scrypt\",\"Scrypt\",\"SHA-256\",\"X11\",\"Scrypt\",\"Scrypt\",\"SHA-256\",\"PoS\",\"Scrypt\",\"X15\",\"SHA-256\",\"Scrypt\",\"POS 3.0\",\"CryptoNight-V7\",\"536\",\"Argon2d\",\"Blake2b\",\"Cloverhash\",\"CryptoNight\",\"NIST5\",\"X11\",\"NIST5\",\"Skein\",\"Scrypt\",\"X13\",\"Scrypt\",\"X11\",\"X11\",\"Scrypt\",\"CryptoNight\",\"X13\",\"Time Travel\",\"Scrypt\",\"Keccak\",\"SkunkHash v2 Raptor\",\"X11\",\"Skein\",\"SHA-256\",\"X11\",\"Scrypt\",\"VeChainThor Authority\",\"Scrypt\",\"PoS\",\"Scrypt\",\"Scrypt\",\"Scrypt\",\"Scrypt\",\"Scrypt\",\"Scrypt\",\"Scrypt\",\"CryptoNight\",\"SHA-512\",\"Ouroboros\",\"X11\",\"Equihash\",\"NeoScrypt\",\"X11\",\"Scrypt\",\"NeoScrypt\",\"Lyra2REv2\",\"Equihash\",\"Scrypt\",\"SHA-256\",\"NIST5\",\"PHI1612\",\"Dagger\",\"Scrypt\",\"Quark\",\"Scrypt\",\"POS 2.0\",\"Scrypt\",\"SHA-256\",\"X11\",\"NeoScrypt\",\"Ethash\",\"NeoScrypt\",\"X11\",\"DPoS\",\"NIST5\",\"X13\",\"Multiple\",\"Scrypt\",\"CryptoNight\",\"CryptoNight\",\"Ethash\",\"NIST5\",\"Quark\",\"X11\",\"CryptoNight-V7\",\"Scrypt\",\"Scrypt\",\"Scrypt\",\"X11\",\"BLAKE256\",\"X11\",\"NeoScrypt\",\"Quark\",\"NeoScrypt\",\"Scrypt\",\"Scrypt\",\"Scrypt\",\"X11\",\"X11\",\"SHA-256\",\"C11\",\"POS 3.0\",\"Ethash\",\"Scrypt\",\"CryptoNight\",\"SkunkHash\",\"Scrypt\",\"CryptoNight\",\"Scrypt\",\"Dagger\",\"Lyra2REv2\",\"X13\",\"Proof-of-BibleHash\",\"SHA-256 + Hive\",\"Scrypt\",\"Scrypt\",\"X11\",\"C11\",\"Proof-of-Authority\",\"X11\",\"XEVAN\",\"Scrypt\",\"VBFT\",\"Ethash\",\"CryptoNight\",\"Scrypt\",\"IMesh\",\"NIST5\",\"Scrypt\",\"Scrypt\",\"Equihash\",\"Scrypt\",\"Lyra2Z\",\"Green Protocol\",\"PoS\",\"Scrypt\",\"Semux BFT consensus\",\"X11\",\"Quark\",\"PoS\",\"CryptoNight\",\"X16R\",\"Scrypt\",\"NIST5\",\"Lyra2RE\",\"XEVAN\",\"Tribus\",\"Scrypt\",\"Lyra2Z\",\"CryptoNight\",\"CryptoNight Heavy\",\"CryptoNight\",\"Scrypt\",\"Scrypt\",\"Jump Consistent Hash\",\"SHA-256D\",\"CryptoNight\",\"Scrypt\",\"X15\",\"Scrypt\",\"Quark\",\"SHA-256\",\"DPoS\",\"X16R\",\"HMQ1725\",\"X11\",\"X16R\",\"Quark\",\"Quark\",\"Scrypt\",\"Lyra2REv2\",\"Quark\",\"Scrypt\",\"Scrypt\",\"CryptoNight-V7\",\"Cryptonight-GPU\",\"XEVAN\",\"CryptoNight Heavy\",\"X11\",\"X11\",\"Scrypt\",\"PoS\",\"SHA-256\",\"Keccak\",\"X11\",\"X11\",\"Scrypt\",\"SHA-512\",\"X16R\",\"ECC 256K1\",\"Equihash\",\"XEVAN\",\"Lyra2Z\",\"SHA-256\",\"XEVAN\",\"X11\",\"CryptoNight\",\"Quark\",\"Blake\",\"Blake\",\"Equihash\",\"Exosis\",\"Scrypt\",\"Scrypt\",\"Equihash\",\"Quark\",\"Equihash\",\"Quark\",\"Scrypt\",\"QuBit\",\"X11\",\"Scrypt\",\"XEVAN\",\"SHA-256D\",\"X11\",\"SHA-256\",\"X13\",\"SHA-256\",\"X11\",\"DPoS\",\"Scrypt\",\"Scrypt\",\"X11\",\"NeoScrypt\",\"Scrypt\",\"Blake\",\"Scrypt\",\"SHA-256\",\"Scrypt\",\"X11\",\"Scrypt\",\"Scrypt\",\"SHA-256\",\"X11\",\"SHA-256\",\"Scrypt\",\"Scrypt\",\"Scrypt\",\"Groestl\",\"X11\",\"Scrypt\",\"PoS\",\"Scrypt\",\"Scrypt\",\"X11\",\"SHA-256\",\"DPoS\",\"Scrypt\",\"Scrypt\",\"NeoScrypt\",\"Multiple\",\"X13\",\"Equihash+Scrypt\",\"DPoS\",\"Ethash\",\"DPoS\",\"SHA-256\",\"Leased POS\",\"PoS\",\"TRC10\",\"PoS\",\"SHA-256\",\"Scrypt\",\"CryptoNight\",\"Equihash\",\"Scrypt\"],\"Class\":{\"__ndarray__\":\"AAAAAAAAAAAAAAAAAwAAAAMAAAADAAAAAAAAAAMAAAADAAAAAwAAAAAAAAADAAAAAAAAAAAAAAADAAAAAAAAAAMAAAADAAAAAAAAAAAAAAADAAAAAwAAAAMAAAADAAAAAwAAAAAAAAADAAAAAwAAAAMAAAAAAAAAAwAAAAAAAAADAAAAAwAAAAAAAAAAAAAAAwAAAAMAAAADAAAAAwAAAAMAAAADAAAAAAAAAAAAAAADAAAAAwAAAAMAAAADAAAAAwAAAAAAAAAAAAAAAwAAAAAAAAADAAAAAwAAAAMAAAADAAAAAAAAAAMAAAADAAAAAAAAAAMAAAAAAAAAAAAAAAAAAAADAAAAAwAAAAMAAAAAAAAAAAAAAAAAAAAAAAAAAAAAAAMAAAADAAAAAwAAAAAAAAAAAAAAAwAAAAAAAAADAAAAAAAAAAAAAAADAAAAAwAAAAMAAAADAAAAAAAAAAAAAAADAAAAAAAAAAMAAAADAAAAAAAAAAAAAAADAAAAAAAAAAAAAAADAAAAAwAAAAAAAAAAAAAAAwAAAAAAAAAAAAAAAwAAAAAAAAADAAAAAAAAAAMAAAAAAAAAAwAAAAAAAAAAAAAAAwAAAAMAAAAAAAAAAwAAAAMAAAADAAAAAAAAAAMAAAADAAAAAwAAAAMAAAADAAAAAAAAAAAAAAADAAAAAwAAAAMAAAAAAAAAAwAAAAAAAAADAAAAAwAAAAAAAAADAAAAAAAAAAMAAAAAAAAAAAAAAAMAAAADAAAAAAAAAAMAAAADAAAAAAAAAAAAAAADAAAAAAAAAAMAAAAAAAAAAAAAAAAAAAADAAAAAwAAAAMAAAADAAAAAAAAAAAAAAAAAAAAAAAAAAAAAAADAAAAAwAAAAAAAAAAAAAAAAAAAAAAAAAAAAAAAwAAAAAAAAAAAAAAAAAAAAAAAAAAAAAAAwAAAAAAAAADAAAAAAAAAAAAAAADAAAAAAAAAAMAAAAAAAAAAAAAAAMAAAAAAAAAAwAAAAAAAAADAAAAAAAAAAMAAAAAAAAAAAAAAAAAAAAAAAAAAwAAAAAAAAAAAAAAAAAAAAAAAAAAAAAAAwAAAAMAAAAAAAAAAAAAAAMAAAADAAAAAAAAAAAAAAAAAAAAAAAAAAAAAAADAAAAAAAAAAAAAAAAAAAAAAAAAAAAAAAAAAAAAAAAAAAAAAADAAAAAAAAAAAAAAAAAAAAAAAAAAAAAAAAAAAAAwAAAAMAAAADAAAAAAAAAAAAAAAAAAAAAAAAAAMAAAAAAAAAAwAAAAAAAAAAAAAAAwAAAAAAAAADAAAAAwAAAAAAAAADAAAAAwAAAAAAAAADAAAAAAAAAAAAAAAAAAAAAwAAAAAAAAAAAAAAAwAAAAAAAAAAAAAAAAAAAAAAAAAAAAAAAAAAAAAAAAADAAAAAAAAAAMAAAAAAAAAAAAAAAAAAAAAAAAAAwAAAAAAAAADAAAAAAAAAAMAAAADAAAAAwAAAAMAAAAAAAAAAwAAAAAAAAAAAAAAAwAAAAAAAAADAAAAAwAAAAMAAAAAAAAAAwAAAAAAAAADAAAAAwAAAAMAAAAAAAAAAwAAAAAAAAADAAAAAAAAAAAAAAAAAAAAAwAAAAAAAAADAAAAAwAAAAMAAAADAAAAAwAAAAAAAAAAAAAAAwAAAAAAAAAAAAAAAAAAAAMAAAAAAAAAAwAAAAAAAAADAAAAAAAAAAMAAAAAAAAAAAAAAAAAAAAAAAAAAwAAAAAAAAAAAAAAAwAAAAAAAAAAAAAAAAAAAAMAAAADAAAAAwAAAAMAAAAAAAAAAAAAAAAAAAAAAAAAAwAAAAAAAAADAAAAAwAAAAMAAAAAAAAAAAAAAAMAAAADAAAAAAAAAAAAAAADAAAAAAAAAAMAAAADAAAAAwAAAAAAAAADAAAAAwAAAAAAAAAAAAAAAAAAAAMAAAADAAAAAwAAAAAAAAADAAAAAAAAAAMAAAADAAAAAAAAAAMAAAADAAAAAwAAAAMAAAAAAAAAAQAAAAAAAAADAAAAAwAAAAMAAAAAAAAAAAAAAAAAAAAAAAAAAAAAAAAAAAADAAAAAwAAAAMAAAADAAAAAAAAAAAAAAAAAAAAAwAAAAAAAAADAAAAAAAAAAAAAAAAAAAAAAAAAAMAAAAAAAAAAAAAAAMAAAAAAAAAAAAAAAMAAAADAAAAAAAAAAMAAAAAAAAAAwAAAAMAAAADAAAAAwAAAAAAAAAAAAAAAwAAAAAAAAADAAAAAAAAAAAAAAAAAAAAAAAAAAAAAAAAAAAAAwAAAAMAAAADAAAAAAAAAAAAAAAAAAAAAAAAAAAAAAAAAAAAAwAAAAAAAAADAAAAAwAAAAMAAAADAAAAAAAAAAAAAAAAAAAAAAAAAAMAAAAAAAAAAAAAAAMAAAAAAAAAAAAAAAMAAAABAAAAAwAAAAAAAAADAAAAAwAAAAAAAAAAAAAAAwAAAAAAAAADAAAAAwAAAAMAAAADAAAAAwAAAAAAAAADAAAAAAAAAAMAAAAAAAAAAAAAAAMAAAAAAAAAAAAAAAAAAAAAAAAAAAAAAAMAAAADAAAAAwAAAAAAAAAAAAAAAAAAAAMAAAAAAAAAAwAAAAAAAAADAAAAAAAAAAAAAAAAAAAAAAAAAAMAAAAAAAAAAAAAAAAAAAADAAAAAAAAAAMAAAAAAAAAAwAAAAAAAAAAAAAAAAAAAAMAAAADAAAAAAAAAAAAAAAAAAAAAAAAAAAAAAAAAAAAAwAAAAAAAAADAAAAAAAAAAMAAAAAAAAAAAAAAAAAAAAAAAAAAgAAAAAAAAAAAAAAAAAAAAMAAAADAAAAAAAAAA==\",\"dtype\":\"int32\",\"order\":\"little\",\"shape\":[532]},\"CoinName\":[\"42 Coin\",\"404Coin\",\"EliteCoin\",\"Bitcoin\",\"Ethereum\",\"Litecoin\",\"Dash\",\"Monero\",\"Ethereum Classic\",\"ZCash\",\"Bitshares\",\"DigiByte\",\"BitcoinDark\",\"PayCoin\",\"ProsperCoin\",\"KoboCoin\",\"Spreadcoin\",\"Argentum\",\"Aurora Coin\",\"BlueCoin\",\"MyriadCoin\",\"MoonCoin\",\"ZetaCoin\",\"SexCoin\",\"Quatloo\",\"EnergyCoin\",\"QuarkCoin\",\"Riecoin\",\"Digitalcoin \",\"BitBar\",\"Catcoin\",\"CryptoBullion\",\"CannaCoin\",\"CryptCoin\",\"CasinoCoin\",\"Diamond\",\"Verge\",\"DevCoin\",\"EarthCoin\",\"E-Gulden\",\"Einsteinium\",\"Emerald\",\"Exclusive Coin\",\"FlutterCoin\",\"Franko\",\"FeatherCoin\",\"GrandCoin\",\"GlobalCoin\",\"GoldCoin\",\"HoboNickels\",\"HyperStake\",\"Infinite Coin\",\"IOCoin\",\"IXcoin\",\"KrugerCoin\",\"LuckyCoin\",\"Litebar \",\"MaxCoin\",\"MegaCoin\",\"MediterraneanCoin\",\"MintCoin\",\"MinCoin\",\"MazaCoin\",\"Nautilus Coin\",\"NavCoin\",\"NobleCoin\",\"Namecoin\",\"NyanCoin\",\"OpalCoin\",\"Orbitcoin\",\"PotCoin\",\"PhoenixCoin\",\"Reddcoin\",\"RonPaulCoin\",\"StableCoin\",\"SmartCoin\",\"SuperCoin\",\"SyncCoin\",\"SysCoin\",\"TeslaCoin\",\"TigerCoin\",\"TittieCoin\",\"TorCoin\",\"TerraCoin\",\"UnbreakableCoin\",\"Unobtanium\",\"UroCoin\",\"UnitaryStatus Dollar\",\"UltraCoin\",\"ViaCoin\",\"VeriCoin\",\"Vertcoin\",\"WorldCoin\",\"X11 Coin\",\"Crypti\",\"JouleCoin\",\"StealthCoin\",\"ZCC Coin\",\"ByteCoin\",\"DigitalNote \",\"BurstCoin\",\"StorjCoin\",\"MonaCoin\",\"Neutron\",\"FairCoin\",\"Gulden\",\"RubyCoin\",\"PesetaCoin\",\"Kore\",\"Wild Beast Coin\",\"Dnotes\",\"Flo\",\"8BIT Coin\",\"Sativa Coin\",\"ArtByte\",\"Folding Coin\",\"Ucoin\",\"Unitus\",\"CypherPunkCoin\",\"OmniCron\",\"Vtorrent\",\"GreenCoin\",\"Cryptonite\",\"MasterCoin\",\"SoonCoin\",\"1Credit\",\"IslaCoin\",\"Nexus\",\"MarsCoin \",\"Crypto\",\"Anarchists Prime\",\"Droidz\",\"BowsCoin\",\"Squall Coin\",\"Song Coin\",\"BitZeny\",\"Diggits\",\"Expanse\",\"Paycon\",\"Siacoin\",\"Emercoin\",\"EverGreenCoin\",\"MindCoin\",\"I0coin\",\"Decred\",\"Revolution VR\",\"HOdlcoin\",\"EDRCoin\",\"Hitcoin\",\"Gamecredits\",\"DubaiCoin\",\"CarpeDiemCoin\",\"PWR Coin\",\"BillaryCoin\",\"GPU Coin\",\"Adzcoin\",\"SoilCoin\",\"YoCoin\",\"SibCoin\",\"EuropeCoin\",\"ZeitCoin\",\"SwingCoin\",\"SafeExchangeCoin\",\"Nebuchadnezzar\",\"Francs\",\"BolivarCoin\",\"Ratecoin\",\"Revenu\",\"Clockcoin\",\"VIP Tokens\",\"BitSend\",\"Omni\",\"Let it Ride\",\"PutinCoin\",\"iBankCoin\",\"Frankywillcoin\",\"MudraCoin\",\"PizzaCoin\",\"Lutetium Coin\",\"Komodo\",\"GoldBlocks\",\"CarterCoin\",\"Karbo\",\"BitTokens\",\"ZayedCoin\",\"MustangCoin\",\"ZoneCoin\",\"Circuits of Value\",\"RootCoin\",\"DopeCoin\",\"BitCurrency\",\"DollarCoin\",\"Swiscoin\",\"Shilling\",\"BuzzCoin\",\"Opair\",\"PesoBit\",\"Halloween Coin\",\"ZCoin\",\"CoffeeCoin\",\"RoyalCoin\",\"GanjaCoin V2\",\"TeamUP\",\"LanaCoin\",\"Elementrem\",\"ZClassic\",\"ARK\",\"InsaneCoin\",\"KiloCoin\",\"ArtexCoin\",\"EmberCoin\",\"XenixCoin\",\"FreeCoin\",\"PLNCoin\",\"AquariusCoin\",\"Kurrent\",\"Creatio\",\"Eternity\",\"Eurocoin\",\"BitcoinFast\",\"Stakenet\",\"BitConnect Coin\",\"MoneyCoin\",\"Enigma\",\"Cannabis Industry Coin\",\"Russiacoin\",\"PandaCoin\",\"GameUnits\",\"GAKHcoin\",\"Allsafe\",\"LiteCreed\",\"OsmiumCoin\",\"Bikercoins\",\"HexxCoin\",\"Klingon Empire Darsek\",\"Internet of People\",\"KushCoin\",\"Printerium\",\"PacCoin\",\"Impeach\",\"Citadel\",\"Zilbercoin\",\"FirstCoin\",\"BeaverCoin\",\"FindCoin\",\"VaultCoin\",\"Zero\",\"OpenChat\",\"Canada eCoin\",\"Zoin\",\"RenosCoin\",\"DubaiCoin\",\"VirtacoinPlus\",\"TajCoin\",\"Impact\",\"EB3coin\",\"Atmos\",\"HappyCoin\",\"Coinonat\",\"MacronCoin\",\"Condensate\",\"Independent Money System\",\"ArgusCoin\",\"LomoCoin\",\"ProCurrency\",\"GoldReserve\",\"BenjiRolls\",\"GrowthCoin\",\"ILCoin\",\"Phreak\",\"Degas Coin\",\"HTML5 Coin\",\"Ultimate Secure Cash\",\"EquiTrader\",\"QTUM\",\"Quantum Resistant Ledger\",\"Espers\",\"Dynamic\",\"Nano\",\"ChanCoin\",\"Dinastycoin\",\"Denarius\",\"DigitalPrice\",\"Virta Unique Coin\",\"Bitcoin Planet\",\"Unify\",\"BritCoin\",\"SocialCoin\",\"ArcticCoin\",\"DAS\",\"Linda\",\"LeviarCoin\",\"DeepOnion\",\"Bitcore\",\"gCn Coin\",\"SmartCash\",\"Signatum\",\"Onix\",\"Cream\",\"Bitcoin Cash\",\"Monoeci\",\"Draftcoin\",\"Vechain\",\"Sojourn Coin\",\"Stakecoin\",\"NewYorkCoin\",\"FrazCoin\",\"Kronecoin\",\"AdCoin\",\"Linx\",\"CoinonatX\",\"Ethereum Dark\",\"Sumokoin\",\"Obsidian\",\"Cardano\",\"Regalcoin\",\"BitcoinZ\",\"TrezarCoin\",\"Elements\",\"TerraNovaCoin\",\"VIVO Coin\",\"Rupee\",\"Bitcoin Gold\",\"WomenCoin\",\"Theresa May Coin\",\"NamoCoin\",\"LUXCoin\",\"Pirl\",\"Xios\",\"Bitcloud 2.0\",\"eBoost\",\"KekCoin\",\"BlackholeCoin\",\"Infinity Economics\",\"Pura\",\"Innova\",\"Ellaism\",\"GoByte\",\"Magnet\",\"Lamden Tau\",\"Electra\",\"Bitcoin Diamond\",\"SHIELD\",\"Cash & Back Coin\",\"UltraNote\",\"BitCoal\",\"DaxxCoin\",\"Bulwark\",\"Kalkulus\",\"AC3\",\"Lethean\",\"GermanCoin\",\"LiteCoin Ultra\",\"PopularCoin\",\"PhantomX\",\"Photon\",\"Sucre\",\"SparksPay\",\"Digiwage\",\"GunCoin\",\"IrishCoin\",\"Trollcoin\",\"Litecoin Plus\",\"Monkey Project\",\"Pioneer Coin\",\"UnitedBitcoin\",\"Interzone\",\"TokenPay\",\"1717 Masonic Commemorative Token\",\"My Big Coin\",\"TurtleCoin\",\"MUNcoin\",\"Unified Society USDEX\",\"Niobio Cash\",\"ShareChain\",\"Travelflex\",\"KREDS\",\"Tokyo Coin\",\"BiblePay\",\"LitecoinCash\",\"BitFlip\",\"LottoCoin\",\"Crypto Improvement Fund\",\"Stipend\",\"Poa Network\",\"Pushi\",\"Ellerium\",\"Velox\",\"Ontology\",\"Callisto Network\",\"BitTube\",\"Poseidon\",\"Aidos Kuneen\",\"Bitspace\",\"Briacoin\",\"Ignition\",\"Bitrolium\",\"MedicCoin\",\"Alpenschillling\",\"Bitcoin Green\",\"Deviant Coin\",\"Abjcoin\",\"Semux\",\"FuturoCoin\",\"Carebit\",\"Zealium\",\"Monero Classic\",\"Proton\",\"iDealCash\",\"Jumpcoin\",\"Infinex\",\"Bitcoin Incognito\",\"KEYCO\",\"HollyWoodCoin\",\"GINcoin\",\"PlatinCoin\",\"Loki\",\"Newton Coin\",\"Swisscoin\",\"Xt3ch\",\"MassGrid\",\"TheVig\",\"PluraCoin\",\"EmaratCoin\",\"Dekado\",\"Lynx\",\"Poseidon Quark\",\"BitcoinWSpectrum\",\"Muse\",\"Motion\",\"PlusOneCoin\",\"Axe\",\"Trivechain\",\"Dystem\",\"Giant\",\"Peony Coin\",\"Absolute Coin\",\"Vitae\",\"HexCoin\",\"TPCash\",\"Webchain\",\"Ryo\",\"Urals Coin\",\"Qwertycoin\",\"ARENON\",\"EUNO\",\"MMOCoin\",\"Ketan\",\"Project Pai\",\"XDNA\",\"PAXEX\",\"Azart\",\"ThunderStake\",\"Kcash\",\"Xchange\",\"Acute Angle Cloud\",\"CrypticCoin\",\"Bettex coin\",\"Actinium\",\"Bitcoin SV\",\"BitMoney\",\"Junson Ming Chan Coin\",\"FREDEnergy\",\"HerbCoin\",\"Universal Molecule\",\"Lithium\",\"PirateCash\",\"Exosis\",\"Block-Logic\",\"Oduwa\",\"Beam\",\"Galilel\",\"Bithereum\",\"Crypto Sports\",\"Credit\",\"SLICE\",\"Dash Platinum\",\"Nasdacoin\",\"Beetle Coin\",\"Titan Coin\",\"Award\",\"BLAST\",\"Bitcoin Rhodium\",\"GlobalToken\",\"Insane Coin\",\"ALAX\",\"LiteDoge\",\"SolarCoin\",\"TruckCoin\",\"UFO Coin\",\"OrangeCoin\",\"BlakeCoin\",\"BitstarCoin\",\"NeosCoin\",\"HyperCoin\",\"PinkCoin\",\"Crypto Escudo\",\"AudioCoin\",\"IncaKoin\",\"Piggy Coin\",\"Crown Coin\",\"Genstake\",\"SmileyCoin\",\"XiaoMiCoin\",\"Groestlcoin\",\"CapriCoin\",\" ClubCoin\",\"Radium\",\"Bata\",\"Pakcoin\",\"Creditbit \",\"OKCash\",\"Lisk\",\"HiCoin\",\"WhiteCoin\",\"FriendshipCoin\",\"JoinCoin\",\"Triangles Coin\",\"Vollar\",\"EOS\",\"Reality Clash\",\"Oxycoin\",\"TigerCash\",\"Waves\",\"Particl\",\"BitTorrent\",\"Nxt\",\"ZEPHYR\",\"Gapcoin\",\"Beldex\",\"Horizen\",\"BitcoinPlus\"],\"PC_1\":{\"__ndarray__\":\"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\",\"dtype\":\"float64\",\"order\":\"little\",\"shape\":[532]},\"PC_2\":{\"__ndarray__\":\"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\",\"dtype\":\"float64\",\"order\":\"little\",\"shape\":[532]},\"PC_3\":{\"__ndarray__\":\"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\",\"dtype\":\"float64\",\"order\":\"little\",\"shape\":[532]},\"ProofType\":[\"PoW/PoS\",\"PoW/PoS\",\"PoW/PoS\",\"PoW\",\"PoW\",\"PoW\",\"PoW/PoS\",\"PoW\",\"PoW\",\"PoW\",\"PoS\",\"PoW\",\"PoW/PoS\",\"PoS\",\"PoW\",\"PoW/PoS\",\"PoW\",\"PoW\",\"PoW/PoS\",\"PoW/PoS\",\"PoW\",\"PoW\",\"PoW\",\"PoW\",\"PoW\",\"PoW/PoS\",\"PoW\",\"PoW\",\"PoW\",\"PoW/PoS\",\"PoW\",\"PoW/PoS\",\"PoW\",\"PoW\",\"PoC\",\"PoW/PoS\",\"PoW\",\"PoW\",\"PoW\",\"PoW\",\"PoW\",\"PoW\",\"PoS\",\"PoS/PoW/PoT\",\"PoW\",\"PoW\",\"PoW\",\"PoW\",\"PoW\",\"PoW/PoS\",\"PoS\",\"PoW\",\"PoW/PoS\",\"PoW\",\"PoW\",\"PoW\",\"PoW\",\"PoW/PoS\",\"PoW\",\"PoW\",\"PoS\",\"PoW\",\"PoW/PoS\",\"PoS\",\"PoW/PoS\",\"PoW\",\"PoW\",\"PoW\",\"PoW/PoS\",\"PoW/PoS\",\"PoW/PoS\",\"PoW/PoS\",\"PoW/PoS\",\"PoW\",\"PoW\",\"PoW\",\"PoS\",\"PoW/PoS\",\"PoW\",\"PoS\",\"PoW\",\"PoS\",\"PoW/PoS\",\"PoW\",\"PoW\",\"PoW\",\"PoW\",\"PoW/PoS\",\"PoW/PoS\",\"PoW\",\"PoST\",\"PoW\",\"PoW\",\"PoW/PoS\",\"PoS\",\"PoW\",\"PoW/PoS\",\"PoW/PoS\",\"PoW\",\"PoW\",\"PoC\",\"PoS\",\"PoW\",\"PoW/PoS\",\"PoW/PoS\",\"PoW\",\"PoS\",\"PoW\",\"PoW/PoS\",\"PoW\",\"PoS\",\"PoW\",\"PoW/PoS\",\"PoW/PoS\",\"PoW\",\"PoW\",\"PoS\",\"PoW\",\"PoW\",\"PoW\",\"PoW/PoS\",\"PoW\",\"PoW\",\"PoW\",\"PoW\",\"PoW\",\"PoW/PoS\",\"PoW/nPoS\",\"PoW\",\"PoW\",\"PoW\",\"PoW/PoS\",\"PoW\",\"PoS/PoW\",\"PoW\",\"PoW\",\"PoS\",\"PoW\",\"PoW/PoS\",\"PoW\",\"PoW/PoS\",\"PoW/PoS\",\"PoW\",\"PoW\",\"PoW/PoS\",\"PoW\",\"PoW\",\"PoW/PoS\",\"PoW/PoS\",\"PoW\",\"PoW/PoS\",\"PoW\",\"PoW/PoS\",\"PoW/PoS\",\"PoS\",\"PoW\",\"PoW\",\"PoW\",\"PoW\",\"PoW/PoS\",\"PoS\",\"PoW/PoS\",\"PoC\",\"PoS\",\"PoW\",\"PoW\",\"PoW/PoS\",\"PoW/PoS\",\"PoW/PoS\",\"PoW/PoS\",\"PoW/PoS\",\"PoW\",\"PoS\",\"PoW/PoS\",\"PoW/PoS\",\"PoW/PoS\",\"PoS\",\"PoW\",\"PoS\",\"dPoW/PoW\",\"PoW/PoS\",\"PoW/PoS\",\"PoW\",\"PoW/PoS\",\"PoW\",\"PoW/PoS\",\"PoW/PoS\",\"PoW\",\"PoW/PoS\",\"PoW\",\"PoS\",\"PoW\",\"PoW/PoW\",\"PoW\",\"PoW/PoS\",\"PoS\",\"PoW/PoS\",\"PoW/PoS\",\"PoW\",\"PoS\",\"PoS\",\"PoW/PoS\",\"PoS\",\"PoW/PoS\",\"PoW\",\"PoW\",\"DPoS\",\"PoW/PoS\",\"PoW\",\"PoW\",\"PoW/PoS\",\"PoW/PoS\",\"PoS\",\"PoW/PoS\",\"PoW/PoS\",\"PoW\",\"PoS\",\"PoW/PoS\",\"PoW/PoS\",\"PoW/PoS\",\"TPoS\",\"PoW/PoS\",\"PoW/PoS\",\"PoW/PoS\",\"PoW\",\"PoW/PoS\",\"PoS\",\"PoW/PoS\",\"PoW/PoS\",\"PoS\",\"PoW/PoS\",\"PoW\",\"PoW\",\"PoW\",\"PoW/PoS\",\"PoW/PoS\",\"PoW/PoS\",\"PoW/PoS\",\"PoW\",\"PoW/PoS\",\"PoW\",\"PoS\",\"PoW/PoS \",\"PoW\",\"PoS\",\"PoW\",\"PoW\",\"PoW/PoS\",\"PoW\",\"PoW\",\"PoS\",\"PoW\",\"PoW/PoS\",\"PoW/PoS\",\"PoW/PoS\",\"PoW\",\"PoS\",\"PoW/PoS\",\"PoW\",\"PoS\",\"PoW/PoS\",\"PoW/PoS\",\"PoW/PoS\",\"PoW/PoS\",\"PoS\",\"PoW/PoS\",\"PoW\",\"PoS\",\"PoW\",\"PoS\",\"PoW/PoS\",\"PoW/PoS\",\"PoS\",\"PoW\",\"PoS\",\"PoW\",\"PoW/PoS\",\"PoW\",\"PoW\",\"PoW\",\"PoW\",\"PoW/PoS\",\"PoW\",\"PoW/PoS\",\"PoW/PoS\",\"PoW\",\"PoW/PoS\",\"PoW\",\"PoW\",\"PoW\",\"PoW/PoS\",\"PoW\",\"PoW/PoS\",\"PoW\",\"PoW\",\"PoW\",\"PoS\",\"PoW\",\"PoW/PoS\",\"PoW\",\"PoW/PoS\",\"PoS\",\"Proof of Authority\",\"PoW\",\"PoS\",\"PoW\",\"PoW\",\"PoW\",\"PoW\",\"PoW\",\"PoW/PoS\",\"PoW/PoS\",\"PoW\",\"PoS\",\"PoS\",\"PoW/PoS\",\"PoW\",\"PoW/PoS\",\"PoW\",\"PoW/PoS\",\"PoW\",\"PoS\",\"PoW\",\"PoW/PoS\",\"PoW/PoS\",\"PoW/PoS\",\"PoW/PoS\",\"PoW\",\"PoW/PoS\",\"PoW/PoS\",\"PoW\",\"PoS\",\"PoW/PoS\",\"PoS\",\"PoW\",\"PoW\",\"PoW\",\"PoW\",\"PoW/PoS\",\"DPoS\",\"PoW/PoS\",\"PoW/PoS\",\"PoW\",\"PoW/PoS\",\"PoW\",\"PoW\",\"PoW\",\"PoS\",\"PoS\",\"PoW\",\"PoW\",\"PoW/PoS\",\"PoW/PoS\",\"PoW\",\"PoW/PoS\",\"PoW\",\"PoW\",\"PoW\",\"PoS\",\"PoW\",\"PoW\",\"PoW/PoS\",\"PoW/PoS\",\"PoS\",\"PoW\",\"PoW\",\"PoW\",\"PoS\",\"PoS\",\"PoW and PoS\",\"PoW\",\"PoW\",\"PoW/PoS\",\"PoW\",\"PoW\",\"PoW\",\"PoW\",\"PoS\",\"POBh\",\"PoW + Hive\",\"PoW\",\"PoW\",\"PoW\",\"PoW/PoS\",\"PoA\",\"PoW/PoS\",\"PoW/PoS\",\"PoS\",\"PoS\",\"PoW\",\"PoW\",\"PoW\",\"PoW\",\"PoW/PoS\",\"PoW/PoS\",\"PoW/PoS\",\"PoW\",\"PoS\",\"PoW\",\"PoS\",\"PoS\",\"PoW/PoS\",\"DPoS\",\"PoW\",\"PoW/PoS\",\"PoS\",\"PoW\",\"PoS\",\"PoW/PoS\",\"PoW\",\"PoW\",\"PoS/PoW\",\"PoW\",\"PoS\",\"PoW\",\"PoW\",\"PoW\",\"PoW\",\"PoW/PoS\",\"PoS\",\"PoW\",\"PoW/PoS\",\"PoW\",\"PoW/PoS\",\"PoS\",\"HPoW\",\"PoS\",\"PoS\",\"PoS\",\"PoW\",\"PoW\",\"PoW\",\"PoW/PoS\",\"PoS\",\"PoW/PoS\",\"PoS\",\"PoW/PoS\",\"PoS\",\"PoW\",\"PoW/PoS\",\"PoW\",\"PoW\",\"PoW\",\"PoW\",\"PoS\",\"PoW/PoS\",\"PoS\",\"PoS\",\"PoW\",\"PoW/PoS\",\"PoS\",\"PoW\",\"PoW/PoS\",\"Zero-Knowledge Proof\",\"PoW\",\"DPOS\",\"PoW\",\"PoS\",\"PoW\",\"PoW\",\"Pos\",\"PoS\",\"PoW\",\"PoW/PoS\",\"PoW\",\"PoW\",\"PoS\",\"PoW\",\"PoW\",\"PoW/PoS\",\"PoW\",\"PoW/PoS\",\"PoW\",\"PoS\",\"PoW/PoS\",\"PoW\",\"PoS\",\"PoW/PoS\",\"PoW/PoS\",\"PoW/PoS\",\"PoW/PoS\",\"PoW\",\"PoW\",\"PoW\",\"PoW/PoS\",\"DPoS\",\"PoW/PoS\",\"PoW\",\"PoW/PoS\",\"PoW\",\"PoW/PoS\",\"PoW\",\"PoW/PoS\",\"PoS\",\"PoW/PoS\",\"PoW/PoS\",\"PoW\",\"PoW/PoS\",\"PoW/PoS\",\"PoW/PoS\",\"PoW\",\"PoW/PoS\",\"PoW\",\"PoW/PoS\",\"PoW\",\"PoW/PoS\",\"PoW/PoS\",\"PoS\",\"PoW\",\"PoW\",\"Proof of Trust\",\"PoW/PoS\",\"DPoS\",\"PoS\",\"PoW/PoS\",\"PoW/PoS\",\"PoW\",\"PoW/PoS\",\"PoW\",\"DPoS\",\"PoW\",\"DPoS\",\"PoS\",\"LPoS\",\"PoS\",\"DPoS\",\"PoS/LPoS\",\"DPoS\",\"PoW/PoS\",\"PoW\",\"PoW\",\"PoS\"],\"TotalCoinSupply\":[\"42\",\"532000000\",\"314159265359\",\"21000000\",\"0\",\"84000000\",\"22000000\",\"0\",\"210000000\",\"21000000\",\"3600570502\",\"21000000000\",\"22000000\",\"12500000\",\"21000000\",\"350000000\",\"20000000\",\"64000000\",\"16768584\",\"0\",\"2000000000\",\"384000000000\",\"169795588\",\"250000000\",\"100000000\",\"0\",\"247000000\",\"84000000\",\"48166000\",\"500000\",\"21000000 \",\"1000000\",\"13140000\",\"18000000\",\"40000000000\",\"4380000\",\"16555000000\",\"21000000000\",\"13500000000\",\"21000000 \",\"299792458\",\"32000000\",\"0\",\"0\",\"11235813\",\"336000000\",\"1420609614\",\"70000000\",\"72245700\",\"120000000\",\"0\",\"90600000000\",\"22000000\",\"21000000\",\"265420800\",\"20000000\",\"1350000\",\"100000000\",\"42000000\",\"200000000\",\"0\",\"10000000\",\"2419200000\",\"16180000\",\"0\",\"15000000000\",\"21000000\",\"337000000\",\"0\",\"3770000\",\"420000000\",\"98000000\",\"0\",\"21000000\",\"250000000\",\"51200000\",\"0\",\"1000\",\"888000000\",\"100000000\",\"47011968\",\"2300000000\",\"10000000\",\"42000000\",\"80000000\",\"250000\",\"0\",\"1600000000\",\"100000000\",\"23000000\",\"0\",\"84000000\",\"265420800\",\"5500000\",\"0\",\"45000000\",\"0\",\"1000000000\",\"184467440735\",\"10000000000\",\"2158812800\",\"500000000\",\"105120000\",\"68000000\",\"0\",\"1680000000\",\"0\",\"166386000\",\"12000000\",\"2628000\",\"500000000\",\"160000000\",\"0\",\"10000000\",\"1000000000\",\"1000000000\",\"20000000\",\"0\",\"0\",\"3371337\",\"20000000\",\"10000000000\",\"1840000000\",\"619478\",\"21000000\",\"92000000000\",\"0\",\"78000000\",\"33000000\",\"65789100\",\"53760000\",\"5060000\",\"21000000\",\"0\",\"210240000\",\"250000000\",\"100000000\",\"16906397\",\"50000000\",\"0\",\"1000000000\",\"26298000\",\"16000000\",\"21000000\",\"21000000\",\"210000000\",\"81962100\",\"22000000\",\"26550000000\",\"84000000\",\"10500000\",\"21626280000 \",\"0\",\"42000000\",\"221052632\",\"84000000\",\"30000000\",\"168351300\",\"24000000\",\"384000000\",\" 99000000000\",\"40000000\",\"2147483647\",\"20000000\",\"20000000\",\"25000000\",\"75000000\",\"222725000\",\"525000000\",\"90000000\",\"139000000\",\"616448\",\"33500000\",\"2000000000\",\"44333333\",\"100000000\",\"200000000\",\"25000000\",\"657000000\",\"200000000\",\"50000000\",\"90000000\",\"10000000\",\"21000000\",\"9736000\",\"3000000\",\"21000000\",\"1200000000\",\"0\",\"200000000\",\"0\",\"10638298\",\"3100000000\",\"30000000\",\"20000000000\",\"74000000\",\"0\",\"1500000000\",\"21400000\",\"39999898\",\"2500124\",\"100000000\",\"301000000\",\"7506000000\",\"26205539\",\"21000000\",\"125000000\",\"30000000\",\"10000000000\",\"500000000\",\"850000000\",\"3853326.77707314\",\"50000000\",\"38540000 \",\"42000000\",\"228000000\",\"20000000\",\"60000000\",\"20000000\",\"33000000\",\"76500000\",\"28000000\",\"650659833\",\"5000000\",\"21000000\",\"144000000\",\"32514916898\",\"13000000\",\"3315789\",\"15000000\",\"78835200\",\"2714286\",\"25000000\",\"9999999\",\"500000000\",\"21000000\",\"9354000\",\"20000000\",\"100000000000\",\"21933333\",\"185000000\",\"55000000\",\"110000000\",\"3360000\",\"14524851.4827\",\"1000000000\",\"17000000\",\"1000000000\",\"100000000 \",\"21000000\",\"34426423\",\"2232901\",\"100000000\",\"36900000\",\"110000000\",\"4000000000\",\"110290030\",\"100000000\",\"48252000\",\"400000000\",\"500000000\",\"21212121\",\"28600000\",\"1000000000\",\"75000000000\",\"40000000\",\"35520400\",\"2000000000\",\"2500000000\",\"30000000\",\"105000000\",\"90000000000\",\"200084200\",\"72000000\",\"100000000\",\"105000000\",\"50000000000\",\"0\",\"340282367\",\"30000000\",\"2000000000\",\"10000000\",\"100000000\",\"120000000\",\"100000000\",\"19276800\",\"30000000\",\" 75000000\",\"60000000\",\"18900000\",\"50000000000\",\"54000000\",\"18898187.6216583\",\"21000000\",\"200000000000\",\"5000000000\",\"137500000\",\"1100000000\",\"100000000\",\"21000000\",\"9507271\",\"17405891.19707116\",\"86712634466\",\"10500000000\",\"61599965\",\"0\",\"20000000\",\"84000000\",\"100000000\",\"100000000\",\"48252000\",\"4200000\",\"88888888\",\"91388946\",\"45000000000\",\"27000000\",\"21000000000\",\"400000000\",\"1800000000\",\"15733333\",\"27000000\",\"24000000\",\"21000000\",\"25000000000\",\"100000000\",\"1200000000\",\"60000000\",\"156306732.71\",\"21000000\",\"200000000\",\"100000000\",\"21000000\",\"14788275.991\",\"9000000000\",\"350000000\",\"45000000\",\"280000000\",\"31800000\",\"144000000\",\"500000000\",\"30000000000\",\"210000000\",\"660000000\",\"210000000\",\"85000000000\",\"12500000\",\"10000000000\",\"27716121\",\"20000000\",\"550000000\",\"999481516\",\"50000000000\",\"150000000\",\"4999999999\",\"50000000\",\" 90000000000\",\"19800000\",\"21000000\",\"120000000\",\"500000000\",\"64000000\",\"900000000\",\"4000000\",\"21000000\",\"23000000\",\"20166000\",\"23000000\",\"25000000\",\"1618033\",\"30000000\",\"1000000000000\",\"16600000\",\"232000000\",\"336000000\",\"10000000000\",\"100000000\",\"1100000000\",\"800000000\",\"5200000000\",\"840000000\",\"40000000\",\"18406979840\",\"500000000\",\"19340594\",\"252460800\",\"25000000\",\"60000000\",\"124000000\",\"1000000000\",\"6500000000\",\"1000000000\",\"21000000\",\"25000000\",\"50000000\",\"3000000\",\"5000000\",\"70000000\",\"500000000\",\"300000000\",\"21000000\",\"88000000\",\"30000000\",\"100000000\",\"100000000\",\"200000000\",\"80000000\",\"18400000\",\"45000000\",\"5121951220\",\"21000000\",\"26280000\",\"21000000\",\"18000000\",\"26000000\",\"10500000\",\"600000518\",\"150000000\",\"184000000000\",\"10200000000\",\"44000000\",\"168000000\",\"100000000\",\"1000000000\",\"84000000\",\"90000000\",\"92000000000\",\"650000000 \",\"100262205\",\"18081806 \",\"22075700\",\"21000000\",\"21000000\",\"82546564\",\"21000000\",\"5151000\",\"16880000000\",\"52500000\",\"100000000\",\"22105263\",\"1000000000\",\"1750000000\",\"88188888\",\"210000000\",\"184470000000\",\"55000000\",\"50000000\",\"260000000\",\"210000000\",\"2100000000\",\"366000000\",\"100000000\",\"25000000\",\"18000000000\",\"1000000000\",\"100000000\",\"1000000000\",\"7600000000\",\"50000000\",\"84000000\",\"21000000\",\"70000000000\",\"0\",\"8080000000\",\"54000000\",\"105120001.44\",\"25228800\",\"105000000\",\"21000000\",\"120000000\",\"21000000\",\"262800000\",\"19035999\",\"30886000\",\"13370000\",\"74800000000\",\"100000000\",\"19700000\",\"84000000\",\"500000000\",\"5000000000\",\"420000000\",\"64000000\",\"2100000\",\"168000000\",\"30000000\",\"1000000000\",\"35000000000\",\"98100000000\",\"0\",\"4000000000\",\"200000000\",\"7000000000\",\"54256119\",\"21000000\",\"0\",\"500000000\",\"1000000000\",\"10500000000\",\"190000000\",\"1000000000\",\"42000000\",\"15000000\",\"50000000000\",\"400000000\",\"105000000\",\"208000000\",\"160000000\",\"9000000\",\"5000000\",\"182000000\",\"16504333\",\"105000000\",\"159918400\",\"10008835635\",\"300000000\",\"60168145\",\"2800000\",\"120000\",\"2100000000\",\"0\",\"24487944\",\"0\",\"1000000000\",\"100000000\",\"8634140\",\"990000000000\",\"1000000000\",\"2000000000\",\"250000000\",\"1400222610\",\"21000000\",\"1000000\"],\"TotalCoinsMined\":{\"__ndarray__\":\"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\",\"dtype\":\"float64\",\"order\":\"little\",\"shape\":[532]}},\"selected\":{\"id\":\"1123\"},\"selection_policy\":{\"id\":\"1172\"}},\"id\":\"1122\",\"type\":\"ColumnDataSource\"},{\"attributes\":{},\"id\":\"1129\",\"type\":\"StringFormatter\"},{\"attributes\":{},\"id\":\"1123\",\"type\":\"Selection\"},{\"attributes\":{\"format\":\"0,0.0[00000]\"},\"id\":\"1154\",\"type\":\"NumberFormatter\"},{\"attributes\":{\"margin\":[5,5,5,5],\"name\":\"HSpacer01804\",\"sizing_mode\":\"stretch_width\"},\"id\":\"1176\",\"type\":\"Spacer\"},{\"attributes\":{},\"id\":\"1172\",\"type\":\"UnionRenderers\"},{\"attributes\":{},\"id\":\"1125\",\"type\":\"StringEditor\"},{\"attributes\":{\"editor\":{\"id\":\"1150\"},\"field\":\"PC_2\",\"formatter\":{\"id\":\"1149\"},\"title\":\"PC 2\"},\"id\":\"1151\",\"type\":\"TableColumn\"},{\"attributes\":{},\"id\":\"1150\",\"type\":\"NumberEditor\"},{\"attributes\":{},\"id\":\"1159\",\"type\":\"StringFormatter\"},{\"attributes\":{\"editor\":{\"id\":\"1155\"},\"field\":\"PC_3\",\"formatter\":{\"id\":\"1154\"},\"title\":\"PC 3\"},\"id\":\"1156\",\"type\":\"TableColumn\"},{\"attributes\":{\"format\":\"0,0.0[00000]\"},\"id\":\"1134\",\"type\":\"NumberFormatter\"},{\"attributes\":{\"editor\":{\"id\":\"1130\"},\"field\":\"ProofType\",\"formatter\":{\"id\":\"1129\"},\"title\":\"ProofType\"},\"id\":\"1131\",\"type\":\"TableColumn\"},{\"attributes\":{\"columns\":[{\"id\":\"1126\"},{\"id\":\"1131\"},{\"id\":\"1136\"},{\"id\":\"1141\"},{\"id\":\"1146\"},{\"id\":\"1151\"},{\"id\":\"1156\"},{\"id\":\"1161\"},{\"id\":\"1166\"}],\"height\":300,\"reorderable\":false,\"source\":{\"id\":\"1122\"},\"view\":{\"id\":\"1171\"},\"width\":700},\"id\":\"1169\",\"type\":\"DataTable\"}],\"root_ids\":[\"1120\"]},\"title\":\"Bokeh Application\",\"version\":\"2.4.1\"}};\n",
       "    var render_items = [{\"docid\":\"65cb9b1e-05f5-40bc-baec-509d0483fe80\",\"root_ids\":[\"1120\"],\"roots\":{\"1120\":\"7a53dde7-b1e3-4912-8c05-bd5a6bd5f883\"}}];\n",
       "    root.Bokeh.embed.embed_items_notebook(docs_json, render_items);\n",
       "  }\n",
       "  if (root.Bokeh !== undefined && root.Bokeh.Panel !== undefined) {\n",
       "    embed_document(root);\n",
       "  } else {\n",
       "    var attempts = 0;\n",
       "    var timer = setInterval(function(root) {\n",
       "      if (root.Bokeh !== undefined && root.Bokeh.Panel !== undefined) {\n",
       "        clearInterval(timer);\n",
       "        embed_document(root);\n",
       "      } else if (document.readyState == \"complete\") {\n",
       "        attempts++;\n",
       "        if (attempts > 200) {\n",
       "          clearInterval(timer);\n",
       "          console.log(\"Bokeh: ERROR: Unable to run BokehJS code because BokehJS library is missing\");\n",
       "        }\n",
       "      }\n",
       "    }, 25, root)\n",
       "  }\n",
       "})(window);</script>"
      ],
      "text/plain": [
       ":Table   [Algorithm,ProofType,TotalCoinsMined,TotalCoinSupply,PC 1,PC 2,PC 3,CoinName,Class]"
      ]
     },
     "execution_count": 40,
     "metadata": {
      "application/vnd.holoviews_exec.v0+json": {
       "id": "1120"
      }
     },
     "output_type": "execute_result"
    }
   ],
   "source": [
    "# Create a table with tradable cryptocurrencies.\n",
    "clustered_df.hvplot.table(sortable=True, selectable=True)"
   ]
  },
  {
   "cell_type": "code",
   "execution_count": 41,
   "id": "c01158b7",
   "metadata": {},
   "outputs": [
    {
     "name": "stdout",
     "output_type": "stream",
     "text": [
      "<bound method DataFrame.count of         Algorithm ProofType  TotalCoinsMined TotalCoinSupply      PC 1  \\\n",
      "42         Scrypt   PoW/PoS     4.199995e+01              42 -0.369053   \n",
      "404        Scrypt   PoW/PoS     1.055185e+09       532000000 -0.352455   \n",
      "1337          X13   PoW/PoS     2.927942e+10    314159265359  2.278782   \n",
      "BTC       SHA-256       PoW     1.792718e+07        21000000 -0.141245   \n",
      "ETH        Ethash       PoW     1.076842e+08               0 -0.134430   \n",
      "...           ...       ...              ...             ...       ...   \n",
      "ZEPH      SHA-256      DPoS     2.000000e+09      2000000000  2.512266   \n",
      "GAP        Scrypt   PoW/PoS     1.493105e+07       250000000 -0.367105   \n",
      "BDX   CryptoNight       PoW     9.802226e+08      1400222610  0.320870   \n",
      "ZEN      Equihash       PoW     7.296538e+06        21000000 -0.110493   \n",
      "XBC        Scrypt       PoS     1.283270e+05         1000000 -0.284581   \n",
      "\n",
      "          PC 2      PC 3     CoinName  Class  \n",
      "42    1.108111 -0.386043      42 Coin      0  \n",
      "404   1.108299 -0.386404      404Coin      0  \n",
      "1337  1.709272 -0.469173    EliteCoin      0  \n",
      "BTC  -1.331397  0.118833      Bitcoin      3  \n",
      "ETH  -2.084970  0.220158     Ethereum      3  \n",
      "...        ...       ...          ...    ...  \n",
      "ZEPH  0.777917 -0.131523       ZEPHYR      0  \n",
      "GAP   1.107994 -0.386061      Gapcoin      0  \n",
      "BDX  -2.351835  0.315046       Beldex      3  \n",
      "ZEN  -2.127427  0.271571      Horizen      3  \n",
      "XBC   0.829625 -0.188449  BitcoinPlus      0  \n",
      "\n",
      "[532 rows x 9 columns]>\n"
     ]
    }
   ],
   "source": [
    "# Print the total number of tradable cryptocurrencies.\n",
    "print(clustered_df.count)"
   ]
  },
  {
   "cell_type": "code",
   "execution_count": 42,
   "id": "816f619a",
   "metadata": {},
   "outputs": [
    {
     "data": {
      "text/plain": [
       "array([[4.20000000e-11, 0.00000000e+00],\n",
       "       [5.32000000e-04, 1.06585544e-03],\n",
       "       [3.14159265e-01, 2.95755135e-02],\n",
       "       ...,\n",
       "       [1.40022261e-03, 9.90135079e-04],\n",
       "       [2.10000000e-05, 7.37028150e-06],\n",
       "       [1.00000000e-06, 1.29582282e-07]])"
      ]
     },
     "execution_count": 42,
     "metadata": {},
     "output_type": "execute_result"
    }
   ],
   "source": [
    "# Scaling data to create the scatter plot with tradable cryptocurrencies.\n",
    "scaler = MinMaxScaler().fit_transform(clustered_df[[\"TotalCoinSupply\", \"TotalCoinsMined\"]])\n",
    "scaler"
   ]
  },
  {
   "cell_type": "code",
   "execution_count": 43,
   "id": "bcb52dea",
   "metadata": {},
   "outputs": [
    {
     "data": {
      "text/html": [
       "<div>\n",
       "<style scoped>\n",
       "    .dataframe tbody tr th:only-of-type {\n",
       "        vertical-align: middle;\n",
       "    }\n",
       "\n",
       "    .dataframe tbody tr th {\n",
       "        vertical-align: top;\n",
       "    }\n",
       "\n",
       "    .dataframe thead th {\n",
       "        text-align: right;\n",
       "    }\n",
       "</style>\n",
       "<table border=\"1\" class=\"dataframe\">\n",
       "  <thead>\n",
       "    <tr style=\"text-align: right;\">\n",
       "      <th></th>\n",
       "      <th>TotalCoinSupply</th>\n",
       "      <th>TotalCoinsMined</th>\n",
       "      <th>CoinName</th>\n",
       "      <th>Class</th>\n",
       "    </tr>\n",
       "  </thead>\n",
       "  <tbody>\n",
       "    <tr>\n",
       "      <th>42</th>\n",
       "      <td>4.200000e-11</td>\n",
       "      <td>0.000000</td>\n",
       "      <td>42 Coin</td>\n",
       "      <td>0</td>\n",
       "    </tr>\n",
       "    <tr>\n",
       "      <th>404</th>\n",
       "      <td>5.320000e-04</td>\n",
       "      <td>0.001066</td>\n",
       "      <td>404Coin</td>\n",
       "      <td>0</td>\n",
       "    </tr>\n",
       "    <tr>\n",
       "      <th>1337</th>\n",
       "      <td>3.141593e-01</td>\n",
       "      <td>0.029576</td>\n",
       "      <td>EliteCoin</td>\n",
       "      <td>0</td>\n",
       "    </tr>\n",
       "    <tr>\n",
       "      <th>BTC</th>\n",
       "      <td>2.100000e-05</td>\n",
       "      <td>0.000018</td>\n",
       "      <td>Bitcoin</td>\n",
       "      <td>3</td>\n",
       "    </tr>\n",
       "    <tr>\n",
       "      <th>ETH</th>\n",
       "      <td>0.000000e+00</td>\n",
       "      <td>0.000109</td>\n",
       "      <td>Ethereum</td>\n",
       "      <td>3</td>\n",
       "    </tr>\n",
       "  </tbody>\n",
       "</table>\n",
       "</div>"
      ],
      "text/plain": [
       "      TotalCoinSupply  TotalCoinsMined   CoinName  Class\n",
       "42       4.200000e-11         0.000000    42 Coin      0\n",
       "404      5.320000e-04         0.001066    404Coin      0\n",
       "1337     3.141593e-01         0.029576  EliteCoin      0\n",
       "BTC      2.100000e-05         0.000018    Bitcoin      3\n",
       "ETH      0.000000e+00         0.000109   Ethereum      3"
      ]
     },
     "execution_count": 43,
     "metadata": {},
     "output_type": "execute_result"
    }
   ],
   "source": [
    "# Create a new DataFrame that has the scaled data with the clustered_df DataFrame index.\n",
    "new_df = pd.DataFrame(data=scaler, columns=[\"TotalCoinSupply\", \"TotalCoinsMined\",], index=clustered_df.index)\n",
    "\n",
    "# Add the \"CoinName\" column from the clustered_df DataFrame to the new DataFrame.\n",
    "new_df = pd.concat([new_df, clustered_df[\"CoinName\"]], axis=1, sort=False)\n",
    "\n",
    "# Add the \"Class\" column from the clustered_df DataFrame to the new DataFrame. \n",
    "new_df = pd.concat([new_df, clustered_df[\"Class\"]], axis=1, sort=False)\n",
    "\n",
    "plot_df = new_df\n",
    "\n",
    "plot_df.head(5)"
   ]
  },
  {
   "cell_type": "code",
   "execution_count": 46,
   "id": "f6c25dd7",
   "metadata": {},
   "outputs": [
    {
     "data": {},
     "metadata": {},
     "output_type": "display_data"
    },
    {
     "data": {
      "application/vnd.holoviews_exec.v0+json": "",
      "text/html": [
       "<div id='1188'>\n",
       "\n",
       "\n",
       "\n",
       "\n",
       "\n",
       "  <div class=\"bk-root\" id=\"cf89aa63-360a-4cab-9ae4-24c5ab4f6418\" data-root-id=\"1188\"></div>\n",
       "</div>\n",
       "<script type=\"application/javascript\">(function(root) {\n",
       "  function embed_document(root) {\n",
       "    var docs_json = {\"14aabd20-ae3c-4d98-add7-2ccf6db977a0\":{\"defs\":[{\"extends\":null,\"module\":null,\"name\":\"ReactiveHTML1\",\"overrides\":[],\"properties\":[]},{\"extends\":null,\"module\":null,\"name\":\"FlexBox1\",\"overrides\":[],\"properties\":[{\"default\":\"flex-start\",\"kind\":null,\"name\":\"align_content\"},{\"default\":\"flex-start\",\"kind\":null,\"name\":\"align_items\"},{\"default\":\"row\",\"kind\":null,\"name\":\"flex_direction\"},{\"default\":\"wrap\",\"kind\":null,\"name\":\"flex_wrap\"},{\"default\":\"flex-start\",\"kind\":null,\"name\":\"justify_content\"}]},{\"extends\":null,\"module\":null,\"name\":\"TemplateActions1\",\"overrides\":[],\"properties\":[{\"default\":0,\"kind\":null,\"name\":\"open_modal\"},{\"default\":0,\"kind\":null,\"name\":\"close_modal\"}]},{\"extends\":null,\"module\":null,\"name\":\"MaterialTemplateActions1\",\"overrides\":[],\"properties\":[{\"default\":0,\"kind\":null,\"name\":\"open_modal\"},{\"default\":0,\"kind\":null,\"name\":\"close_modal\"}]}],\"roots\":{\"references\":[{\"attributes\":{},\"id\":\"1201\",\"type\":\"LinearScale\"},{\"attributes\":{},\"id\":\"1228\",\"type\":\"AllLabels\"},{\"attributes\":{\"angle\":{\"value\":0.0},\"fill_alpha\":{\"value\":1.0},\"fill_color\":{\"value\":\"#e5ae38\"},\"hatch_alpha\":{\"value\":1.0},\"hatch_color\":{\"value\":\"#e5ae38\"},\"hatch_scale\":{\"value\":12.0},\"hatch_weight\":{\"value\":1.0},\"line_alpha\":{\"value\":1.0},\"line_cap\":{\"value\":\"butt\"},\"line_color\":{\"value\":\"#e5ae38\"},\"line_dash\":{\"value\":[]},\"line_dash_offset\":{\"value\":0},\"line_join\":{\"value\":\"bevel\"},\"line_width\":{\"value\":1},\"marker\":{\"value\":\"circle\"},\"size\":{\"value\":5.477225575051661},\"x\":{\"field\":\"TotalCoinsMined\"},\"y\":{\"field\":\"TotalCoinSupply\"}},\"id\":\"1298\",\"type\":\"Scatter\"},{\"attributes\":{},\"id\":\"1213\",\"type\":\"SaveTool\"},{\"attributes\":{\"fill_alpha\":{\"value\":0.2},\"fill_color\":{\"value\":\"#30a2da\"},\"hatch_alpha\":{\"value\":0.2},\"hatch_color\":{\"value\":\"#30a2da\"},\"line_alpha\":{\"value\":0.2},\"line_color\":{\"value\":\"#30a2da\"},\"size\":{\"value\":5.477225575051661},\"x\":{\"field\":\"TotalCoinsMined\"},\"y\":{\"field\":\"TotalCoinSupply\"}},\"id\":\"1237\",\"type\":\"Scatter\"},{\"attributes\":{},\"id\":\"1214\",\"type\":\"PanTool\"},{\"attributes\":{},\"id\":\"1217\",\"type\":\"ResetTool\"},{\"attributes\":{},\"id\":\"1215\",\"type\":\"WheelZoomTool\"},{\"attributes\":{\"source\":{\"id\":\"1232\"}},\"id\":\"1239\",\"type\":\"CDSView\"},{\"attributes\":{\"label\":{\"value\":\"3\"},\"renderers\":[{\"id\":\"1305\"}]},\"id\":\"1323\",\"type\":\"LegendItem\"},{\"attributes\":{\"overlay\":{\"id\":\"1218\"}},\"id\":\"1216\",\"type\":\"BoxZoomTool\"},{\"attributes\":{\"angle\":{\"value\":0.0},\"fill_alpha\":{\"value\":1.0},\"fill_color\":{\"value\":\"#30a2da\"},\"hatch_alpha\":{\"value\":1.0},\"hatch_color\":{\"value\":\"#30a2da\"},\"hatch_scale\":{\"value\":12.0},\"hatch_weight\":{\"value\":1.0},\"line_alpha\":{\"value\":1.0},\"line_cap\":{\"value\":\"butt\"},\"line_color\":{\"value\":\"#30a2da\"},\"line_dash\":{\"value\":[]},\"line_dash_offset\":{\"value\":0},\"line_join\":{\"value\":\"bevel\"},\"line_width\":{\"value\":1},\"marker\":{\"value\":\"circle\"},\"size\":{\"value\":5.477225575051661},\"x\":{\"field\":\"TotalCoinsMined\"},\"y\":{\"field\":\"TotalCoinSupply\"}},\"id\":\"1252\",\"type\":\"Scatter\"},{\"attributes\":{\"fill_alpha\":{\"value\":0.2},\"fill_color\":{\"value\":\"#6d904f\"},\"hatch_alpha\":{\"value\":0.2},\"hatch_color\":{\"value\":\"#6d904f\"},\"line_alpha\":{\"value\":0.2},\"line_color\":{\"value\":\"#6d904f\"},\"size\":{\"value\":5.477225575051661},\"x\":{\"field\":\"TotalCoinsMined\"},\"y\":{\"field\":\"TotalCoinSupply\"}},\"id\":\"1304\",\"type\":\"Scatter\"},{\"attributes\":{\"callback\":null,\"renderers\":[{\"id\":\"1238\"},{\"id\":\"1259\"},{\"id\":\"1281\"},{\"id\":\"1305\"}],\"tags\":[\"hv_created\"],\"tooltips\":[[\"Class\",\"@{Class}\"],[\"TotalCoinsMined\",\"@{TotalCoinsMined}\"],[\"TotalCoinSupply\",\"@{TotalCoinSupply}\"],[\"CoinName\",\"@{CoinName}\"]]},\"id\":\"1192\",\"type\":\"HoverTool\"},{\"attributes\":{},\"id\":\"1300\",\"type\":\"Selection\"},{\"attributes\":{\"below\":[{\"id\":\"1205\"}],\"center\":[{\"id\":\"1208\"},{\"id\":\"1212\"}],\"height\":300,\"left\":[{\"id\":\"1209\"}],\"margin\":[5,5,5,5],\"min_border_bottom\":10,\"min_border_left\":10,\"min_border_right\":10,\"min_border_top\":10,\"renderers\":[{\"id\":\"1238\"},{\"id\":\"1259\"},{\"id\":\"1281\"},{\"id\":\"1305\"}],\"right\":[{\"id\":\"1250\"}],\"sizing_mode\":\"fixed\",\"title\":{\"id\":\"1197\"},\"toolbar\":{\"id\":\"1219\"},\"width\":700,\"x_range\":{\"id\":\"1190\"},\"x_scale\":{\"id\":\"1201\"},\"y_range\":{\"id\":\"1191\"},\"y_scale\":{\"id\":\"1203\"}},\"id\":\"1196\",\"subtype\":\"Figure\",\"type\":\"Plot\"},{\"attributes\":{},\"id\":\"1247\",\"type\":\"UnionRenderers\"},{\"attributes\":{\"fill_color\":{\"value\":\"#e5ae38\"},\"hatch_color\":{\"value\":\"#e5ae38\"},\"line_color\":{\"value\":\"#e5ae38\"},\"size\":{\"value\":5.477225575051661},\"x\":{\"field\":\"TotalCoinsMined\"},\"y\":{\"field\":\"TotalCoinSupply\"}},\"id\":\"1278\",\"type\":\"Scatter\"},{\"attributes\":{\"source\":{\"id\":\"1299\"}},\"id\":\"1306\",\"type\":\"CDSView\"},{\"attributes\":{\"end\":1.1,\"reset_end\":1.1,\"reset_start\":-0.1,\"start\":-0.1,\"tags\":[[[\"TotalCoinSupply\",\"TotalCoinSupply\",null]]]},\"id\":\"1191\",\"type\":\"Range1d\"},{\"attributes\":{\"coordinates\":null,\"data_source\":{\"id\":\"1275\"},\"glyph\":{\"id\":\"1278\"},\"group\":null,\"hover_glyph\":null,\"muted_glyph\":{\"id\":\"1280\"},\"nonselection_glyph\":{\"id\":\"1279\"},\"selection_glyph\":{\"id\":\"1298\"},\"view\":{\"id\":\"1282\"}},\"id\":\"1281\",\"type\":\"GlyphRenderer\"},{\"attributes\":{},\"id\":\"1231\",\"type\":\"AllLabels\"},{\"attributes\":{},\"id\":\"1294\",\"type\":\"UnionRenderers\"},{\"attributes\":{\"coordinates\":null,\"data_source\":{\"id\":\"1299\"},\"glyph\":{\"id\":\"1302\"},\"group\":null,\"hover_glyph\":null,\"muted_glyph\":{\"id\":\"1304\"},\"nonselection_glyph\":{\"id\":\"1303\"},\"selection_glyph\":{\"id\":\"1324\"},\"view\":{\"id\":\"1306\"}},\"id\":\"1305\",\"type\":\"GlyphRenderer\"},{\"attributes\":{},\"id\":\"1230\",\"type\":\"BasicTickFormatter\"},{\"attributes\":{\"label\":{\"value\":\"0\"},\"renderers\":[{\"id\":\"1238\"}]},\"id\":\"1251\",\"type\":\"LegendItem\"},{\"attributes\":{\"bottom_units\":\"screen\",\"coordinates\":null,\"fill_alpha\":0.5,\"fill_color\":\"lightgrey\",\"group\":null,\"left_units\":\"screen\",\"level\":\"overlay\",\"line_alpha\":1.0,\"line_color\":\"black\",\"line_dash\":[4,4],\"line_width\":2,\"right_units\":\"screen\",\"syncable\":false,\"top_units\":\"screen\"},\"id\":\"1218\",\"type\":\"BoxAnnotation\"},{\"attributes\":{\"fill_color\":{\"value\":\"#fc4f30\"},\"hatch_color\":{\"value\":\"#fc4f30\"},\"line_color\":{\"value\":\"#fc4f30\"},\"size\":{\"value\":5.477225575051661},\"x\":{\"field\":\"TotalCoinsMined\"},\"y\":{\"field\":\"TotalCoinSupply\"}},\"id\":\"1256\",\"type\":\"Scatter\"},{\"attributes\":{\"margin\":[5,5,5,5],\"name\":\"HSpacer02291\",\"sizing_mode\":\"stretch_width\"},\"id\":\"1189\",\"type\":\"Spacer\"},{\"attributes\":{\"axis\":{\"id\":\"1205\"},\"coordinates\":null,\"grid_line_color\":null,\"group\":null,\"ticker\":null},\"id\":\"1208\",\"type\":\"Grid\"},{\"attributes\":{\"coordinates\":null,\"data_source\":{\"id\":\"1232\"},\"glyph\":{\"id\":\"1235\"},\"group\":null,\"hover_glyph\":null,\"muted_glyph\":{\"id\":\"1237\"},\"nonselection_glyph\":{\"id\":\"1236\"},\"selection_glyph\":{\"id\":\"1252\"},\"view\":{\"id\":\"1239\"}},\"id\":\"1238\",\"type\":\"GlyphRenderer\"},{\"attributes\":{\"tools\":[{\"id\":\"1192\"},{\"id\":\"1213\"},{\"id\":\"1214\"},{\"id\":\"1215\"},{\"id\":\"1216\"},{\"id\":\"1217\"}]},\"id\":\"1219\",\"type\":\"Toolbar\"},{\"attributes\":{\"source\":{\"id\":\"1275\"}},\"id\":\"1282\",\"type\":\"CDSView\"},{\"attributes\":{\"source\":{\"id\":\"1253\"}},\"id\":\"1260\",\"type\":\"CDSView\"},{\"attributes\":{\"coordinates\":null,\"data_source\":{\"id\":\"1253\"},\"glyph\":{\"id\":\"1256\"},\"group\":null,\"hover_glyph\":null,\"muted_glyph\":{\"id\":\"1258\"},\"nonselection_glyph\":{\"id\":\"1257\"},\"selection_glyph\":{\"id\":\"1274\"},\"view\":{\"id\":\"1260\"}},\"id\":\"1259\",\"type\":\"GlyphRenderer\"},{\"attributes\":{\"click_policy\":\"mute\",\"coordinates\":null,\"group\":null,\"items\":[{\"id\":\"1251\"},{\"id\":\"1273\"},{\"id\":\"1297\"},{\"id\":\"1323\"}],\"location\":[0,0],\"title\":\"Class\"},\"id\":\"1250\",\"type\":\"Legend\"},{\"attributes\":{\"fill_alpha\":{\"value\":0.1},\"fill_color\":{\"value\":\"#30a2da\"},\"hatch_alpha\":{\"value\":0.1},\"hatch_color\":{\"value\":\"#30a2da\"},\"line_alpha\":{\"value\":0.1},\"line_color\":{\"value\":\"#30a2da\"},\"size\":{\"value\":5.477225575051661},\"x\":{\"field\":\"TotalCoinsMined\"},\"y\":{\"field\":\"TotalCoinSupply\"}},\"id\":\"1236\",\"type\":\"Scatter\"},{\"attributes\":{},\"id\":\"1227\",\"type\":\"BasicTickFormatter\"},{\"attributes\":{\"fill_alpha\":{\"value\":0.2},\"fill_color\":{\"value\":\"#fc4f30\"},\"hatch_alpha\":{\"value\":0.2},\"hatch_color\":{\"value\":\"#fc4f30\"},\"line_alpha\":{\"value\":0.2},\"line_color\":{\"value\":\"#fc4f30\"},\"size\":{\"value\":5.477225575051661},\"x\":{\"field\":\"TotalCoinsMined\"},\"y\":{\"field\":\"TotalCoinSupply\"}},\"id\":\"1258\",\"type\":\"Scatter\"},{\"attributes\":{\"angle\":{\"value\":0.0},\"fill_alpha\":{\"value\":1.0},\"fill_color\":{\"value\":\"#6d904f\"},\"hatch_alpha\":{\"value\":1.0},\"hatch_color\":{\"value\":\"#6d904f\"},\"hatch_scale\":{\"value\":12.0},\"hatch_weight\":{\"value\":1.0},\"line_alpha\":{\"value\":1.0},\"line_cap\":{\"value\":\"butt\"},\"line_color\":{\"value\":\"#6d904f\"},\"line_dash\":{\"value\":[]},\"line_dash_offset\":{\"value\":0},\"line_join\":{\"value\":\"bevel\"},\"line_width\":{\"value\":1},\"marker\":{\"value\":\"circle\"},\"size\":{\"value\":5.477225575051661},\"x\":{\"field\":\"TotalCoinsMined\"},\"y\":{\"field\":\"TotalCoinSupply\"}},\"id\":\"1324\",\"type\":\"Scatter\"},{\"attributes\":{\"label\":{\"value\":\"1\"},\"renderers\":[{\"id\":\"1259\"}]},\"id\":\"1273\",\"type\":\"LegendItem\"},{\"attributes\":{\"end\":1.042857142857143,\"reset_end\":1.042857142857143,\"reset_start\":-0.04285714285714286,\"start\":-0.04285714285714286,\"tags\":[[[\"TotalCoinsMined\",\"TotalCoinsMined\",null]]]},\"id\":\"1190\",\"type\":\"Range1d\"},{\"attributes\":{\"margin\":[5,5,5,5],\"name\":\"HSpacer02292\",\"sizing_mode\":\"stretch_width\"},\"id\":\"1469\",\"type\":\"Spacer\"},{\"attributes\":{\"label\":{\"value\":\"2\"},\"renderers\":[{\"id\":\"1281\"}]},\"id\":\"1297\",\"type\":\"LegendItem\"},{\"attributes\":{},\"id\":\"1206\",\"type\":\"BasicTicker\"},{\"attributes\":{},\"id\":\"1270\",\"type\":\"UnionRenderers\"},{\"attributes\":{\"fill_alpha\":{\"value\":0.1},\"fill_color\":{\"value\":\"#fc4f30\"},\"hatch_alpha\":{\"value\":0.1},\"hatch_color\":{\"value\":\"#fc4f30\"},\"line_alpha\":{\"value\":0.1},\"line_color\":{\"value\":\"#fc4f30\"},\"size\":{\"value\":5.477225575051661},\"x\":{\"field\":\"TotalCoinsMined\"},\"y\":{\"field\":\"TotalCoinSupply\"}},\"id\":\"1257\",\"type\":\"Scatter\"},{\"attributes\":{\"fill_color\":{\"value\":\"#6d904f\"},\"hatch_color\":{\"value\":\"#6d904f\"},\"line_color\":{\"value\":\"#6d904f\"},\"size\":{\"value\":5.477225575051661},\"x\":{\"field\":\"TotalCoinsMined\"},\"y\":{\"field\":\"TotalCoinSupply\"}},\"id\":\"1302\",\"type\":\"Scatter\"},{\"attributes\":{\"fill_alpha\":{\"value\":0.1},\"fill_color\":{\"value\":\"#e5ae38\"},\"hatch_alpha\":{\"value\":0.1},\"hatch_color\":{\"value\":\"#e5ae38\"},\"line_alpha\":{\"value\":0.1},\"line_color\":{\"value\":\"#e5ae38\"},\"size\":{\"value\":5.477225575051661},\"x\":{\"field\":\"TotalCoinsMined\"},\"y\":{\"field\":\"TotalCoinSupply\"}},\"id\":\"1279\",\"type\":\"Scatter\"},{\"attributes\":{\"coordinates\":null,\"group\":null,\"text_color\":\"black\",\"text_font_size\":\"12pt\"},\"id\":\"1197\",\"type\":\"Title\"},{\"attributes\":{\"fill_alpha\":{\"value\":0.2},\"fill_color\":{\"value\":\"#e5ae38\"},\"hatch_alpha\":{\"value\":0.2},\"hatch_color\":{\"value\":\"#e5ae38\"},\"line_alpha\":{\"value\":0.2},\"line_color\":{\"value\":\"#e5ae38\"},\"size\":{\"value\":5.477225575051661},\"x\":{\"field\":\"TotalCoinsMined\"},\"y\":{\"field\":\"TotalCoinSupply\"}},\"id\":\"1280\",\"type\":\"Scatter\"},{\"attributes\":{},\"id\":\"1210\",\"type\":\"BasicTicker\"},{\"attributes\":{\"fill_alpha\":{\"value\":0.1},\"fill_color\":{\"value\":\"#6d904f\"},\"hatch_alpha\":{\"value\":0.1},\"hatch_color\":{\"value\":\"#6d904f\"},\"line_alpha\":{\"value\":0.1},\"line_color\":{\"value\":\"#6d904f\"},\"size\":{\"value\":5.477225575051661},\"x\":{\"field\":\"TotalCoinsMined\"},\"y\":{\"field\":\"TotalCoinSupply\"}},\"id\":\"1303\",\"type\":\"Scatter\"},{\"attributes\":{},\"id\":\"1320\",\"type\":\"UnionRenderers\"},{\"attributes\":{},\"id\":\"1203\",\"type\":\"LinearScale\"},{\"attributes\":{\"axis_label\":\"TotalCoinSupply\",\"coordinates\":null,\"formatter\":{\"id\":\"1230\"},\"group\":null,\"major_label_policy\":{\"id\":\"1231\"},\"ticker\":{\"id\":\"1210\"}},\"id\":\"1209\",\"type\":\"LinearAxis\"},{\"attributes\":{},\"id\":\"1276\",\"type\":\"Selection\"},{\"attributes\":{\"axis_label\":\"TotalCoinsMined\",\"coordinates\":null,\"formatter\":{\"id\":\"1227\"},\"group\":null,\"major_label_policy\":{\"id\":\"1228\"},\"ticker\":{\"id\":\"1206\"}},\"id\":\"1205\",\"type\":\"LinearAxis\"},{\"attributes\":{\"data\":{\"Class\":[1,1],\"CoinName\":[\"BiblePay\",\"Acute Angle Cloud\"],\"TotalCoinSupply\":{\"__ndarray__\":\"lPYGX5hMdT/8qfHSTWJQPw==\",\"dtype\":\"float64\",\"order\":\"little\",\"shape\":[2]},\"TotalCoinsMined\":{\"__ndarray__\":\"j1gNkdpTXT96Q0MFuIxQPw==\",\"dtype\":\"float64\",\"order\":\"little\",\"shape\":[2]}},\"selected\":{\"id\":\"1254\"},\"selection_policy\":{\"id\":\"1270\"}},\"id\":\"1253\",\"type\":\"ColumnDataSource\"},{\"attributes\":{},\"id\":\"1254\",\"type\":\"Selection\"},{\"attributes\":{\"axis\":{\"id\":\"1209\"},\"coordinates\":null,\"dimension\":1,\"grid_line_color\":null,\"group\":null,\"ticker\":null},\"id\":\"1212\",\"type\":\"Grid\"},{\"attributes\":{\"data\":{\"Class\":[0,0,0,0,0,0,0,0,0,0,0,0,0,0,0,0,0,0,0,0,0,0,0,0,0,0,0,0,0,0,0,0,0,0,0,0,0,0,0,0,0,0,0,0,0,0,0,0,0,0,0,0,0,0,0,0,0,0,0,0,0,0,0,0,0,0,0,0,0,0,0,0,0,0,0,0,0,0,0,0,0,0,0,0,0,0,0,0,0,0,0,0,0,0,0,0,0,0,0,0,0,0,0,0,0,0,0,0,0,0,0,0,0,0,0,0,0,0,0,0,0,0,0,0,0,0,0,0,0,0,0,0,0,0,0,0,0,0,0,0,0,0,0,0,0,0,0,0,0,0,0,0,0,0,0,0,0,0,0,0,0,0,0,0,0,0,0,0,0,0,0,0,0,0,0,0,0,0,0,0,0,0,0,0,0,0,0,0,0,0,0,0,0,0,0,0,0,0,0,0,0,0,0,0,0,0,0,0,0,0,0,0,0,0,0,0,0,0,0,0,0,0,0,0,0,0,0,0,0,0,0,0,0,0,0,0,0,0,0,0,0,0,0,0,0,0,0,0,0,0,0,0,0,0,0,0,0,0,0,0,0,0,0,0,0,0,0,0,0,0,0,0,0,0,0,0,0,0,0,0,0,0,0,0,0,0,0,0,0],\"CoinName\":[\"42 Coin\",\"404Coin\",\"EliteCoin\",\"Dash\",\"Bitshares\",\"BitcoinDark\",\"PayCoin\",\"KoboCoin\",\"Aurora Coin\",\"BlueCoin\",\"EnergyCoin\",\"BitBar\",\"CryptoBullion\",\"CasinoCoin\",\"Diamond\",\"Exclusive Coin\",\"FlutterCoin\",\"HoboNickels\",\"HyperStake\",\"IOCoin\",\"MaxCoin\",\"MintCoin\",\"MazaCoin\",\"Nautilus Coin\",\"NavCoin\",\"OpalCoin\",\"Orbitcoin\",\"PotCoin\",\"PhoenixCoin\",\"Reddcoin\",\"SuperCoin\",\"SyncCoin\",\"TeslaCoin\",\"TittieCoin\",\"TorCoin\",\"UnitaryStatus Dollar\",\"UltraCoin\",\"VeriCoin\",\"X11 Coin\",\"Crypti\",\"StealthCoin\",\"ZCC Coin\",\"BurstCoin\",\"StorjCoin\",\"Neutron\",\"FairCoin\",\"RubyCoin\",\"Kore\",\"Dnotes\",\"8BIT Coin\",\"Sativa Coin\",\"Ucoin\",\"Vtorrent\",\"IslaCoin\",\"Nexus\",\"Droidz\",\"Squall Coin\",\"Diggits\",\"Paycon\",\"Emercoin\",\"EverGreenCoin\",\"Decred\",\"EDRCoin\",\"Hitcoin\",\"DubaiCoin\",\"PWR Coin\",\"BillaryCoin\",\"GPU Coin\",\"EuropeCoin\",\"ZeitCoin\",\"SwingCoin\",\"SafeExchangeCoin\",\"Nebuchadnezzar\",\"Ratecoin\",\"Revenu\",\"Clockcoin\",\"VIP Tokens\",\"BitSend\",\"Let it Ride\",\"PutinCoin\",\"iBankCoin\",\"Frankywillcoin\",\"MudraCoin\",\"Lutetium Coin\",\"GoldBlocks\",\"CarterCoin\",\"BitTokens\",\"MustangCoin\",\"ZoneCoin\",\"RootCoin\",\"BitCurrency\",\"Swiscoin\",\"BuzzCoin\",\"Opair\",\"PesoBit\",\"Halloween Coin\",\"CoffeeCoin\",\"RoyalCoin\",\"GanjaCoin V2\",\"TeamUP\",\"LanaCoin\",\"ARK\",\"InsaneCoin\",\"EmberCoin\",\"XenixCoin\",\"FreeCoin\",\"PLNCoin\",\"AquariusCoin\",\"Creatio\",\"Eternity\",\"Eurocoin\",\"BitcoinFast\",\"Stakenet\",\"BitConnect Coin\",\"MoneyCoin\",\"Enigma\",\"Russiacoin\",\"PandaCoin\",\"GameUnits\",\"GAKHcoin\",\"Allsafe\",\"LiteCreed\",\"Klingon Empire Darsek\",\"Internet of People\",\"KushCoin\",\"Printerium\",\"Impeach\",\"Zilbercoin\",\"FirstCoin\",\"FindCoin\",\"OpenChat\",\"RenosCoin\",\"VirtacoinPlus\",\"TajCoin\",\"Impact\",\"Atmos\",\"HappyCoin\",\"MacronCoin\",\"Condensate\",\"Independent Money System\",\"ArgusCoin\",\"LomoCoin\",\"ProCurrency\",\"GoldReserve\",\"GrowthCoin\",\"Phreak\",\"Degas Coin\",\"HTML5 Coin\",\"Ultimate Secure Cash\",\"QTUM\",\"Espers\",\"Denarius\",\"Virta Unique Coin\",\"Bitcoin Planet\",\"BritCoin\",\"Linda\",\"DeepOnion\",\"Signatum\",\"Cream\",\"Monoeci\",\"Draftcoin\",\"Vechain\",\"Stakecoin\",\"CoinonatX\",\"Ethereum Dark\",\"Obsidian\",\"Cardano\",\"Regalcoin\",\"TrezarCoin\",\"TerraNovaCoin\",\"Rupee\",\"WomenCoin\",\"Theresa May Coin\",\"NamoCoin\",\"LUXCoin\",\"Xios\",\"Bitcloud 2.0\",\"KekCoin\",\"BlackholeCoin\",\"Infinity Economics\",\"Magnet\",\"Lamden Tau\",\"Electra\",\"Bitcoin Diamond\",\"Cash & Back Coin\",\"Bulwark\",\"Kalkulus\",\"GermanCoin\",\"LiteCoin Ultra\",\"PhantomX\",\"Digiwage\",\"Trollcoin\",\"Litecoin Plus\",\"Monkey Project\",\"TokenPay\",\"My Big Coin\",\"Unified Society USDEX\",\"Tokyo Coin\",\"LitecoinCash\",\"Stipend\",\"Poa Network\",\"Pushi\",\"Ellerium\",\"Velox\",\"Ontology\",\"Bitspace\",\"Briacoin\",\"Ignition\",\"MedicCoin\",\"Bitcoin Green\",\"Deviant Coin\",\"Abjcoin\",\"Semux\",\"Carebit\",\"Zealium\",\"Proton\",\"iDealCash\",\"Bitcoin Incognito\",\"HollyWoodCoin\",\"Swisscoin\",\"Xt3ch\",\"TheVig\",\"EmaratCoin\",\"Dekado\",\"Lynx\",\"Poseidon Quark\",\"BitcoinWSpectrum\",\"Muse\",\"Trivechain\",\"Dystem\",\"Giant\",\"Peony Coin\",\"Absolute Coin\",\"Vitae\",\"TPCash\",\"ARENON\",\"EUNO\",\"MMOCoin\",\"Ketan\",\"XDNA\",\"PAXEX\",\"ThunderStake\",\"Kcash\",\"Bettex coin\",\"BitMoney\",\"Junson Ming Chan Coin\",\"HerbCoin\",\"Oduwa\",\"Galilel\",\"Crypto Sports\",\"Credit\",\"Dash Platinum\",\"Nasdacoin\",\"Beetle Coin\",\"Titan Coin\",\"Award\",\"Insane Coin\",\"ALAX\",\"LiteDoge\",\"TruckCoin\",\"OrangeCoin\",\"BitstarCoin\",\"NeosCoin\",\"HyperCoin\",\"PinkCoin\",\"AudioCoin\",\"IncaKoin\",\"Piggy Coin\",\"Genstake\",\"XiaoMiCoin\",\"CapriCoin\",\" ClubCoin\",\"Radium\",\"Creditbit \",\"OKCash\",\"Lisk\",\"HiCoin\",\"WhiteCoin\",\"FriendshipCoin\",\"Triangles Coin\",\"EOS\",\"Oxycoin\",\"TigerCash\",\"Waves\",\"Particl\",\"Nxt\",\"ZEPHYR\",\"Gapcoin\",\"BitcoinPlus\"],\"TotalCoinSupply\":{\"__ndarray__\":\"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\",\"dtype\":\"float64\",\"order\":\"little\",\"shape\":[289]},\"TotalCoinsMined\":{\"__ndarray__\":\"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\",\"dtype\":\"float64\",\"order\":\"little\",\"shape\":[289]}},\"selected\":{\"id\":\"1233\"},\"selection_policy\":{\"id\":\"1247\"}},\"id\":\"1232\",\"type\":\"ColumnDataSource\"},{\"attributes\":{\"fill_color\":{\"value\":\"#30a2da\"},\"hatch_color\":{\"value\":\"#30a2da\"},\"line_color\":{\"value\":\"#30a2da\"},\"size\":{\"value\":5.477225575051661},\"x\":{\"field\":\"TotalCoinsMined\"},\"y\":{\"field\":\"TotalCoinSupply\"}},\"id\":\"1235\",\"type\":\"Scatter\"},{\"attributes\":{\"data\":{\"Class\":[3,3,3,3,3,3,3,3,3,3,3,3,3,3,3,3,3,3,3,3,3,3,3,3,3,3,3,3,3,3,3,3,3,3,3,3,3,3,3,3,3,3,3,3,3,3,3,3,3,3,3,3,3,3,3,3,3,3,3,3,3,3,3,3,3,3,3,3,3,3,3,3,3,3,3,3,3,3,3,3,3,3,3,3,3,3,3,3,3,3,3,3,3,3,3,3,3,3,3,3,3,3,3,3,3,3,3,3,3,3,3,3,3,3,3,3,3,3,3,3,3,3,3,3,3,3,3,3,3,3,3,3,3,3,3,3,3,3,3,3,3,3,3,3,3,3,3,3,3,3,3,3,3,3,3,3,3,3,3,3,3,3,3,3,3,3,3,3,3,3,3,3,3,3,3,3,3,3,3,3,3,3,3,3,3,3,3,3,3,3,3,3,3,3,3,3,3,3,3,3,3,3,3,3,3,3,3,3,3,3,3,3,3,3,3,3,3,3,3,3,3,3,3,3,3,3,3,3,3,3,3,3,3,3,3,3,3,3,3,3],\"CoinName\":[\"Bitcoin\",\"Ethereum\",\"Litecoin\",\"Monero\",\"Ethereum Classic\",\"ZCash\",\"DigiByte\",\"ProsperCoin\",\"Spreadcoin\",\"Argentum\",\"MyriadCoin\",\"MoonCoin\",\"ZetaCoin\",\"SexCoin\",\"Quatloo\",\"QuarkCoin\",\"Riecoin\",\"Digitalcoin \",\"Catcoin\",\"CannaCoin\",\"CryptCoin\",\"Verge\",\"DevCoin\",\"EarthCoin\",\"E-Gulden\",\"Einsteinium\",\"Emerald\",\"Franko\",\"FeatherCoin\",\"GrandCoin\",\"GlobalCoin\",\"GoldCoin\",\"Infinite Coin\",\"IXcoin\",\"KrugerCoin\",\"LuckyCoin\",\"Litebar \",\"MegaCoin\",\"MediterraneanCoin\",\"MinCoin\",\"NobleCoin\",\"Namecoin\",\"NyanCoin\",\"RonPaulCoin\",\"StableCoin\",\"SmartCoin\",\"SysCoin\",\"TigerCoin\",\"TerraCoin\",\"UnbreakableCoin\",\"Unobtanium\",\"UroCoin\",\"ViaCoin\",\"Vertcoin\",\"WorldCoin\",\"JouleCoin\",\"ByteCoin\",\"DigitalNote \",\"MonaCoin\",\"Gulden\",\"PesetaCoin\",\"Wild Beast Coin\",\"Flo\",\"ArtByte\",\"Folding Coin\",\"Unitus\",\"CypherPunkCoin\",\"OmniCron\",\"GreenCoin\",\"Cryptonite\",\"MasterCoin\",\"SoonCoin\",\"1Credit\",\"MarsCoin \",\"Crypto\",\"Anarchists Prime\",\"BowsCoin\",\"Song Coin\",\"BitZeny\",\"Expanse\",\"Siacoin\",\"MindCoin\",\"I0coin\",\"Revolution VR\",\"HOdlcoin\",\"Gamecredits\",\"CarpeDiemCoin\",\"Adzcoin\",\"SoilCoin\",\"YoCoin\",\"SibCoin\",\"Francs\",\"BolivarCoin\",\"Omni\",\"PizzaCoin\",\"Komodo\",\"Karbo\",\"ZayedCoin\",\"Circuits of Value\",\"DopeCoin\",\"DollarCoin\",\"Shilling\",\"ZCoin\",\"Elementrem\",\"ZClassic\",\"KiloCoin\",\"ArtexCoin\",\"Kurrent\",\"Cannabis Industry Coin\",\"OsmiumCoin\",\"Bikercoins\",\"HexxCoin\",\"PacCoin\",\"Citadel\",\"BeaverCoin\",\"VaultCoin\",\"Zero\",\"Canada eCoin\",\"Zoin\",\"DubaiCoin\",\"EB3coin\",\"Coinonat\",\"BenjiRolls\",\"ILCoin\",\"EquiTrader\",\"Quantum Resistant Ledger\",\"Dynamic\",\"Nano\",\"ChanCoin\",\"Dinastycoin\",\"DigitalPrice\",\"Unify\",\"SocialCoin\",\"ArcticCoin\",\"DAS\",\"LeviarCoin\",\"Bitcore\",\"gCn Coin\",\"SmartCash\",\"Onix\",\"Bitcoin Cash\",\"Sojourn Coin\",\"NewYorkCoin\",\"FrazCoin\",\"Kronecoin\",\"AdCoin\",\"Linx\",\"Sumokoin\",\"BitcoinZ\",\"Elements\",\"VIVO Coin\",\"Bitcoin Gold\",\"Pirl\",\"eBoost\",\"Pura\",\"Innova\",\"Ellaism\",\"GoByte\",\"SHIELD\",\"UltraNote\",\"BitCoal\",\"DaxxCoin\",\"AC3\",\"Lethean\",\"PopularCoin\",\"Photon\",\"Sucre\",\"SparksPay\",\"GunCoin\",\"IrishCoin\",\"Pioneer Coin\",\"UnitedBitcoin\",\"Interzone\",\"1717 Masonic Commemorative Token\",\"TurtleCoin\",\"MUNcoin\",\"Niobio Cash\",\"ShareChain\",\"Travelflex\",\"KREDS\",\"BitFlip\",\"LottoCoin\",\"Crypto Improvement Fund\",\"Callisto Network\",\"BitTube\",\"Poseidon\",\"Aidos Kuneen\",\"Bitrolium\",\"Alpenschillling\",\"FuturoCoin\",\"Monero Classic\",\"Jumpcoin\",\"Infinex\",\"KEYCO\",\"GINcoin\",\"PlatinCoin\",\"Loki\",\"Newton Coin\",\"MassGrid\",\"PluraCoin\",\"Motion\",\"PlusOneCoin\",\"Axe\",\"HexCoin\",\"Webchain\",\"Ryo\",\"Urals Coin\",\"Qwertycoin\",\"Project Pai\",\"Azart\",\"Xchange\",\"CrypticCoin\",\"Actinium\",\"Bitcoin SV\",\"FREDEnergy\",\"Universal Molecule\",\"Lithium\",\"PirateCash\",\"Exosis\",\"Block-Logic\",\"Beam\",\"Bithereum\",\"SLICE\",\"BLAST\",\"Bitcoin Rhodium\",\"GlobalToken\",\"SolarCoin\",\"UFO Coin\",\"BlakeCoin\",\"Crypto Escudo\",\"Crown Coin\",\"SmileyCoin\",\"Groestlcoin\",\"Bata\",\"Pakcoin\",\"JoinCoin\",\"Vollar\",\"Reality Clash\",\"Beldex\",\"Horizen\"],\"TotalCoinSupply\":{\"__ndarray__\":\"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\",\"dtype\":\"float64\",\"order\":\"little\",\"shape\":[240]},\"TotalCoinsMined\":{\"__ndarray__\":\"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\",\"dtype\":\"float64\",\"order\":\"little\",\"shape\":[240]}},\"selected\":{\"id\":\"1300\"},\"selection_policy\":{\"id\":\"1320\"}},\"id\":\"1299\",\"type\":\"ColumnDataSource\"},{\"attributes\":{\"angle\":{\"value\":0.0},\"fill_alpha\":{\"value\":1.0},\"fill_color\":{\"value\":\"#fc4f30\"},\"hatch_alpha\":{\"value\":1.0},\"hatch_color\":{\"value\":\"#fc4f30\"},\"hatch_scale\":{\"value\":12.0},\"hatch_weight\":{\"value\":1.0},\"line_alpha\":{\"value\":1.0},\"line_cap\":{\"value\":\"butt\"},\"line_color\":{\"value\":\"#fc4f30\"},\"line_dash\":{\"value\":[]},\"line_dash_offset\":{\"value\":0},\"line_join\":{\"value\":\"bevel\"},\"line_width\":{\"value\":1},\"marker\":{\"value\":\"circle\"},\"size\":{\"value\":5.477225575051661},\"x\":{\"field\":\"TotalCoinsMined\"},\"y\":{\"field\":\"TotalCoinSupply\"}},\"id\":\"1274\",\"type\":\"Scatter\"},{\"attributes\":{},\"id\":\"1233\",\"type\":\"Selection\"},{\"attributes\":{\"children\":[{\"id\":\"1189\"},{\"id\":\"1196\"},{\"id\":\"1469\"}],\"margin\":[0,0,0,0],\"name\":\"Row02287\",\"tags\":[\"embedded\"]},\"id\":\"1188\",\"type\":\"Row\"},{\"attributes\":{\"data\":{\"Class\":[2],\"CoinName\":[\"BitTorrent\"],\"TotalCoinSupply\":{\"__ndarray__\":\"rkfhehSu7z8=\",\"dtype\":\"float64\",\"order\":\"little\",\"shape\":[1]},\"TotalCoinsMined\":{\"__ndarray__\":\"AAAAAAAA8D8=\",\"dtype\":\"float64\",\"order\":\"little\",\"shape\":[1]}},\"selected\":{\"id\":\"1276\"},\"selection_policy\":{\"id\":\"1294\"}},\"id\":\"1275\",\"type\":\"ColumnDataSource\"}],\"root_ids\":[\"1188\"]},\"title\":\"Bokeh Application\",\"version\":\"2.4.1\"}};\n",
       "    var render_items = [{\"docid\":\"14aabd20-ae3c-4d98-add7-2ccf6db977a0\",\"root_ids\":[\"1188\"],\"roots\":{\"1188\":\"cf89aa63-360a-4cab-9ae4-24c5ab4f6418\"}}];\n",
       "    root.Bokeh.embed.embed_items_notebook(docs_json, render_items);\n",
       "  }\n",
       "  if (root.Bokeh !== undefined && root.Bokeh.Panel !== undefined) {\n",
       "    embed_document(root);\n",
       "  } else {\n",
       "    var attempts = 0;\n",
       "    var timer = setInterval(function(root) {\n",
       "      if (root.Bokeh !== undefined && root.Bokeh.Panel !== undefined) {\n",
       "        clearInterval(timer);\n",
       "        embed_document(root);\n",
       "      } else if (document.readyState == \"complete\") {\n",
       "        attempts++;\n",
       "        if (attempts > 200) {\n",
       "          clearInterval(timer);\n",
       "          console.log(\"Bokeh: ERROR: Unable to run BokehJS code because BokehJS library is missing\");\n",
       "        }\n",
       "      }\n",
       "    }, 25, root)\n",
       "  }\n",
       "})(window);</script>"
      ],
      "text/plain": [
       ":NdOverlay   [Class]\n",
       "   :Scatter   [TotalCoinsMined]   (TotalCoinSupply,CoinName)"
      ]
     },
     "execution_count": 46,
     "metadata": {
      "application/vnd.holoviews_exec.v0+json": {
       "id": "1188"
      }
     },
     "output_type": "execute_result"
    }
   ],
   "source": [
    "# Create a hvplot.scatter plot using x=\"TotalCoinsMined\" and y=\"TotalCoinSupply\".\n",
    "#Plotting the clusters\n",
    "plot_df.hvplot.scatter(\n",
    "    x=\"TotalCoinsMined\",\n",
    "    y=\"TotalCoinSupply\",\n",
    "    hover_cols=[\"CoinName\"],\n",
    "    by=\"Class\",\n",
    "    figsize=(8, 6)\n",
    ")\n"
   ]
  },
  {
   "cell_type": "code",
   "execution_count": null,
   "id": "ed594b16",
   "metadata": {},
   "outputs": [],
   "source": []
  }
 ],
 "metadata": {
  "kernelspec": {
   "display_name": "mlenv",
   "language": "python",
   "name": "mlenv"
  },
  "language_info": {
   "codemirror_mode": {
    "name": "ipython",
    "version": 3
   },
   "file_extension": ".py",
   "mimetype": "text/x-python",
   "name": "python",
   "nbconvert_exporter": "python",
   "pygments_lexer": "ipython3",
   "version": "3.7.11"
  }
 },
 "nbformat": 4,
 "nbformat_minor": 5
}
